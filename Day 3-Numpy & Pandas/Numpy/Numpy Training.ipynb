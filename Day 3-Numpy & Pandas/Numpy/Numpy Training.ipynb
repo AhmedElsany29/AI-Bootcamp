{
 "cells": [
  {
   "cell_type": "markdown",
   "id": "86c870d6",
   "metadata": {},
   "source": [
    "# Question: Import the NumPy library and assign it the alias `np`."
   ]
  },
  {
   "cell_type": "code",
   "execution_count": null,
   "id": "da9d9fe4",
   "metadata": {},
   "outputs": [],
   "source": []
  },
  {
   "cell_type": "markdown",
   "id": "7da708ee",
   "metadata": {},
   "source": [
    "# Question: Create a 1D NumPy array containing the numbers from 0 to 9.\n"
   ]
  },
  {
   "cell_type": "code",
   "execution_count": null,
   "id": "55ce205f",
   "metadata": {},
   "outputs": [],
   "source": []
  },
  {
   "cell_type": "markdown",
   "id": "d135c063",
   "metadata": {},
   "source": [
    "# Question: Print the shape and number of dimensions of the following array:\n",
    "# `array_2d = np.array([[1, 2, 3], [4, 5, 6]])`\n"
   ]
  },
  {
   "cell_type": "code",
   "execution_count": null,
   "id": "2909052c",
   "metadata": {},
   "outputs": [],
   "source": []
  },
  {
   "cell_type": "markdown",
   "id": "b1bc124e",
   "metadata": {},
   "source": [
    "# Question: Access the element at the second row and third column of the following array:\n",
    "# `array = np.array([[10, 20, 30], [40, 50, 60], [70, 80, 90]])`\n"
   ]
  },
  {
   "cell_type": "code",
   "execution_count": null,
   "id": "4bd8db82",
   "metadata": {},
   "outputs": [],
   "source": []
  },
  {
   "cell_type": "markdown",
   "id": "8fd52aaa",
   "metadata": {},
   "source": [
    "# Question: Slice the following array to extract the second column:\n",
    "# `array = np.array([[1, 2, 3], [4, 5, 6], [7, 8, 9]])`"
   ]
  },
  {
   "cell_type": "code",
   "execution_count": null,
   "id": "5e0bc06c",
   "metadata": {},
   "outputs": [],
   "source": []
  },
  {
   "cell_type": "markdown",
   "id": "2d541435",
   "metadata": {},
   "source": [
    "# Question: Perform element-wise addition, subtraction, multiplication, and division on the following arrays:\n",
    "# `array1 = np.array([1, 2, 3])`\n",
    "# `array2 = np.array([4, 5, 6])`\n"
   ]
  },
  {
   "cell_type": "code",
   "execution_count": null,
   "id": "a96ccdd5",
   "metadata": {},
   "outputs": [],
   "source": []
  },
  {
   "cell_type": "markdown",
   "id": "0c54f72f",
   "metadata": {},
   "source": [
    "# Question: Add the 1D array `[1, 2, 3]` to each row of the following 2D array:\n",
    "# `array = np.array([[10, 20, 30], [40, 50, 60]])`"
   ]
  },
  {
   "cell_type": "code",
   "execution_count": null,
   "id": "7956bc43",
   "metadata": {},
   "outputs": [],
   "source": []
  },
  {
   "cell_type": "markdown",
   "id": "b32cc392",
   "metadata": {},
   "source": [
    "# Question: Calculate the mean, median, and standard deviation of the following array:\n",
    "# `array = np.array([10, 20, 30, 40, 50])`\n"
   ]
  },
  {
   "cell_type": "code",
   "execution_count": null,
   "id": "a80c0eac",
   "metadata": {},
   "outputs": [],
   "source": []
  },
  {
   "cell_type": "markdown",
   "id": "baee9522",
   "metadata": {},
   "source": [
    "# Question: Use Boolean masking to extract all elements greater than 15 from the following array:\n",
    "# `array = np.array([10, 15, 20, 25, 30])`\n"
   ]
  },
  {
   "cell_type": "code",
   "execution_count": null,
   "id": "755e33ba",
   "metadata": {},
   "outputs": [],
   "source": []
  },
  {
   "cell_type": "markdown",
   "id": "b2223b66",
   "metadata": {},
   "source": [
    "# Question: Reshape the following 1D array into a 2x3 2D array:\n",
    "# `array = np.array([1, 2, 3, 4, 5, 6])`\n"
   ]
  },
  {
   "cell_type": "code",
   "execution_count": null,
   "id": "5acbb957",
   "metadata": {},
   "outputs": [],
   "source": []
  },
  {
   "cell_type": "markdown",
   "id": "7f6827df",
   "metadata": {},
   "source": [
    "# Question: Save the following array to a `.npy` file and then load it back:\n",
    "# `array = np.array([100, 200, 300])`\n"
   ]
  },
  {
   "cell_type": "code",
   "execution_count": null,
   "id": "5e9869db",
   "metadata": {},
   "outputs": [],
   "source": []
  },
  {
   "cell_type": "markdown",
   "id": "37da2060",
   "metadata": {},
   "source": [
    "# Question: Generate an array of 5 random numbers from a normal distribution with mean 0 and standard deviation 1.\n"
   ]
  },
  {
   "cell_type": "code",
   "execution_count": null,
   "id": "7b8f91d2",
   "metadata": {},
   "outputs": [],
   "source": []
  }
 ],
 "metadata": {
  "kernelspec": {
   "display_name": "Python 3 (ipykernel)",
   "language": "python",
   "name": "python3"
  },
  "language_info": {
   "codemirror_mode": {
    "name": "ipython",
    "version": 3
   },
   "file_extension": ".py",
   "mimetype": "text/x-python",
   "name": "python",
   "nbconvert_exporter": "python",
   "pygments_lexer": "ipython3",
   "version": "3.11.3"
  },
  "varInspector": {
   "cols": {
    "lenName": 16,
    "lenType": 16,
    "lenVar": 40
   },
   "kernels_config": {
    "python": {
     "delete_cmd_postfix": "",
     "delete_cmd_prefix": "del ",
     "library": "var_list.py",
     "varRefreshCmd": "print(var_dic_list())"
    },
    "r": {
     "delete_cmd_postfix": ") ",
     "delete_cmd_prefix": "rm(",
     "library": "var_list.r",
     "varRefreshCmd": "cat(var_dic_list()) "
    }
   },
   "types_to_exclude": [
    "module",
    "function",
    "builtin_function_or_method",
    "instance",
    "_Feature"
   ],
   "window_display": false
  }
 },
 "nbformat": 4,
 "nbformat_minor": 5
}
