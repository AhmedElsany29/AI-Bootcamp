{
 "cells": [
  {
   "cell_type": "markdown",
   "id": "480d02e4",
   "metadata": {
    "papermill": {
     "duration": 0.013562,
     "end_time": "2022-10-13T18:00:45.893928",
     "exception": false,
     "start_time": "2022-10-13T18:00:45.880366",
     "status": "completed"
    },
    "tags": []
   },
   "source": [
    "# <div class=\"alert alert-block alert-info\" dir=\"rtl\" style=\"text-align: center;\"><strong><span style=\"font-size: 20pt\">NumPy Tutorial <br /></span></strong></div>"
   ]
  },
  {
   "cell_type": "code",
   "execution_count": 1,
   "id": "aacff8ed",
   "metadata": {
    "execution": {
     "iopub.execute_input": "2022-10-13T18:00:45.990422Z",
     "iopub.status.busy": "2022-10-13T18:00:45.989767Z",
     "iopub.status.idle": "2022-10-13T18:00:46.003056Z",
     "shell.execute_reply": "2022-10-13T18:00:46.002095Z"
    },
    "papermill": {
     "duration": 0.029521,
     "end_time": "2022-10-13T18:00:46.005672",
     "exception": false,
     "start_time": "2022-10-13T18:00:45.976151",
     "status": "completed"
    },
    "tags": []
   },
   "outputs": [],
   "source": [
    "import numpy as np"
   ]
  },
  {
   "cell_type": "markdown",
   "id": "d53f0858",
   "metadata": {
    "papermill": {
     "duration": 0.011954,
     "end_time": "2022-10-13T18:00:46.029466",
     "exception": false,
     "start_time": "2022-10-13T18:00:46.017512",
     "status": "completed"
    },
    "tags": []
   },
   "source": [
    "# How to create Arrays in NumPy"
   ]
  },
  {
   "cell_type": "code",
   "execution_count": 2,
   "id": "4d0c94e5",
   "metadata": {
    "execution": {
     "iopub.execute_input": "2022-10-13T18:00:46.055360Z",
     "iopub.status.busy": "2022-10-13T18:00:46.054581Z",
     "iopub.status.idle": "2022-10-13T18:00:46.062542Z",
     "shell.execute_reply": "2022-10-13T18:00:46.061640Z"
    },
    "papermill": {
     "duration": 0.023719,
     "end_time": "2022-10-13T18:00:46.064855",
     "exception": false,
     "start_time": "2022-10-13T18:00:46.041136",
     "status": "completed"
    },
    "tags": []
   },
   "outputs": [
    {
     "name": "stdout",
     "output_type": "stream",
     "text": [
      "[[1 2 3]\n",
      " [4 5 6]\n",
      " [7 8 9]]\n"
     ]
    }
   ],
   "source": [
    "a = np.array([[1, 2, 3], \n",
    "              [4, 5, 6], \n",
    "              [7, 8, 9]])\n",
    "print(a)"
   ]
  },
  {
   "cell_type": "markdown",
   "id": "c9e457d4",
   "metadata": {
    "papermill": {
     "duration": 0.011478,
     "end_time": "2022-10-13T18:00:46.113818",
     "exception": false,
     "start_time": "2022-10-13T18:00:46.102340",
     "status": "completed"
    },
    "tags": []
   },
   "source": [
    "# How to return chosen elements"
   ]
  },
  {
   "cell_type": "code",
   "execution_count": 3,
   "id": "ee6a2328",
   "metadata": {
    "execution": {
     "iopub.execute_input": "2022-10-13T18:00:46.141335Z",
     "iopub.status.busy": "2022-10-13T18:00:46.140518Z",
     "iopub.status.idle": "2022-10-13T18:00:46.146575Z",
     "shell.execute_reply": "2022-10-13T18:00:46.145338Z"
    },
    "papermill": {
     "duration": 0.022098,
     "end_time": "2022-10-13T18:00:46.148880",
     "exception": false,
     "start_time": "2022-10-13T18:00:46.126782",
     "status": "completed"
    },
    "tags": []
   },
   "outputs": [
    {
     "name": "stdout",
     "output_type": "stream",
     "text": [
      "[['11' '11' '11']\n",
      " ['11' 'Py' 'Py']\n",
      " ['Py' 'Py' 'Py']]\n"
     ]
    }
   ],
   "source": [
    "print(np.where(a > 4, 'Py', 11))"
   ]
  },
  {
   "cell_type": "markdown",
   "id": "33d2c101",
   "metadata": {
    "papermill": {
     "duration": 0.011898,
     "end_time": "2022-10-13T18:00:46.172813",
     "exception": false,
     "start_time": "2022-10-13T18:00:46.160915",
     "status": "completed"
    },
    "tags": []
   },
   "source": [
    "This can be used on multidimensional arrays too:"
   ]
  },
  {
   "cell_type": "code",
   "execution_count": 4,
   "id": "63ae78e5",
   "metadata": {
    "execution": {
     "iopub.execute_input": "2022-10-13T18:00:46.199048Z",
     "iopub.status.busy": "2022-10-13T18:00:46.198270Z",
     "iopub.status.idle": "2022-10-13T18:00:46.204858Z",
     "shell.execute_reply": "2022-10-13T18:00:46.203680Z"
    },
    "papermill": {
     "duration": 0.022443,
     "end_time": "2022-10-13T18:00:46.207162",
     "exception": false,
     "start_time": "2022-10-13T18:00:46.184719",
     "status": "completed"
    },
    "tags": []
   },
   "outputs": [
    {
     "name": "stdout",
     "output_type": "stream",
     "text": [
      "[[1 8]\n",
      " [3 4]]\n"
     ]
    }
   ],
   "source": [
    "print(np.where([[True, False], [True, True]],\n",
    "         [[1, 2], [3, 4]],\n",
    "         [[9, 8], [7, 6]]))"
   ]
  },
  {
   "cell_type": "code",
   "execution_count": 5,
   "id": "335bfda9",
   "metadata": {
    "execution": {
     "iopub.execute_input": "2022-10-13T18:00:46.233858Z",
     "iopub.status.busy": "2022-10-13T18:00:46.232922Z",
     "iopub.status.idle": "2022-10-13T18:00:46.239027Z",
     "shell.execute_reply": "2022-10-13T18:00:46.237762Z"
    },
    "papermill": {
     "duration": 0.022621,
     "end_time": "2022-10-13T18:00:46.242214",
     "exception": false,
     "start_time": "2022-10-13T18:00:46.219593",
     "status": "completed"
    },
    "tags": []
   },
   "outputs": [
    {
     "name": "stdout",
     "output_type": "stream",
     "text": [
      "<class 'numpy.ndarray'>\n"
     ]
    }
   ],
   "source": [
    "print(type(a))"
   ]
  },
  {
   "cell_type": "markdown",
   "id": "46db78b7",
   "metadata": {
    "papermill": {
     "duration": 0.011855,
     "end_time": "2022-10-13T18:00:46.290505",
     "exception": false,
     "start_time": "2022-10-13T18:00:46.278650",
     "status": "completed"
    },
    "tags": []
   },
   "source": [
    "# Shape and Reshape in NumPy\n",
    "The numpy. reshape() function allows us to reshape an array in Python. Reshaping basically means, changing the shape of an array. And the shape of an array is determined by the number of elements in each dimension."
   ]
  },
  {
   "cell_type": "code",
   "execution_count": 6,
   "id": "55dc7fed",
   "metadata": {
    "execution": {
     "iopub.execute_input": "2022-10-13T18:00:46.317126Z",
     "iopub.status.busy": "2022-10-13T18:00:46.316717Z",
     "iopub.status.idle": "2022-10-13T18:00:46.322757Z",
     "shell.execute_reply": "2022-10-13T18:00:46.321491Z"
    },
    "papermill": {
     "duration": 0.022059,
     "end_time": "2022-10-13T18:00:46.325161",
     "exception": false,
     "start_time": "2022-10-13T18:00:46.303102",
     "status": "completed"
    },
    "tags": []
   },
   "outputs": [
    {
     "name": "stdout",
     "output_type": "stream",
     "text": [
      "(3, 3)\n"
     ]
    }
   ],
   "source": [
    "print(a.shape)"
   ]
  },
  {
   "cell_type": "code",
   "execution_count": 7,
   "id": "e8cb8e4d",
   "metadata": {
    "execution": {
     "iopub.execute_input": "2022-10-13T18:00:46.358068Z",
     "iopub.status.busy": "2022-10-13T18:00:46.357058Z",
     "iopub.status.idle": "2022-10-13T18:00:46.363374Z",
     "shell.execute_reply": "2022-10-13T18:00:46.362057Z"
    },
    "papermill": {
     "duration": 0.025887,
     "end_time": "2022-10-13T18:00:46.365953",
     "exception": false,
     "start_time": "2022-10-13T18:00:46.340066",
     "status": "completed"
    },
    "tags": []
   },
   "outputs": [
    {
     "name": "stdout",
     "output_type": "stream",
     "text": [
      "<class 'tuple'>\n"
     ]
    }
   ],
   "source": [
    "print(type(a.shape))"
   ]
  },
  {
   "cell_type": "code",
   "execution_count": 8,
   "id": "c4f719d4",
   "metadata": {
    "execution": {
     "iopub.execute_input": "2022-10-13T18:00:46.403747Z",
     "iopub.status.busy": "2022-10-13T18:00:46.402899Z",
     "iopub.status.idle": "2022-10-13T18:00:46.411262Z",
     "shell.execute_reply": "2022-10-13T18:00:46.409955Z"
    },
    "papermill": {
     "duration": 0.035501,
     "end_time": "2022-10-13T18:00:46.416531",
     "exception": false,
     "start_time": "2022-10-13T18:00:46.381030",
     "status": "completed"
    },
    "tags": []
   },
   "outputs": [
    {
     "name": "stdout",
     "output_type": "stream",
     "text": [
      "(2, 3)\n"
     ]
    }
   ],
   "source": [
    "b = np.array([[1, 2, 3], [4, 5, 6]]) \n",
    "print(b.shape)"
   ]
  },
  {
   "cell_type": "code",
   "execution_count": 9,
   "id": "64c2b9a4",
   "metadata": {
    "execution": {
     "iopub.execute_input": "2022-10-13T18:00:46.450007Z",
     "iopub.status.busy": "2022-10-13T18:00:46.448751Z",
     "iopub.status.idle": "2022-10-13T18:00:46.455861Z",
     "shell.execute_reply": "2022-10-13T18:00:46.454356Z"
    },
    "papermill": {
     "duration": 0.028959,
     "end_time": "2022-10-13T18:00:46.458595",
     "exception": false,
     "start_time": "2022-10-13T18:00:46.429636",
     "status": "completed"
    },
    "tags": []
   },
   "outputs": [
    {
     "name": "stdout",
     "output_type": "stream",
     "text": [
      "[[1 2]\n",
      " [3 4]\n",
      " [5 6]]\n"
     ]
    }
   ],
   "source": [
    "print(np.reshape(b, (3, 2)))"
   ]
  },
  {
   "cell_type": "markdown",
   "id": "1a9d50d5",
   "metadata": {
    "papermill": {
     "duration": 0.012634,
     "end_time": "2022-10-13T18:00:46.509028",
     "exception": false,
     "start_time": "2022-10-13T18:00:46.496394",
     "status": "completed"
    },
    "tags": []
   },
   "source": [
    "# Flatten Vs. Ravel\n",
    "Return a copy of the array collapsed into one dimension.\n"
   ]
  },
  {
   "cell_type": "code",
   "execution_count": 10,
   "id": "99db43be",
   "metadata": {
    "execution": {
     "iopub.execute_input": "2022-10-13T18:00:46.537670Z",
     "iopub.status.busy": "2022-10-13T18:00:46.536609Z",
     "iopub.status.idle": "2022-10-13T18:00:46.544063Z",
     "shell.execute_reply": "2022-10-13T18:00:46.542668Z"
    },
    "papermill": {
     "duration": 0.024183,
     "end_time": "2022-10-13T18:00:46.546456",
     "exception": false,
     "start_time": "2022-10-13T18:00:46.522273",
     "status": "completed"
    },
    "tags": []
   },
   "outputs": [
    {
     "name": "stdout",
     "output_type": "stream",
     "text": [
      "[1 2 3 4]\n"
     ]
    }
   ],
   "source": [
    "c = np.array([[1,2], [3,4]])\n",
    "print(c.flatten())"
   ]
  },
  {
   "cell_type": "code",
   "execution_count": 11,
   "id": "b4b02c0d",
   "metadata": {
    "execution": {
     "iopub.execute_input": "2022-10-13T18:00:46.575464Z",
     "iopub.status.busy": "2022-10-13T18:00:46.574624Z",
     "iopub.status.idle": "2022-10-13T18:00:46.585299Z",
     "shell.execute_reply": "2022-10-13T18:00:46.583873Z"
    },
    "papermill": {
     "duration": 0.028092,
     "end_time": "2022-10-13T18:00:46.587857",
     "exception": false,
     "start_time": "2022-10-13T18:00:46.559765",
     "status": "completed"
    },
    "tags": []
   },
   "outputs": [
    {
     "data": {
      "text/plain": [
       "array([1, 2, 3, 4])"
      ]
     },
     "execution_count": 11,
     "metadata": {},
     "output_type": "execute_result"
    }
   ],
   "source": [
    "np.ravel(c)"
   ]
  },
  {
   "cell_type": "markdown",
   "id": "cff92aeb",
   "metadata": {
    "papermill": {
     "duration": 0.012968,
     "end_time": "2022-10-13T18:00:46.614171",
     "exception": false,
     "start_time": "2022-10-13T18:00:46.601203",
     "status": "completed"
    },
    "tags": []
   },
   "source": [
    "# Flatten\n",
    "1 - Return copy of the original array.\n",
    "\n",
    "2 - If you modify any value of this array value of the original array is not affected.\n",
    "\n",
    "3 - Flatten() is comparatively slower than ravel() as it occupies memory.\n",
    "\n",
    "4 - Flatten is a method of an ndarray object. Let us check out the difference in this code.\n",
    "\n",
    "# Ravel\n",
    "\n",
    "1 - Return only reference/view of the original array.\n",
    "\n",
    "2 - If you modify the array you would notice that the value of the original array also changes.\n",
    "\n",
    "3 - Ravel is faster than flatten() as it does not occupy any memory.\n",
    "\n",
    "4 - Ravel is a library-level function. "
   ]
  },
  {
   "cell_type": "code",
   "execution_count": 12,
   "id": "d14bfa71",
   "metadata": {
    "execution": {
     "iopub.execute_input": "2022-10-13T18:00:46.642311Z",
     "iopub.status.busy": "2022-10-13T18:00:46.641181Z",
     "iopub.status.idle": "2022-10-13T18:00:46.647759Z",
     "shell.execute_reply": "2022-10-13T18:00:46.646756Z"
    },
    "papermill": {
     "duration": 0.023114,
     "end_time": "2022-10-13T18:00:46.650052",
     "exception": false,
     "start_time": "2022-10-13T18:00:46.626938",
     "status": "completed"
    },
    "tags": []
   },
   "outputs": [
    {
     "name": "stdout",
     "output_type": "stream",
     "text": [
      "[[1 2 3 4]]\n"
     ]
    }
   ],
   "source": [
    "print(np.reshape(c, (1, -1)))  # -1 means the number of columns will be determined automatically"
   ]
  },
  {
   "cell_type": "code",
   "execution_count": 13,
   "id": "af1c0a04",
   "metadata": {
    "execution": {
     "iopub.execute_input": "2022-10-13T18:00:46.678490Z",
     "iopub.status.busy": "2022-10-13T18:00:46.677488Z",
     "iopub.status.idle": "2022-10-13T18:00:46.683648Z",
     "shell.execute_reply": "2022-10-13T18:00:46.682402Z"
    },
    "papermill": {
     "duration": 0.022905,
     "end_time": "2022-10-13T18:00:46.686112",
     "exception": false,
     "start_time": "2022-10-13T18:00:46.663207",
     "status": "completed"
    },
    "tags": []
   },
   "outputs": [
    {
     "name": "stdout",
     "output_type": "stream",
     "text": [
      "[[1]\n",
      " [2]\n",
      " [3]\n",
      " [4]]\n"
     ]
    }
   ],
   "source": [
    "print(np.reshape(c, (-1, 1)))  # -1 means the number of rows will be determined automatically"
   ]
  },
  {
   "cell_type": "markdown",
   "id": "9e44d867",
   "metadata": {
    "papermill": {
     "duration": 0.012593,
     "end_time": "2022-10-13T18:00:46.711748",
     "exception": false,
     "start_time": "2022-10-13T18:00:46.699155",
     "status": "completed"
    },
    "tags": []
   },
   "source": [
    "# ndim \n",
    "ndim() function return the number of dimensions of an array."
   ]
  },
  {
   "cell_type": "code",
   "execution_count": 14,
   "id": "23f2a07b",
   "metadata": {
    "execution": {
     "iopub.execute_input": "2022-10-13T18:00:46.739812Z",
     "iopub.status.busy": "2022-10-13T18:00:46.739420Z",
     "iopub.status.idle": "2022-10-13T18:00:46.745319Z",
     "shell.execute_reply": "2022-10-13T18:00:46.743905Z"
    },
    "papermill": {
     "duration": 0.023176,
     "end_time": "2022-10-13T18:00:46.747859",
     "exception": false,
     "start_time": "2022-10-13T18:00:46.724683",
     "status": "completed"
    },
    "tags": []
   },
   "outputs": [
    {
     "name": "stdout",
     "output_type": "stream",
     "text": [
      "2\n"
     ]
    }
   ],
   "source": [
    "print(a.ndim)"
   ]
  },
  {
   "cell_type": "code",
   "execution_count": 15,
   "id": "e42f7852",
   "metadata": {
    "execution": {
     "iopub.execute_input": "2022-10-13T18:00:46.777582Z",
     "iopub.status.busy": "2022-10-13T18:00:46.777159Z",
     "iopub.status.idle": "2022-10-13T18:00:46.783279Z",
     "shell.execute_reply": "2022-10-13T18:00:46.782074Z"
    },
    "papermill": {
     "duration": 0.024699,
     "end_time": "2022-10-13T18:00:46.785962",
     "exception": false,
     "start_time": "2022-10-13T18:00:46.761263",
     "status": "completed"
    },
    "tags": []
   },
   "outputs": [
    {
     "name": "stdout",
     "output_type": "stream",
     "text": [
      "9\n"
     ]
    }
   ],
   "source": [
    "print(a.size)  # number of elements"
   ]
  },
  {
   "cell_type": "markdown",
   "id": "e1c50b61",
   "metadata": {
    "papermill": {
     "duration": 0.012867,
     "end_time": "2022-10-13T18:00:46.812259",
     "exception": false,
     "start_time": "2022-10-13T18:00:46.799392",
     "status": "completed"
    },
    "tags": []
   },
   "source": [
    "# arange (A - range) in NumPy :)\n",
    " The arange() function is used to get evenly spaced values within a given interval."
   ]
  },
  {
   "cell_type": "code",
   "execution_count": 16,
   "id": "120e75b2",
   "metadata": {
    "execution": {
     "iopub.execute_input": "2022-10-13T18:00:46.841013Z",
     "iopub.status.busy": "2022-10-13T18:00:46.840562Z",
     "iopub.status.idle": "2022-10-13T18:00:46.847193Z",
     "shell.execute_reply": "2022-10-13T18:00:46.845923Z"
    },
    "papermill": {
     "duration": 0.023911,
     "end_time": "2022-10-13T18:00:46.849759",
     "exception": false,
     "start_time": "2022-10-13T18:00:46.825848",
     "status": "completed"
    },
    "tags": []
   },
   "outputs": [
    {
     "name": "stdout",
     "output_type": "stream",
     "text": [
      "[ 1  5  9 13 17]\n"
     ]
    }
   ],
   "source": [
    "d = np.arange(1, 20, step=4)\n",
    "print(d)"
   ]
  },
  {
   "cell_type": "markdown",
   "id": "d2dff698",
   "metadata": {
    "papermill": {
     "duration": 0.013021,
     "end_time": "2022-10-13T18:00:46.876576",
     "exception": false,
     "start_time": "2022-10-13T18:00:46.863555",
     "status": "completed"
    },
    "tags": []
   },
   "source": [
    "# linspace in NumPy\n",
    "Return evenly spaced numbers over a specified interval.\n",
    "\n",
    "Returns num evenly spaced samples, calculated over the interval.\n",
    "\n",
    "The endpoint of the interval can optionally be excluded."
   ]
  },
  {
   "cell_type": "code",
   "execution_count": 17,
   "id": "2a781203",
   "metadata": {
    "execution": {
     "iopub.execute_input": "2022-10-13T18:00:46.907111Z",
     "iopub.status.busy": "2022-10-13T18:00:46.906636Z",
     "iopub.status.idle": "2022-10-13T18:00:46.915021Z",
     "shell.execute_reply": "2022-10-13T18:00:46.913707Z"
    },
    "papermill": {
     "duration": 0.026347,
     "end_time": "2022-10-13T18:00:46.917279",
     "exception": false,
     "start_time": "2022-10-13T18:00:46.890932",
     "status": "completed"
    },
    "tags": []
   },
   "outputs": [
    {
     "data": {
      "text/plain": [
       "array([2.  , 2.25, 2.5 , 2.75, 3.  ])"
      ]
     },
     "execution_count": 17,
     "metadata": {},
     "output_type": "execute_result"
    }
   ],
   "source": [
    "np.linspace(2.0, 3.0, num=5)"
   ]
  },
  {
   "cell_type": "code",
   "execution_count": 18,
   "id": "e8350829",
   "metadata": {
    "execution": {
     "iopub.execute_input": "2022-10-13T18:00:46.946599Z",
     "iopub.status.busy": "2022-10-13T18:00:46.946212Z",
     "iopub.status.idle": "2022-10-13T18:00:46.953651Z",
     "shell.execute_reply": "2022-10-13T18:00:46.952531Z"
    },
    "papermill": {
     "duration": 0.02524,
     "end_time": "2022-10-13T18:00:46.956296",
     "exception": false,
     "start_time": "2022-10-13T18:00:46.931056",
     "status": "completed"
    },
    "tags": []
   },
   "outputs": [
    {
     "data": {
      "text/plain": [
       "array([2. , 2.2, 2.4, 2.6, 2.8])"
      ]
     },
     "execution_count": 18,
     "metadata": {},
     "output_type": "execute_result"
    }
   ],
   "source": [
    "np.linspace(2.0, 3.0, num=5, endpoint=False)"
   ]
  },
  {
   "cell_type": "code",
   "execution_count": 19,
   "id": "83190266",
   "metadata": {
    "execution": {
     "iopub.execute_input": "2022-10-13T18:00:46.986893Z",
     "iopub.status.busy": "2022-10-13T18:00:46.986495Z",
     "iopub.status.idle": "2022-10-13T18:00:46.994284Z",
     "shell.execute_reply": "2022-10-13T18:00:46.993069Z"
    },
    "papermill": {
     "duration": 0.025853,
     "end_time": "2022-10-13T18:00:46.996677",
     "exception": false,
     "start_time": "2022-10-13T18:00:46.970824",
     "status": "completed"
    },
    "tags": []
   },
   "outputs": [
    {
     "data": {
      "text/plain": [
       "(array([2.  , 2.25, 2.5 , 2.75, 3.  ]), 0.25)"
      ]
     },
     "execution_count": 19,
     "metadata": {},
     "output_type": "execute_result"
    }
   ],
   "source": [
    "np.linspace(2.0, 3.0, num=5, retstep=True)"
   ]
  },
  {
   "cell_type": "markdown",
   "id": "930d929c",
   "metadata": {
    "papermill": {
     "duration": 0.013453,
     "end_time": "2022-10-13T18:00:47.024938",
     "exception": false,
     "start_time": "2022-10-13T18:00:47.011485",
     "status": "completed"
    },
    "tags": []
   },
   "source": [
    "# Creating Specific Arrays\n"
   ]
  },
  {
   "cell_type": "code",
   "execution_count": 20,
   "id": "5196cd98",
   "metadata": {
    "execution": {
     "iopub.execute_input": "2022-10-13T18:00:47.055091Z",
     "iopub.status.busy": "2022-10-13T18:00:47.053968Z",
     "iopub.status.idle": "2022-10-13T18:00:47.060493Z",
     "shell.execute_reply": "2022-10-13T18:00:47.059230Z"
    },
    "papermill": {
     "duration": 0.023904,
     "end_time": "2022-10-13T18:00:47.062779",
     "exception": false,
     "start_time": "2022-10-13T18:00:47.038875",
     "status": "completed"
    },
    "tags": []
   },
   "outputs": [
    {
     "name": "stdout",
     "output_type": "stream",
     "text": [
      "[[1. 1.]\n",
      " [1. 1.]\n",
      " [1. 1.]]\n"
     ]
    }
   ],
   "source": [
    "print(np.ones(shape=(3, 2)))"
   ]
  },
  {
   "cell_type": "markdown",
   "id": "a5ed7910",
   "metadata": {
    "papermill": {
     "duration": 0.014435,
     "end_time": "2022-10-13T18:00:47.091851",
     "exception": false,
     "start_time": "2022-10-13T18:00:47.077416",
     "status": "completed"
    },
    "tags": []
   },
   "source": [
    " - `np.zeros`\n",
    "# <img src=\"https://www.w3resource.com/w3r_images/numpy-array-zeros-function-image-a.png\" /> "
   ]
  },
  {
   "cell_type": "code",
   "execution_count": 21,
   "id": "92336551",
   "metadata": {
    "execution": {
     "iopub.execute_input": "2022-10-13T18:00:47.121845Z",
     "iopub.status.busy": "2022-10-13T18:00:47.121407Z",
     "iopub.status.idle": "2022-10-13T18:00:47.128361Z",
     "shell.execute_reply": "2022-10-13T18:00:47.127050Z"
    },
    "papermill": {
     "duration": 0.024871,
     "end_time": "2022-10-13T18:00:47.130617",
     "exception": false,
     "start_time": "2022-10-13T18:00:47.105746",
     "status": "completed"
    },
    "tags": []
   },
   "outputs": [
    {
     "name": "stdout",
     "output_type": "stream",
     "text": [
      "[[0. 0. 0.]\n",
      " [0. 0. 0.]]\n"
     ]
    }
   ],
   "source": [
    "print(np.zeros(shape=(2, 3)))"
   ]
  },
  {
   "cell_type": "code",
   "execution_count": 22,
   "id": "57b37832",
   "metadata": {
    "execution": {
     "iopub.execute_input": "2022-10-13T18:00:47.188893Z",
     "iopub.status.busy": "2022-10-13T18:00:47.188450Z",
     "iopub.status.idle": "2022-10-13T18:00:47.194649Z",
     "shell.execute_reply": "2022-10-13T18:00:47.193460Z"
    },
    "papermill": {
     "duration": 0.024942,
     "end_time": "2022-10-13T18:00:47.197350",
     "exception": false,
     "start_time": "2022-10-13T18:00:47.172408",
     "status": "completed"
    },
    "tags": []
   },
   "outputs": [
    {
     "name": "stdout",
     "output_type": "stream",
     "text": [
      "[[5 5]\n",
      " [5 5]\n",
      " [5 5]]\n"
     ]
    }
   ],
   "source": [
    "print(np.full((3, 2), 5))"
   ]
  },
  {
   "cell_type": "markdown",
   "id": "5899f4d0",
   "metadata": {
    "papermill": {
     "duration": 0.014336,
     "end_time": "2022-10-13T18:00:47.226022",
     "exception": false,
     "start_time": "2022-10-13T18:00:47.211686",
     "status": "completed"
    },
    "tags": []
   },
   "source": [
    " - `np.eye`\n",
    "# <img src=\"https://www.w3resource.com/w3r_images/numpy-array-eye-function-image-1.png\" /> "
   ]
  },
  {
   "cell_type": "code",
   "execution_count": 23,
   "id": "42d3689b",
   "metadata": {
    "execution": {
     "iopub.execute_input": "2022-10-13T18:00:47.258234Z",
     "iopub.status.busy": "2022-10-13T18:00:47.257812Z",
     "iopub.status.idle": "2022-10-13T18:00:47.263320Z",
     "shell.execute_reply": "2022-10-13T18:00:47.262430Z"
    },
    "papermill": {
     "duration": 0.026081,
     "end_time": "2022-10-13T18:00:47.266558",
     "exception": false,
     "start_time": "2022-10-13T18:00:47.240477",
     "status": "completed"
    },
    "tags": []
   },
   "outputs": [
    {
     "name": "stdout",
     "output_type": "stream",
     "text": [
      "[[1. 0. 0. 0.]\n",
      " [0. 1. 0. 0.]\n",
      " [0. 0. 1. 0.]\n",
      " [0. 0. 0. 1.]]\n"
     ]
    }
   ],
   "source": [
    "print(np.eye(4))"
   ]
  },
  {
   "cell_type": "code",
   "execution_count": 24,
   "id": "5d5dd154",
   "metadata": {
    "execution": {
     "iopub.execute_input": "2022-10-13T18:00:47.298534Z",
     "iopub.status.busy": "2022-10-13T18:00:47.298083Z",
     "iopub.status.idle": "2022-10-13T18:00:47.304359Z",
     "shell.execute_reply": "2022-10-13T18:00:47.302994Z"
    },
    "papermill": {
     "duration": 0.026124,
     "end_time": "2022-10-13T18:00:47.307125",
     "exception": false,
     "start_time": "2022-10-13T18:00:47.281001",
     "status": "completed"
    },
    "tags": []
   },
   "outputs": [
    {
     "name": "stdout",
     "output_type": "stream",
     "text": [
      "[[1 2 3]\n",
      " [4 5 6]\n",
      " [7 8 9]]\n"
     ]
    }
   ],
   "source": [
    "print(a)"
   ]
  },
  {
   "cell_type": "code",
   "execution_count": 25,
   "id": "deef77b3",
   "metadata": {
    "execution": {
     "iopub.execute_input": "2022-10-13T18:00:47.337891Z",
     "iopub.status.busy": "2022-10-13T18:00:47.337526Z",
     "iopub.status.idle": "2022-10-13T18:00:47.343575Z",
     "shell.execute_reply": "2022-10-13T18:00:47.342180Z"
    },
    "papermill": {
     "duration": 0.024815,
     "end_time": "2022-10-13T18:00:47.346306",
     "exception": false,
     "start_time": "2022-10-13T18:00:47.321491",
     "status": "completed"
    },
    "tags": []
   },
   "outputs": [
    {
     "name": "stdout",
     "output_type": "stream",
     "text": [
      "[[3 2 1]\n",
      " [6 5 4]\n",
      " [9 8 7]]\n"
     ]
    }
   ],
   "source": [
    "print(np.fliplr(a))                 #Reverse the order of elements along axis 1 (left/right)."
   ]
  },
  {
   "cell_type": "code",
   "execution_count": 26,
   "id": "fc46af66",
   "metadata": {
    "execution": {
     "iopub.execute_input": "2022-10-13T18:00:47.376831Z",
     "iopub.status.busy": "2022-10-13T18:00:47.376421Z",
     "iopub.status.idle": "2022-10-13T18:00:47.383192Z",
     "shell.execute_reply": "2022-10-13T18:00:47.381830Z"
    },
    "papermill": {
     "duration": 0.025119,
     "end_time": "2022-10-13T18:00:47.385877",
     "exception": false,
     "start_time": "2022-10-13T18:00:47.360758",
     "status": "completed"
    },
    "tags": []
   },
   "outputs": [
    {
     "name": "stdout",
     "output_type": "stream",
     "text": [
      "[[0.23830563 0.12876318]\n",
      " [0.17461437 0.27297759]\n",
      " [0.55752956 0.1975696 ]]\n"
     ]
    }
   ],
   "source": [
    "print(np.random.rand(3, 2)) "
   ]
  },
  {
   "cell_type": "markdown",
   "id": "a0471229",
   "metadata": {
    "papermill": {
     "duration": 0.014708,
     "end_time": "2022-10-13T18:00:47.415861",
     "exception": false,
     "start_time": "2022-10-13T18:00:47.401153",
     "status": "completed"
    },
    "tags": []
   },
   "source": [
    "# Operations on NumPy Arrays"
   ]
  },
  {
   "cell_type": "markdown",
   "id": "4e899a32",
   "metadata": {
    "papermill": {
     "duration": 0.01412,
     "end_time": "2022-10-13T18:00:47.444622",
     "exception": false,
     "start_time": "2022-10-13T18:00:47.430502",
     "status": "completed"
    },
    "tags": []
   },
   "source": [
    "# <img src=\"https://numpy.org/devdocs/_images/np_sub_mult_divide.png\" /> \n"
   ]
  },
  {
   "cell_type": "code",
   "execution_count": 27,
   "id": "1a47bb1f",
   "metadata": {
    "execution": {
     "iopub.execute_input": "2022-10-13T18:00:47.476727Z",
     "iopub.status.busy": "2022-10-13T18:00:47.476348Z",
     "iopub.status.idle": "2022-10-13T18:00:47.484454Z",
     "shell.execute_reply": "2022-10-13T18:00:47.482997Z"
    },
    "papermill": {
     "duration": 0.026832,
     "end_time": "2022-10-13T18:00:47.486922",
     "exception": false,
     "start_time": "2022-10-13T18:00:47.460090",
     "status": "completed"
    },
    "tags": []
   },
   "outputs": [
    {
     "name": "stdout",
     "output_type": "stream",
     "text": [
      "[[10. 20.]\n",
      " [30. 40.]]\n",
      "\n",
      "[[50. 60.]\n",
      " [70. 80.]]\n"
     ]
    }
   ],
   "source": [
    "e = np.array([[10, 20], [30, 40]], dtype=np.float64)\n",
    "f = np.array([[50, 60], [70, 80]], dtype=np.float64)\n",
    "\n",
    "print(e)\n",
    "print()\n",
    "print(f)"
   ]
  },
  {
   "cell_type": "code",
   "execution_count": 28,
   "id": "d36fff3c",
   "metadata": {
    "execution": {
     "iopub.execute_input": "2022-10-13T18:00:47.518783Z",
     "iopub.status.busy": "2022-10-13T18:00:47.518399Z",
     "iopub.status.idle": "2022-10-13T18:00:47.524574Z",
     "shell.execute_reply": "2022-10-13T18:00:47.523371Z"
    },
    "papermill": {
     "duration": 0.025339,
     "end_time": "2022-10-13T18:00:47.527099",
     "exception": false,
     "start_time": "2022-10-13T18:00:47.501760",
     "status": "completed"
    },
    "tags": []
   },
   "outputs": [
    {
     "name": "stdout",
     "output_type": "stream",
     "text": [
      "[[ 60.  80.]\n",
      " [100. 120.]]\n",
      "\n",
      "[[ 60.  80.]\n",
      " [100. 120.]]\n"
     ]
    }
   ],
   "source": [
    "print(np.add(e, f))         # Add arguments element-wise.\n",
    "print()\n",
    "print(e + f)                # The + operator can be used as a shorthand for np.add on ndarrays."
   ]
  },
  {
   "cell_type": "code",
   "execution_count": 29,
   "id": "f9f52a0f",
   "metadata": {
    "execution": {
     "iopub.execute_input": "2022-10-13T18:00:47.559541Z",
     "iopub.status.busy": "2022-10-13T18:00:47.559163Z",
     "iopub.status.idle": "2022-10-13T18:00:47.565612Z",
     "shell.execute_reply": "2022-10-13T18:00:47.564262Z"
    },
    "papermill": {
     "duration": 0.025609,
     "end_time": "2022-10-13T18:00:47.568260",
     "exception": false,
     "start_time": "2022-10-13T18:00:47.542651",
     "status": "completed"
    },
    "tags": []
   },
   "outputs": [
    {
     "name": "stdout",
     "output_type": "stream",
     "text": [
      "[[-40. -40.]\n",
      " [-40. -40.]]\n",
      "\n",
      "[[-40. -40.]\n",
      " [-40. -40.]]\n"
     ]
    }
   ],
   "source": [
    "print(np.subtract(e, f))    # Subtract arguments, element-wise.\n",
    "print()\n",
    "print(e - f)                # The - operator can be used as a shorthand for np.subtract on ndarrays."
   ]
  },
  {
   "cell_type": "code",
   "execution_count": 30,
   "id": "353527b4",
   "metadata": {
    "execution": {
     "iopub.execute_input": "2022-10-13T18:00:47.601012Z",
     "iopub.status.busy": "2022-10-13T18:00:47.600602Z",
     "iopub.status.idle": "2022-10-13T18:00:47.606841Z",
     "shell.execute_reply": "2022-10-13T18:00:47.605531Z"
    },
    "papermill": {
     "duration": 0.026084,
     "end_time": "2022-10-13T18:00:47.610095",
     "exception": false,
     "start_time": "2022-10-13T18:00:47.584011",
     "status": "completed"
    },
    "tags": []
   },
   "outputs": [
    {
     "name": "stdout",
     "output_type": "stream",
     "text": [
      "[[ 500. 1200.]\n",
      " [2100. 3200.]]\n",
      "\n",
      "[[ 500. 1200.]\n",
      " [2100. 3200.]]\n"
     ]
    }
   ],
   "source": [
    "print(np.multiply(e, f))    # Multiply arguments element-wise.\n",
    "print()\n",
    "print(e * f)                # The * operator can be used as a shorthand for np.multiply on ndarrays."
   ]
  },
  {
   "cell_type": "code",
   "execution_count": 31,
   "id": "6964fcbd",
   "metadata": {
    "execution": {
     "iopub.execute_input": "2022-10-13T18:00:47.642391Z",
     "iopub.status.busy": "2022-10-13T18:00:47.641990Z",
     "iopub.status.idle": "2022-10-13T18:00:47.648346Z",
     "shell.execute_reply": "2022-10-13T18:00:47.647029Z"
    },
    "papermill": {
     "duration": 0.025363,
     "end_time": "2022-10-13T18:00:47.650968",
     "exception": false,
     "start_time": "2022-10-13T18:00:47.625605",
     "status": "completed"
    },
    "tags": []
   },
   "outputs": [
    {
     "name": "stdout",
     "output_type": "stream",
     "text": [
      "[[0.2        0.33333333]\n",
      " [0.42857143 0.5       ]]\n",
      "\n",
      "[[0.2        0.33333333]\n",
      " [0.42857143 0.5       ]]\n"
     ]
    }
   ],
   "source": [
    "print(np.divide(e, f))      # Divide arguments element-wise.\n",
    "print()\n",
    "print(e / f)                # The / operator can be used as a shorthand for np.divide on ndarrays."
   ]
  },
  {
   "cell_type": "code",
   "execution_count": 32,
   "id": "de4c116c",
   "metadata": {
    "execution": {
     "iopub.execute_input": "2022-10-13T18:00:47.683958Z",
     "iopub.status.busy": "2022-10-13T18:00:47.683544Z",
     "iopub.status.idle": "2022-10-13T18:00:47.689814Z",
     "shell.execute_reply": "2022-10-13T18:00:47.688717Z"
    },
    "papermill": {
     "duration": 0.025375,
     "end_time": "2022-10-13T18:00:47.692501",
     "exception": false,
     "start_time": "2022-10-13T18:00:47.667126",
     "status": "completed"
    },
    "tags": []
   },
   "outputs": [
    {
     "name": "stdout",
     "output_type": "stream",
     "text": [
      "[[3.16227766 4.47213595]\n",
      " [5.47722558 6.32455532]]\n"
     ]
    }
   ],
   "source": [
    "print(np.sqrt(e))           # Elementwise square root"
   ]
  },
  {
   "cell_type": "markdown",
   "id": "16ba718d",
   "metadata": {
    "papermill": {
     "duration": 0.015232,
     "end_time": "2022-10-13T18:00:47.723612",
     "exception": false,
     "start_time": "2022-10-13T18:00:47.708380",
     "status": "completed"
    },
    "tags": []
   },
   "source": [
    "# Sorting Elements"
   ]
  },
  {
   "cell_type": "code",
   "execution_count": 33,
   "id": "792a63e5",
   "metadata": {
    "execution": {
     "iopub.execute_input": "2022-10-13T18:00:47.756969Z",
     "iopub.status.busy": "2022-10-13T18:00:47.756535Z",
     "iopub.status.idle": "2022-10-13T18:00:47.763659Z",
     "shell.execute_reply": "2022-10-13T18:00:47.762377Z"
    },
    "papermill": {
     "duration": 0.026447,
     "end_time": "2022-10-13T18:00:47.765887",
     "exception": false,
     "start_time": "2022-10-13T18:00:47.739440",
     "status": "completed"
    },
    "tags": []
   },
   "outputs": [
    {
     "name": "stdout",
     "output_type": "stream",
     "text": [
      "[ 0  2  4  7 10 10 15 87]\n"
     ]
    }
   ],
   "source": [
    "g = np.array([2, 87, 10, 0, 7, 4, 15, 10])\n",
    "print(np.sort(g))"
   ]
  },
  {
   "cell_type": "markdown",
   "id": "bf46db96",
   "metadata": {
    "papermill": {
     "duration": 0.015536,
     "end_time": "2022-10-13T18:00:47.797683",
     "exception": false,
     "start_time": "2022-10-13T18:00:47.782147",
     "status": "completed"
    },
    "tags": []
   },
   "source": [
    "# Concatenate in NumPy\n",
    "Join a sequence of arrays along an existing axis"
   ]
  },
  {
   "cell_type": "code",
   "execution_count": 34,
   "id": "30110145",
   "metadata": {
    "execution": {
     "iopub.execute_input": "2022-10-13T18:00:47.830732Z",
     "iopub.status.busy": "2022-10-13T18:00:47.830313Z",
     "iopub.status.idle": "2022-10-13T18:00:47.837110Z",
     "shell.execute_reply": "2022-10-13T18:00:47.836031Z"
    },
    "papermill": {
     "duration": 0.025875,
     "end_time": "2022-10-13T18:00:47.839450",
     "exception": false,
     "start_time": "2022-10-13T18:00:47.813575",
     "status": "completed"
    },
    "tags": []
   },
   "outputs": [
    {
     "name": "stdout",
     "output_type": "stream",
     "text": [
      "[11 12 13 14 15 17 18 12 19 20 22 23]\n"
     ]
    }
   ],
   "source": [
    "h = np.array([11, 12, 13, 14, 15, 17])\n",
    "i = np.array([18, 12, 19, 20, 22, 23])\n",
    "print(np.concatenate((h, i)))"
   ]
  },
  {
   "cell_type": "markdown",
   "id": "eec200cc",
   "metadata": {
    "papermill": {
     "duration": 0.015582,
     "end_time": "2022-10-13T18:00:47.870628",
     "exception": false,
     "start_time": "2022-10-13T18:00:47.855046",
     "status": "completed"
    },
    "tags": []
   },
   "source": [
    "# Adding Elements\n",
    "All the input arrays must have same number of dimensions."
   ]
  },
  {
   "cell_type": "code",
   "execution_count": 35,
   "id": "98c813c4",
   "metadata": {
    "execution": {
     "iopub.execute_input": "2022-10-13T18:00:47.904007Z",
     "iopub.status.busy": "2022-10-13T18:00:47.903563Z",
     "iopub.status.idle": "2022-10-13T18:00:47.912024Z",
     "shell.execute_reply": "2022-10-13T18:00:47.910585Z"
    },
    "papermill": {
     "duration": 0.028179,
     "end_time": "2022-10-13T18:00:47.914377",
     "exception": false,
     "start_time": "2022-10-13T18:00:47.886198",
     "status": "completed"
    },
    "tags": []
   },
   "outputs": [
    {
     "name": "stdout",
     "output_type": "stream",
     "text": [
      "[[1 2 3]\n",
      " [4 5 6]\n",
      " [7 8 9]]\n"
     ]
    }
   ],
   "source": [
    "print(np.append([[1, 2, 3], [4, 5, 6]], [[7, 8, 9]], axis=0))"
   ]
  },
  {
   "cell_type": "markdown",
   "id": "c5436a74",
   "metadata": {
    "papermill": {
     "duration": 0.015388,
     "end_time": "2022-10-13T18:00:47.945596",
     "exception": false,
     "start_time": "2022-10-13T18:00:47.930208",
     "status": "completed"
    },
    "tags": []
   },
   "source": [
    "# Removing Elements\n",
    "All the input arrays must have same number of dimensions."
   ]
  },
  {
   "cell_type": "code",
   "execution_count": 36,
   "id": "f9cc0bf3",
   "metadata": {
    "execution": {
     "iopub.execute_input": "2022-10-13T18:00:47.980370Z",
     "iopub.status.busy": "2022-10-13T18:00:47.979926Z",
     "iopub.status.idle": "2022-10-13T18:00:47.988368Z",
     "shell.execute_reply": "2022-10-13T18:00:47.987418Z"
    },
    "papermill": {
     "duration": 0.028569,
     "end_time": "2022-10-13T18:00:47.990635",
     "exception": false,
     "start_time": "2022-10-13T18:00:47.962066",
     "status": "completed"
    },
    "tags": []
   },
   "outputs": [
    {
     "data": {
      "text/plain": [
       "array([[ 1,  2,  3,  4],\n",
       "       [ 9, 10, 11, 12]])"
      ]
     },
     "execution_count": 36,
     "metadata": {},
     "output_type": "execute_result"
    }
   ],
   "source": [
    "j = np.array([[1,2,3,4], [5,6,7,8], [9,10,11,12]])\n",
    "np.delete(j, 1, 0)"
   ]
  },
  {
   "cell_type": "code",
   "execution_count": 37,
   "id": "879edfeb",
   "metadata": {
    "execution": {
     "iopub.execute_input": "2022-10-13T18:00:48.027175Z",
     "iopub.status.busy": "2022-10-13T18:00:48.026716Z",
     "iopub.status.idle": "2022-10-13T18:00:48.037266Z",
     "shell.execute_reply": "2022-10-13T18:00:48.036040Z"
    },
    "papermill": {
     "duration": 0.032965,
     "end_time": "2022-10-13T18:00:48.040881",
     "exception": false,
     "start_time": "2022-10-13T18:00:48.007916",
     "status": "completed"
    },
    "tags": []
   },
   "outputs": [
    {
     "data": {
      "text/plain": [
       "array([[ 1,  3,  4],\n",
       "       [ 5,  7,  8],\n",
       "       [ 9, 11, 12]])"
      ]
     },
     "execution_count": 37,
     "metadata": {},
     "output_type": "execute_result"
    }
   ],
   "source": [
    "j = np.array([[1,2,3,4], [5,6,7,8], [9,10,11,12]])\n",
    "np.delete(j, 1, 1)"
   ]
  },
  {
   "cell_type": "markdown",
   "id": "bc8e9ca5",
   "metadata": {
    "papermill": {
     "duration": 0.015686,
     "end_time": "2022-10-13T18:00:48.072870",
     "exception": false,
     "start_time": "2022-10-13T18:00:48.057184",
     "status": "completed"
    },
    "tags": []
   },
   "source": [
    "# More useful array operations\n"
   ]
  },
  {
   "cell_type": "markdown",
   "id": "f849769a",
   "metadata": {
    "papermill": {
     "duration": 0.017361,
     "end_time": "2022-10-13T18:00:48.107674",
     "exception": false,
     "start_time": "2022-10-13T18:00:48.090313",
     "status": "completed"
    },
    "tags": []
   },
   "source": [
    "# <img src=\"https://numpy.org/devdocs/_images/np_matrix_aggregation.png\" /> "
   ]
  },
  {
   "cell_type": "code",
   "execution_count": 38,
   "id": "d8f41909",
   "metadata": {
    "execution": {
     "iopub.execute_input": "2022-10-13T18:00:48.142791Z",
     "iopub.status.busy": "2022-10-13T18:00:48.142407Z",
     "iopub.status.idle": "2022-10-13T18:00:48.148799Z",
     "shell.execute_reply": "2022-10-13T18:00:48.147562Z"
    },
    "papermill": {
     "duration": 0.02668,
     "end_time": "2022-10-13T18:00:48.151166",
     "exception": false,
     "start_time": "2022-10-13T18:00:48.124486",
     "status": "completed"
    },
    "tags": []
   },
   "outputs": [
    {
     "name": "stdout",
     "output_type": "stream",
     "text": [
      "[10 20 30 40 50]\n"
     ]
    }
   ],
   "source": [
    "k = np.array([10, 20, 30, 40, 50])\n",
    "print(k)"
   ]
  },
  {
   "cell_type": "code",
   "execution_count": 39,
   "id": "3aee99b6",
   "metadata": {
    "execution": {
     "iopub.execute_input": "2022-10-13T18:00:48.186351Z",
     "iopub.status.busy": "2022-10-13T18:00:48.185915Z",
     "iopub.status.idle": "2022-10-13T18:00:48.193265Z",
     "shell.execute_reply": "2022-10-13T18:00:48.192082Z"
    },
    "papermill": {
     "duration": 0.028638,
     "end_time": "2022-10-13T18:00:48.195860",
     "exception": false,
     "start_time": "2022-10-13T18:00:48.167222",
     "status": "completed"
    },
    "tags": []
   },
   "outputs": [
    {
     "data": {
      "text/plain": [
       "150"
      ]
     },
     "execution_count": 39,
     "metadata": {},
     "output_type": "execute_result"
    }
   ],
   "source": [
    "k.sum()"
   ]
  },
  {
   "cell_type": "code",
   "execution_count": 40,
   "id": "4e6b1882",
   "metadata": {
    "execution": {
     "iopub.execute_input": "2022-10-13T18:00:48.232626Z",
     "iopub.status.busy": "2022-10-13T18:00:48.230658Z",
     "iopub.status.idle": "2022-10-13T18:00:48.238198Z",
     "shell.execute_reply": "2022-10-13T18:00:48.237242Z"
    },
    "papermill": {
     "duration": 0.027656,
     "end_time": "2022-10-13T18:00:48.240589",
     "exception": false,
     "start_time": "2022-10-13T18:00:48.212933",
     "status": "completed"
    },
    "tags": []
   },
   "outputs": [
    {
     "data": {
      "text/plain": [
       "10"
      ]
     },
     "execution_count": 40,
     "metadata": {},
     "output_type": "execute_result"
    }
   ],
   "source": [
    "k.min()"
   ]
  },
  {
   "cell_type": "code",
   "execution_count": 41,
   "id": "4e7add85",
   "metadata": {
    "execution": {
     "iopub.execute_input": "2022-10-13T18:00:48.278636Z",
     "iopub.status.busy": "2022-10-13T18:00:48.277436Z",
     "iopub.status.idle": "2022-10-13T18:00:48.284616Z",
     "shell.execute_reply": "2022-10-13T18:00:48.283535Z"
    },
    "papermill": {
     "duration": 0.028552,
     "end_time": "2022-10-13T18:00:48.287183",
     "exception": false,
     "start_time": "2022-10-13T18:00:48.258631",
     "status": "completed"
    },
    "tags": []
   },
   "outputs": [
    {
     "data": {
      "text/plain": [
       "50"
      ]
     },
     "execution_count": 41,
     "metadata": {},
     "output_type": "execute_result"
    }
   ],
   "source": [
    "k.max()"
   ]
  },
  {
   "cell_type": "code",
   "execution_count": 42,
   "id": "ff4544fb",
   "metadata": {
    "execution": {
     "iopub.execute_input": "2022-10-13T18:00:48.323241Z",
     "iopub.status.busy": "2022-10-13T18:00:48.322815Z",
     "iopub.status.idle": "2022-10-13T18:00:48.330580Z",
     "shell.execute_reply": "2022-10-13T18:00:48.329572Z"
    },
    "papermill": {
     "duration": 0.028639,
     "end_time": "2022-10-13T18:00:48.333074",
     "exception": false,
     "start_time": "2022-10-13T18:00:48.304435",
     "status": "completed"
    },
    "tags": []
   },
   "outputs": [
    {
     "data": {
      "text/plain": [
       "30.0"
      ]
     },
     "execution_count": 42,
     "metadata": {},
     "output_type": "execute_result"
    }
   ],
   "source": [
    "k.mean()"
   ]
  },
  {
   "cell_type": "code",
   "execution_count": 43,
   "id": "618eae61",
   "metadata": {
    "execution": {
     "iopub.execute_input": "2022-10-13T18:00:48.370402Z",
     "iopub.status.busy": "2022-10-13T18:00:48.369507Z",
     "iopub.status.idle": "2022-10-13T18:00:48.377821Z",
     "shell.execute_reply": "2022-10-13T18:00:48.376607Z"
    },
    "papermill": {
     "duration": 0.030175,
     "end_time": "2022-10-13T18:00:48.380346",
     "exception": false,
     "start_time": "2022-10-13T18:00:48.350171",
     "status": "completed"
    },
    "tags": []
   },
   "outputs": [
    {
     "data": {
      "text/plain": [
       "200.0"
      ]
     },
     "execution_count": 43,
     "metadata": {},
     "output_type": "execute_result"
    }
   ],
   "source": [
    "k.var()"
   ]
  }
 ],
 "metadata": {
  "kernelspec": {
   "display_name": "Python 3 (ipykernel)",
   "language": "python",
   "name": "python3"
  },
  "language_info": {
   "codemirror_mode": {
    "name": "ipython",
    "version": 3
   },
   "file_extension": ".py",
   "mimetype": "text/x-python",
   "name": "python",
   "nbconvert_exporter": "python",
   "pygments_lexer": "ipython3",
   "version": "3.11.3"
  },
  "papermill": {
   "default_parameters": {},
   "duration": 13.273059,
   "end_time": "2022-10-13T18:00:49.120930",
   "environment_variables": {},
   "exception": null,
   "input_path": "__notebook__.ipynb",
   "output_path": "__notebook__.ipynb",
   "parameters": {},
   "start_time": "2022-10-13T18:00:35.847871",
   "version": "2.3.4"
  },
  "varInspector": {
   "cols": {
    "lenName": 16,
    "lenType": 16,
    "lenVar": 40
   },
   "kernels_config": {
    "python": {
     "delete_cmd_postfix": "",
     "delete_cmd_prefix": "del ",
     "library": "var_list.py",
     "varRefreshCmd": "print(var_dic_list())"
    },
    "r": {
     "delete_cmd_postfix": ") ",
     "delete_cmd_prefix": "rm(",
     "library": "var_list.r",
     "varRefreshCmd": "cat(var_dic_list()) "
    }
   },
   "types_to_exclude": [
    "module",
    "function",
    "builtin_function_or_method",
    "instance",
    "_Feature"
   ],
   "window_display": false
  }
 },
 "nbformat": 4,
 "nbformat_minor": 5
}
