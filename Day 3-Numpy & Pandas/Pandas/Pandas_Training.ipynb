{
 "cells": [
  {
   "cell_type": "markdown",
   "id": "aa5c1b92",
   "metadata": {},
   "source": [
    "# Question: Import the Pandas library and assign it the alias `pd`.\n"
   ]
  },
  {
   "cell_type": "code",
   "execution_count": null,
   "id": "5695d1fb",
   "metadata": {},
   "outputs": [],
   "source": []
  },
  {
   "cell_type": "markdown",
   "id": "51c3f098",
   "metadata": {},
   "source": [
    "# Question: Create a Pandas Series from the following list:\n",
    "# `[10, 20, 30, 40, 50]`.\n"
   ]
  },
  {
   "cell_type": "code",
   "execution_count": null,
   "id": "2b709057",
   "metadata": {},
   "outputs": [],
   "source": []
  },
  {
   "cell_type": "markdown",
   "id": "4fd7fc25",
   "metadata": {},
   "source": [
    "# Question: Create a Pandas DataFrame with the following data:\n",
    "# `{'Name': ['Alice', 'Bob', 'Charlie'], 'Age': [25, 30, 35], 'City': ['New York', 'Los Angeles', 'Chicago']}`.\n"
   ]
  },
  {
   "cell_type": "code",
   "execution_count": null,
   "id": "7bfa8f77",
   "metadata": {},
   "outputs": [],
   "source": []
  },
  {
   "cell_type": "markdown",
   "id": "c7db2d7d",
   "metadata": {},
   "source": [
    "# Question: Use methods to view the first 3 rows and the last 2 rows of the following DataFrame:\n",
    "# `df = pd.DataFrame({'A': [1, 2, 3, 4], 'B': [5, 6, 7, 8]})`\n"
   ]
  },
  {
   "cell_type": "code",
   "execution_count": null,
   "id": "e0af5d0b",
   "metadata": {},
   "outputs": [],
   "source": []
  },
  {
   "cell_type": "markdown",
   "id": "07e5a91c",
   "metadata": {},
   "source": [
    "# Question: Select the column `Age` from the following DataFrame:\n",
    "# `df = pd.DataFrame({'Name': ['Alice', 'Bob'], 'Age': [25, 30], 'City': ['NY', 'LA']})`\n"
   ]
  },
  {
   "cell_type": "code",
   "execution_count": null,
   "id": "7be5c161",
   "metadata": {},
   "outputs": [],
   "source": []
  },
  {
   "cell_type": "markdown",
   "id": "14783c41",
   "metadata": {},
   "source": [
    "# Question: Filter rows where the `Age` is greater than 30 from the following DataFrame:\n",
    "# `df = pd.DataFrame({'Name': ['Alice', 'Bob', 'Charlie'], 'Age': [25, 30, 35]})`\n"
   ]
  },
  {
   "cell_type": "code",
   "execution_count": null,
   "id": "97137111",
   "metadata": {},
   "outputs": [],
   "source": []
  },
  {
   "cell_type": "markdown",
   "id": "6ba336d3",
   "metadata": {},
   "source": [
    "# Question: Drop rows with missing values from the following DataFrame:\n",
    "# `df = pd.DataFrame({'A': [1, 2, None], 'B': [4, None, 6]})`\n"
   ]
  },
  {
   "cell_type": "code",
   "execution_count": null,
   "id": "6df6521f",
   "metadata": {},
   "outputs": [],
   "source": []
  },
  {
   "cell_type": "markdown",
   "id": "87a84718",
   "metadata": {},
   "source": [
    "# Question: Add a new column `Salary` to the following DataFrame, with values `[50000, 60000, 70000]`:\n",
    "# `df = pd.DataFrame({'Name': ['Alice', 'Bob', 'Charlie'], 'Age': [25, 30, 35]})`\n"
   ]
  },
  {
   "cell_type": "code",
   "execution_count": null,
   "id": "a86690d5",
   "metadata": {},
   "outputs": [],
   "source": []
  },
  {
   "cell_type": "markdown",
   "id": "297356e0",
   "metadata": {},
   "source": [
    "# Question: Drop the column `City` from the following DataFrame:\n",
    "# `df = pd.DataFrame({'Name': ['Alice', 'Bob'], 'Age': [25, 30], 'City': ['NY', 'LA']})`\n"
   ]
  },
  {
   "cell_type": "code",
   "execution_count": null,
   "id": "7c8fa871",
   "metadata": {},
   "outputs": [],
   "source": []
  },
  {
   "cell_type": "markdown",
   "id": "a1cf6e52",
   "metadata": {},
   "source": [
    "# Question: Group the following DataFrame by `Department` and calculate the mean `Salary`:\n",
    "# `df = pd.DataFrame({'Department': ['HR', 'IT', 'HR'], 'Salary': [50000, 60000, 55000]})`\n"
   ]
  },
  {
   "cell_type": "code",
   "execution_count": null,
   "id": "b3208a65",
   "metadata": {},
   "outputs": [],
   "source": []
  },
  {
   "cell_type": "markdown",
   "id": "8f8516da",
   "metadata": {},
   "source": [
    "# Question: Sort the following DataFrame by the `Age` column in descending order:\n",
    "# `df = pd.DataFrame({'Name': ['Alice', 'Bob', 'Charlie'], 'Age': [25, 30, 35]})`\n"
   ]
  },
  {
   "cell_type": "code",
   "execution_count": null,
   "id": "a2154f6e",
   "metadata": {},
   "outputs": [],
   "source": []
  },
  {
   "cell_type": "markdown",
   "id": "81c64fa4",
   "metadata": {},
   "source": [
    "# Question: Merge the following two DataFrames on the column `ID`:\n",
    "# `df1 = pd.DataFrame({'ID': [1, 2], 'Name': ['Alice', 'Bob']})`\n",
    "# `df2 = pd.DataFrame({'ID': [1, 2], 'Score': [85, 90]})`\n"
   ]
  },
  {
   "cell_type": "code",
   "execution_count": null,
   "id": "53dca9c9",
   "metadata": {},
   "outputs": [],
   "source": []
  },
  {
   "cell_type": "markdown",
   "id": "8928ff55",
   "metadata": {},
   "source": [
    "# Question: Reshape the following DataFrame using the `pivot` method to have `Subjects` as columns:\n",
    "# `df = pd.DataFrame({'Name': ['Alice', 'Alice', 'Bob'], 'Subject': ['Math', 'Science', 'Math'], 'Score': [90, 85, 80]})`\n"
   ]
  },
  {
   "cell_type": "code",
   "execution_count": null,
   "id": "178a2468",
   "metadata": {},
   "outputs": [],
   "source": []
  },
  {
   "cell_type": "markdown",
   "id": "5c6fdffc",
   "metadata": {},
   "source": [
    "# Question: Save the following DataFrame to a `.csv` file and then read it back:\n",
    "# `df = pd.DataFrame({'A': [1, 2, 3], 'B': [4, 5, 6]})`\n"
   ]
  },
  {
   "cell_type": "code",
   "execution_count": null,
   "id": "87bec644",
   "metadata": {},
   "outputs": [],
   "source": []
  }
 ],
 "metadata": {
  "kernelspec": {
   "display_name": "Python 3 (ipykernel)",
   "language": "python",
   "name": "python3"
  },
  "language_info": {
   "codemirror_mode": {
    "name": "ipython",
    "version": 3
   },
   "file_extension": ".py",
   "mimetype": "text/x-python",
   "name": "python",
   "nbconvert_exporter": "python",
   "pygments_lexer": "ipython3",
   "version": "3.11.3"
  },
  "varInspector": {
   "cols": {
    "lenName": 16,
    "lenType": 16,
    "lenVar": 40
   },
   "kernels_config": {
    "python": {
     "delete_cmd_postfix": "",
     "delete_cmd_prefix": "del ",
     "library": "var_list.py",
     "varRefreshCmd": "print(var_dic_list())"
    },
    "r": {
     "delete_cmd_postfix": ") ",
     "delete_cmd_prefix": "rm(",
     "library": "var_list.r",
     "varRefreshCmd": "cat(var_dic_list()) "
    }
   },
   "types_to_exclude": [
    "module",
    "function",
    "builtin_function_or_method",
    "instance",
    "_Feature"
   ],
   "window_display": false
  }
 },
 "nbformat": 4,
 "nbformat_minor": 5
}
