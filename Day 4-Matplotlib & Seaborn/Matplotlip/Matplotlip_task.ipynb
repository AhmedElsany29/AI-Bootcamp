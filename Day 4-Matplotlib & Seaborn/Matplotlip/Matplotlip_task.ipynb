{
 "cells": [
  {
   "cell_type": "markdown",
   "id": "d57279a7",
   "metadata": {},
   "source": [
    "# Matplotlip task"
   ]
  },
  {
   "cell_type": "markdown",
   "id": "3557cb53",
   "metadata": {},
   "source": []
  },
  {
   "cell_type": "markdown",
   "id": "90ac7d11",
   "metadata": {},
   "source": [
    "### Create a histogram for a dataset with random values between 0 and 100.\n"
   ]
  },
  {
   "cell_type": "code",
   "execution_count": null,
   "id": "dc9f04d2",
   "metadata": {},
   "outputs": [],
   "source": []
  },
  {
   "cell_type": "code",
   "execution_count": null,
   "id": "8f750955",
   "metadata": {},
   "outputs": [],
   "source": []
  },
  {
   "cell_type": "markdown",
   "id": "64a958d2",
   "metadata": {},
   "source": [
    "###  Create a bar plot comparing sales data for 4 different products.\n"
   ]
  },
  {
   "cell_type": "code",
   "execution_count": null,
   "id": "84d1b406",
   "metadata": {},
   "outputs": [],
   "source": []
  },
  {
   "cell_type": "code",
   "execution_count": null,
   "id": "1b1bdd60",
   "metadata": {},
   "outputs": [],
   "source": []
  },
  {
   "cell_type": "markdown",
   "id": "5aef5062",
   "metadata": {},
   "source": [
    "###  Create a scatter plot with random points\n"
   ]
  },
  {
   "cell_type": "code",
   "execution_count": null,
   "id": "8b38745d",
   "metadata": {},
   "outputs": [],
   "source": []
  },
  {
   "cell_type": "code",
   "execution_count": null,
   "id": "21b8d38e",
   "metadata": {},
   "outputs": [],
   "source": []
  },
  {
   "cell_type": "markdown",
   "id": "ecea0638",
   "metadata": {},
   "source": [
    "### Generate a heatmap for a 6x6 matrix of random numbers.\n"
   ]
  },
  {
   "cell_type": "code",
   "execution_count": null,
   "id": "d668fd33",
   "metadata": {},
   "outputs": [],
   "source": []
  },
  {
   "cell_type": "code",
   "execution_count": null,
   "id": "1902d081",
   "metadata": {},
   "outputs": [],
   "source": []
  },
  {
   "cell_type": "markdown",
   "id": "779381c5",
   "metadata": {},
   "source": [
    "### Create a pie chart showing the distribution of expenses across 5 categories.\n"
   ]
  },
  {
   "cell_type": "code",
   "execution_count": null,
   "id": "b02fae02",
   "metadata": {},
   "outputs": [],
   "source": []
  },
  {
   "cell_type": "code",
   "execution_count": null,
   "id": "65ebed0a",
   "metadata": {},
   "outputs": [],
   "source": []
  }
 ],
 "metadata": {
  "kernelspec": {
   "display_name": "Python 3 (ipykernel)",
   "language": "python",
   "name": "python3"
  },
  "language_info": {
   "codemirror_mode": {
    "name": "ipython",
    "version": 3
   },
   "file_extension": ".py",
   "mimetype": "text/x-python",
   "name": "python",
   "nbconvert_exporter": "python",
   "pygments_lexer": "ipython3",
   "version": "3.11.5"
  },
  "varInspector": {
   "cols": {
    "lenName": 16,
    "lenType": 16,
    "lenVar": 40
   },
   "kernels_config": {
    "python": {
     "delete_cmd_postfix": "",
     "delete_cmd_prefix": "del ",
     "library": "var_list.py",
     "varRefreshCmd": "print(var_dic_list())"
    },
    "r": {
     "delete_cmd_postfix": ") ",
     "delete_cmd_prefix": "rm(",
     "library": "var_list.r",
     "varRefreshCmd": "cat(var_dic_list()) "
    }
   },
   "types_to_exclude": [
    "module",
    "function",
    "builtin_function_or_method",
    "instance",
    "_Feature"
   ],
   "window_display": false
  }
 },
 "nbformat": 4,
 "nbformat_minor": 5
}
