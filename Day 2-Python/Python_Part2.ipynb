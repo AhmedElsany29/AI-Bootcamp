{
 "cells": [
  {
   "cell_type": "markdown",
   "id": "7e9259ff",
   "metadata": {
    "id": "7e9259ff"
   },
   "source": [
    "# Objectives\n",
    "\n",
    "After completing this lab you will be able to:\n",
    "\n",
    "* work with the loop statements in Python, including for-loop and while-loop.\n",
    "* work with strings\n",
    "* Understand functions and variables\n",
    "* Work with functions and variables\n",
    "* lambda expressions\n",
    "* map and filter\n",
    "* Work with classes and objects\n",
    "* Identify and define attributes and methods\n",
    "* Python Modules\n",
    "* Understand exceptions    \n",
    "* Handle the exceptions\n",
    "\n",
    "\n"
   ]
  },
  {
   "cell_type": "markdown",
   "id": "7abaee18-5271-430f-9202-a110c4ad88b5",
   "metadata": {
    "id": "7abaee18-5271-430f-9202-a110c4ad88b5"
   },
   "source": [
    "<h2 id=\"loop\">Loops</h2>\n"
   ]
  },
  {
   "cell_type": "markdown",
   "id": "df051031-0ae5-428e-9900-2865d3d8d486",
   "metadata": {
    "id": "df051031-0ae5-428e-9900-2865d3d8d486"
   },
   "source": [
    "<h3 id=\"range\">Range</h3>\n"
   ]
  },
  {
   "cell_type": "markdown",
   "id": "c3e5b352-0c62-4a93-95e3-8355dc9a16aa",
   "metadata": {
    "id": "c3e5b352-0c62-4a93-95e3-8355dc9a16aa"
   },
   "source": [
    "We will look at two types of loops <code>for</code> loops and <code>while</code> loops.\n",
    "\n",
    "Before we discuss loops lets discuss the <code> range </code> object. It is helpful to think of the range object as an ordered list (from 0 to 2)."
   ]
  },
  {
   "cell_type": "code",
   "execution_count": 1,
   "id": "496cc3f4-46f3-4cf7-91a6-814cce5f4e8d",
   "metadata": {
    "colab": {
     "base_uri": "https://localhost:8080/"
    },
    "id": "496cc3f4-46f3-4cf7-91a6-814cce5f4e8d",
    "outputId": "f49621d0-6ec2-4e7b-b8a2-a1ededdecb72"
   },
   "outputs": [
    {
     "data": {
      "text/plain": [
       "(0, 1)"
      ]
     },
     "execution_count": 1,
     "metadata": {},
     "output_type": "execute_result"
    }
   ],
   "source": [
    "X,Y = range(2)\n",
    "X,Y"
   ]
  },
  {
   "cell_type": "code",
   "execution_count": 14,
   "id": "018614cf-7579-4a3a-989d-6abaf7378194",
   "metadata": {
    "colab": {
     "base_uri": "https://localhost:8080/"
    },
    "id": "018614cf-7579-4a3a-989d-6abaf7378194",
    "outputId": "08c0a970-903b-411d-f0cf-f03957616050"
   },
   "outputs": [
    {
     "name": "stdout",
     "output_type": "stream",
     "text": [
      "range(0, 2)\n",
      "range(0, 3)\n"
     ]
    }
   ],
   "source": [
    "# Use the range\n",
    "print(range(2))   # 0, 1, 2\n",
    "print(range(0,3))"
   ]
  },
  {
   "cell_type": "markdown",
   "id": "0f96eaa6-427a-4b02-88e8-0632b125265a",
   "metadata": {
    "id": "0f96eaa6-427a-4b02-88e8-0632b125265a"
   },
   "source": [
    "<h3 id=\"for\">What is <code>for</code> loop?</h3>\n"
   ]
  },
  {
   "cell_type": "markdown",
   "id": "42753669-df4a-46c5-88d7-fa5826c92d09",
   "metadata": {
    "id": "42753669-df4a-46c5-88d7-fa5826c92d09"
   },
   "source": [
    "The <code>for</code> loop enables you to execute a code block multiple times.  "
   ]
  },
  {
   "cell_type": "markdown",
   "id": "18f7e435-e54a-475f-ae40-1a52b790774f",
   "metadata": {
    "id": "18f7e435-e54a-475f-ae40-1a52b790774f"
   },
   "source": [
    "This can be done as follows:\n"
   ]
  },
  {
   "cell_type": "code",
   "execution_count": 16,
   "id": "e3e89997-4817-4e3f-8264-c4a700edd1c6",
   "metadata": {
    "colab": {
     "base_uri": "https://localhost:8080/",
     "height": 110
    },
    "id": "e3e89997-4817-4e3f-8264-c4a700edd1c6",
    "outputId": "cc7d53ec-06e2-4e05-dc84-c1f09a5902ab"
   },
   "outputs": [
    {
     "ename": "SyntaxError",
     "evalue": "invalid syntax. Maybe you meant '==' or ':=' instead of '='? (1732698752.py, line 1)",
     "output_type": "error",
     "traceback": [
      "\u001b[1;36m  Cell \u001b[1;32mIn[16], line 1\u001b[1;36m\u001b[0m\n\u001b[1;33m    for (i = 0 ; i<10 ;i++)\u001b[0m\n\u001b[1;37m         ^\u001b[0m\n\u001b[1;31mSyntaxError\u001b[0m\u001b[1;31m:\u001b[0m invalid syntax. Maybe you meant '==' or ':=' instead of '='?\n"
     ]
    }
   ],
   "source": [
    "for (i = 0 ; i<10 ;i++)"
   ]
  },
  {
   "cell_type": "code",
   "execution_count": 48,
   "id": "36e31830-642e-493a-87f0-616504df42f8",
   "metadata": {
    "colab": {
     "base_uri": "https://localhost:8080/"
    },
    "id": "36e31830-642e-493a-87f0-616504df42f8",
    "outputId": "628790e6-4e15-4322-84d0-3a1edb3b814c"
   },
   "outputs": [
    {
     "name": "stdout",
     "output_type": "stream",
     "text": [
      "0\n",
      "1\n",
      "2\n",
      "3\n",
      "4\n",
      "5\n",
      "6\n",
      "7\n"
     ]
    }
   ],
   "source": [
    "# In this example we can print out a sequence of numbers from 0 to 7:\n",
    "for i in range(0, 8):\n",
    "    print(i)"
   ]
  },
  {
   "cell_type": "code",
   "execution_count": 49,
   "id": "5e993ee8-5b1e-4b4f-85a9-5e4381c499b7",
   "metadata": {
    "colab": {
     "base_uri": "https://localhost:8080/"
    },
    "id": "5e993ee8-5b1e-4b4f-85a9-5e4381c499b7",
    "outputId": "7971c901-eac4-4ab9-95a0-5bd8eb08d963"
   },
   "outputs": [
    {
     "name": "stdout",
     "output_type": "stream",
     "text": [
      "0\n",
      "2\n",
      "4\n",
      "6\n"
     ]
    }
   ],
   "source": [
    "# In this example we can print out a sequence of numbers from 0 to 7:\n",
    "for i in range(0, 8,2):\n",
    "    print(i)"
   ]
  },
  {
   "cell_type": "code",
   "execution_count": 50,
   "id": "ba1a6633-62f7-49ab-af9e-aadc97043ab2",
   "metadata": {
    "colab": {
     "base_uri": "https://localhost:8080/"
    },
    "id": "ba1a6633-62f7-49ab-af9e-aadc97043ab2",
    "outputId": "e97b93b7-63e6-4be3-c710-5324ee67064f"
   },
   "outputs": [
    {
     "name": "stdout",
     "output_type": "stream",
     "text": [
      "length of list :  3\n",
      "1982\n",
      "1980\n",
      "1973\n"
     ]
    }
   ],
   "source": [
    "# For loop example\n",
    "dates = [1982,1980,1973]\n",
    "\n",
    "lenDates = len(dates)\n",
    "print('length of list : ',lenDates)\n",
    "\n",
    "for date in range(lenDates):\n",
    "    print(dates[date])  # dates[0] , dates[1] , dates[2]"
   ]
  },
  {
   "cell_type": "markdown",
   "id": "366e31b0-de4d-4a4a-a109-7b3dc20cee62",
   "metadata": {
    "id": "366e31b0-de4d-4a4a-a109-7b3dc20cee62"
   },
   "source": [
    "### we can directly access the elements in the list as follows:"
   ]
  },
  {
   "cell_type": "code",
   "execution_count": 51,
   "id": "8e0947a8-c2ee-4e96-b342-071ab94a4a25",
   "metadata": {
    "colab": {
     "base_uri": "https://localhost:8080/"
    },
    "id": "8e0947a8-c2ee-4e96-b342-071ab94a4a25",
    "outputId": "8c6759a9-4791-4874-dc71-941b75852fd7"
   },
   "outputs": [
    {
     "name": "stdout",
     "output_type": "stream",
     "text": [
      "1982\n",
      "1980\n",
      "1973\n"
     ]
    }
   ],
   "source": [
    "# loop through list\n",
    "for year in dates:\n",
    "    print(year)"
   ]
  },
  {
   "cell_type": "markdown",
   "id": "067b4cc6-faf7-4924-8010-adc4dd4b6389",
   "metadata": {
    "id": "067b4cc6-faf7-4924-8010-adc4dd4b6389"
   },
   "source": [
    "### Break VS Continue\n",
    "\n",
    "- break Statement:\n",
    "    - The break statement terminates the loop immediately when it’s encountered.\n",
    "    - It’s typically used inside decision-making statements like if...else.\n",
    "      \n",
    "\n",
    "=======\n",
    "- continue Statement:\n",
    "    - The continue statement skips the current iteration and proceeds to the next one.\n",
    "    - It’s typically used inside decision-making statements like if...else."
   ]
  },
  {
   "cell_type": "code",
   "execution_count": 52,
   "id": "daaf3518-e8dc-4b3d-ba86-fa1a78c90abb",
   "metadata": {
    "colab": {
     "base_uri": "https://localhost:8080/"
    },
    "id": "daaf3518-e8dc-4b3d-ba86-fa1a78c90abb",
    "outputId": "61c1fb06-383a-44c8-f263-8168c3fa933b"
   },
   "outputs": [
    {
     "name": "stdout",
     "output_type": "stream",
     "text": [
      "0\n",
      "1\n",
      "2\n"
     ]
    }
   ],
   "source": [
    "# Example of break statement\n",
    "for i in range(5):\n",
    "    if i == 3:\n",
    "        break\n",
    "    print(i)\n",
    "\n"
   ]
  },
  {
   "cell_type": "code",
   "execution_count": 53,
   "id": "d89e5636-6398-41ab-87e1-76fe3a865f91",
   "metadata": {
    "colab": {
     "base_uri": "https://localhost:8080/"
    },
    "id": "d89e5636-6398-41ab-87e1-76fe3a865f91",
    "outputId": "67feda4d-5252-4f2b-affa-fd1a9ac4e116"
   },
   "outputs": [
    {
     "name": "stdout",
     "output_type": "stream",
     "text": [
      "0\n",
      "1\n",
      "4\n"
     ]
    }
   ],
   "source": [
    "# Example of continue statement\n",
    "for i in range(5):\n",
    "    if i == 2 or i  == 3 :\n",
    "        continue\n",
    "    print(i)\n",
    "\n"
   ]
  },
  {
   "cell_type": "code",
   "execution_count": 54,
   "id": "e0241e3b-c6e7-48dd-8b67-03d5c11fb079",
   "metadata": {
    "colab": {
     "base_uri": "https://localhost:8080/"
    },
    "id": "e0241e3b-c6e7-48dd-8b67-03d5c11fb079",
    "outputId": "33e914fd-58a9-404a-ba5d-84c5a1592be1"
   },
   "outputs": [
    {
     "name": "stdout",
     "output_type": "stream",
     "text": [
      "0\n",
      "1\n",
      "2\n",
      "3\n",
      "4\n"
     ]
    }
   ],
   "source": [
    "for i in range(5):\n",
    "    pass\n",
    "    print(i)"
   ]
  },
  {
   "cell_type": "code",
   "execution_count": 54,
   "id": "ab359944-ce6f-43f2-a3ea-0d37f1393601",
   "metadata": {
    "id": "ab359944-ce6f-43f2-a3ea-0d37f1393601"
   },
   "outputs": [],
   "source": []
  },
  {
   "cell_type": "code",
   "execution_count": 55,
   "id": "885cc022-ce59-47f5-baa1-24aca7b39e25",
   "metadata": {
    "colab": {
     "base_uri": "https://localhost:8080/"
    },
    "id": "885cc022-ce59-47f5-baa1-24aca7b39e25",
    "outputId": "3cacbc22-304f-4bd0-e482-1cc9c4f51c37"
   },
   "outputs": [
    {
     "data": {
      "text/plain": [
       "[0, 1, 4, 9, 16, 25, 36, 49, 64, 81]"
      ]
     },
     "execution_count": 55,
     "metadata": {},
     "output_type": "execute_result"
    }
   ],
   "source": [
    "[item**2 for item in range(10)]"
   ]
  },
  {
   "cell_type": "code",
   "execution_count": 56,
   "id": "c3ff599c-ef94-4915-83df-06aa2f3d33cf",
   "metadata": {
    "colab": {
     "base_uri": "https://localhost:8080/"
    },
    "id": "c3ff599c-ef94-4915-83df-06aa2f3d33cf",
    "outputId": "a240939a-ce2e-412e-d905-baea42e63014"
   },
   "outputs": [
    {
     "data": {
      "text/plain": [
       "[1, 3, 4, 5]"
      ]
     },
     "execution_count": 56,
     "metadata": {},
     "output_type": "execute_result"
    }
   ],
   "source": [
    "my_list = [1, 2, 3, 2, 4, 2, 5]\n",
    "# Removing all occurrences of 2\n",
    "my_list = [x for x in my_list if x != 2]\n",
    "my_list"
   ]
  },
  {
   "cell_type": "code",
   "execution_count": 22,
   "id": "60b0fbbd-8433-4541-bf07-042c257801c7",
   "metadata": {
    "colab": {
     "base_uri": "https://localhost:8080/"
    },
    "id": "60b0fbbd-8433-4541-bf07-042c257801c7",
    "outputId": "e4e74d29-6c83-4e36-c8a6-49d5dd95115b"
   },
   "outputs": [
    {
     "name": "stdout",
     "output_type": "stream",
     "text": [
      "0\n",
      "0\n",
      "1\n",
      "1\n",
      "4\n",
      "4\n",
      "9\n",
      "9\n",
      "16\n",
      "16\n"
     ]
    }
   ],
   "source": [
    "[item**2 for item in range(5) for x in range(2)]\n",
    "\n",
    "for i in range(5):\n",
    "    for x in range(2):\n",
    "        print(i**2)"
   ]
  },
  {
   "cell_type": "code",
   "execution_count": 58,
   "id": "76faf92f-8b17-438e-b420-0ad004802fda",
   "metadata": {
    "colab": {
     "base_uri": "https://localhost:8080/"
    },
    "id": "76faf92f-8b17-438e-b420-0ad004802fda",
    "outputId": "64fe1348-9abd-4352-de84-616a44884e28"
   },
   "outputs": [
    {
     "data": {
      "text/plain": [
       "[[[1, 2], [1, 2]], [[1, 2], [1, 2]]]"
      ]
     },
     "execution_count": 58,
     "metadata": {},
     "output_type": "execute_result"
    }
   ],
   "source": [
    "#\n",
    "[[\n",
    "    [1,2],\n",
    "    [1,2]\n",
    " ]\n",
    "  ,\n",
    " [\n",
    "     [1,2],\n",
    "     [1,2]\n",
    " ]\n",
    "]\n"
   ]
  },
  {
   "cell_type": "markdown",
   "id": "df3701a7-14f9-44cb-9af8-9b919d2afd38",
   "metadata": {
    "id": "df3701a7-14f9-44cb-9af8-9b919d2afd38"
   },
   "source": [
    "<details><summary>Click here for the solution</summary>\n",
    "\n",
    "```python\n",
    "\n",
    "l=[]\n",
    "for i in range(2):\n",
    "    l1=[]\n",
    "    for j in range(2):\n",
    "        l2=[]\n",
    "        for k in range(2):\n",
    "            l2.append(k)\n",
    "        l1.append(l2)\n",
    "    l.append(l1)\n",
    "\n",
    "```"
   ]
  },
  {
   "cell_type": "markdown",
   "id": "753d8fcf-bf4c-45c7-90d2-9f6b522d2f9b",
   "metadata": {
    "id": "753d8fcf-bf4c-45c7-90d2-9f6b522d2f9b"
   },
   "source": [
    "###  We can change the elements in a list:"
   ]
  },
  {
   "cell_type": "code",
   "execution_count": 24,
   "id": "63169806-032d-4bbf-b5f8-3f9df86a5310",
   "metadata": {
    "colab": {
     "base_uri": "https://localhost:8080/"
    },
    "id": "63169806-032d-4bbf-b5f8-3f9df86a5310",
    "outputId": "61517e2f-4b0a-4271-a447-735ca78c1206"
   },
   "outputs": [
    {
     "name": "stdout",
     "output_type": "stream",
     "text": [
      "Before square is ['red', 'yellow', 'green', 'purple', 'blue']\n",
      "After square is ['white', 'yellow', 'green', 'purple', 'blue']\n",
      "After square is ['white', 'yellow', 'green', 'purple', 'white']\n"
     ]
    }
   ],
   "source": [
    "# Use for loop to change the elements in list\n",
    "squares = ['red', 'yellow', 'green', 'purple', 'blue']\n",
    "print(\"Before square is\",  squares)\n",
    "squares[0] = 'white'\n",
    "print(\"After square is\",  squares)\n",
    "squares[-1] = 'white'\n",
    "print(\"After square is\",  squares)"
   ]
  },
  {
   "cell_type": "markdown",
   "id": "0487ceaf-46ab-4c6d-8140-714912924a20",
   "metadata": {
    "id": "0487ceaf-46ab-4c6d-8140-714912924a20"
   },
   "source": [
    "###  Specifying a negative step in the range() function: Another way is to pass a negative step argument into the range() function:"
   ]
  },
  {
   "cell_type": "code",
   "execution_count": 108,
   "id": "3589ffe5-5b77-4c32-84e6-22634f830d08",
   "metadata": {
    "colab": {
     "base_uri": "https://localhost:8080/"
    },
    "id": "3589ffe5-5b77-4c32-84e6-22634f830d08",
    "outputId": "837f97e8-c375-4fe6-e525-eeb84dc56bbe"
   },
   "outputs": [
    {
     "name": "stdout",
     "output_type": "stream",
     "text": [
      "Before square  4 is blue\n",
      "After square  4 is white\n",
      "Before square  3 is purple\n",
      "After square  3 is white\n",
      "Before square  2 is green\n",
      "After square  2 is white\n",
      "Before square  1 is yellow\n",
      "After square  1 is white\n",
      "Before square  0 is red\n",
      "After square  0 is white\n",
      "0\n",
      "call when end of loop\n"
     ]
    }
   ],
   "source": [
    "# Use for loop to change the elements in list\n",
    "squares = ['red', 'yellow', 'green', 'purple', 'blue']\n",
    "for i in range(4, -1,-1): # i = 4 , 3 , 2 ,1 , 0\n",
    "    print(\"Before square \", i, 'is',  squares[i])\n",
    "    squares[i] = 'white'\n",
    "    print(\"After square \", i, 'is',  squares[i])\n",
    "else:\n",
    "    # You can use the else statement with a for loop.\n",
    "    print(i)\n",
    "    print('call when end of loop')"
   ]
  },
  {
   "cell_type": "markdown",
   "id": "9571eeea-e652-4920-8333-61044f204faf",
   "metadata": {
    "id": "9571eeea-e652-4920-8333-61044f204faf"
   },
   "source": [
    "###  We can access the index and the elements of a list as follows:"
   ]
  },
  {
   "cell_type": "code",
   "execution_count": 109,
   "id": "9f895e81-0104-4c68-a60a-65e44472582a",
   "metadata": {
    "colab": {
     "base_uri": "https://localhost:8080/"
    },
    "id": "9f895e81-0104-4c68-a60a-65e44472582a",
    "outputId": "27250d32-7753-4303-e909-a0e6a262f963"
   },
   "outputs": [
    {
     "name": "stdout",
     "output_type": "stream",
     "text": [
      "0 red\n",
      "1 yellow\n",
      "2 green\n",
      "3 purple\n",
      "4 blue\n",
      "dict :  {'red': 0, 'yellow': 1, 'green': 2, 'purple': 3, 'blue': 4}\n"
     ]
    }
   ],
   "source": [
    "# Loop through the list and iterate on both index and element value\n",
    "squares=['red', 'yellow', 'green', 'purple', 'blue']\n",
    "dict = {}\n",
    "for index, square in enumerate(squares):\n",
    "    print(index, square)\n",
    "    dict[square] = index\n",
    "\n",
    "print(\"dict : \" , dict)"
   ]
  },
  {
   "cell_type": "code",
   "execution_count": 110,
   "id": "32581fc1-9057-450b-91a4-33dc375aeee5",
   "metadata": {
    "colab": {
     "base_uri": "https://localhost:8080/"
    },
    "id": "32581fc1-9057-450b-91a4-33dc375aeee5",
    "outputId": "393549a3-e141-4656-b348-0823bffc5591",
    "scrolled": true
   },
   "outputs": [
    {
     "name": "stdout",
     "output_type": "stream",
     "text": [
      "key :  red   || value :  0\n",
      "key :  yellow   || value :  1\n",
      "key :  green   || value :  2\n",
      "key :  purple   || value :  3\n",
      "key :  blue   || value :  4\n"
     ]
    }
   ],
   "source": [
    "for key,value in dict.items():\n",
    "    print('key : ',key ,'  || value : ',value)"
   ]
  },
  {
   "cell_type": "code",
   "execution_count": 111,
   "id": "fa85d624-cd6c-451b-b14f-7bfd60f997f7",
   "metadata": {
    "colab": {
     "base_uri": "https://localhost:8080/"
    },
    "id": "fa85d624-cd6c-451b-b14f-7bfd60f997f7",
    "outputId": "21e4bc8f-2252-4733-8555-983a2b32163f"
   },
   "outputs": [
    {
     "name": "stderr",
     "output_type": "stream",
     "text": [
      "\r",
      "  0%|          | 0/20 [00:00<?, ?it/s]"
     ]
    },
    {
     "name": "stdout",
     "output_type": "stream",
     "text": [
      "0\n"
     ]
    },
    {
     "name": "stderr",
     "output_type": "stream",
     "text": [
      "\r",
      "  5%|▌         | 1/20 [00:01<00:19,  1.00s/it]"
     ]
    },
    {
     "name": "stdout",
     "output_type": "stream",
     "text": [
      "1\n"
     ]
    },
    {
     "name": "stderr",
     "output_type": "stream",
     "text": [
      "\r",
      " 10%|█         | 2/20 [00:02<00:18,  1.00s/it]"
     ]
    },
    {
     "name": "stdout",
     "output_type": "stream",
     "text": [
      "2\n"
     ]
    },
    {
     "name": "stderr",
     "output_type": "stream",
     "text": [
      "\r",
      " 15%|█▌        | 3/20 [00:03<00:17,  1.00s/it]"
     ]
    },
    {
     "name": "stdout",
     "output_type": "stream",
     "text": [
      "3\n"
     ]
    },
    {
     "name": "stderr",
     "output_type": "stream",
     "text": [
      "\r",
      " 20%|██        | 4/20 [00:04<00:16,  1.00s/it]"
     ]
    },
    {
     "name": "stdout",
     "output_type": "stream",
     "text": [
      "4\n"
     ]
    },
    {
     "name": "stderr",
     "output_type": "stream",
     "text": [
      "\r",
      " 25%|██▌       | 5/20 [00:05<00:15,  1.00s/it]"
     ]
    },
    {
     "name": "stdout",
     "output_type": "stream",
     "text": [
      "5\n"
     ]
    },
    {
     "name": "stderr",
     "output_type": "stream",
     "text": [
      "\r",
      " 30%|███       | 6/20 [00:06<00:14,  1.00s/it]"
     ]
    },
    {
     "name": "stdout",
     "output_type": "stream",
     "text": [
      "6\n"
     ]
    },
    {
     "name": "stderr",
     "output_type": "stream",
     "text": [
      "\r",
      " 35%|███▌      | 7/20 [00:07<00:13,  1.00s/it]"
     ]
    },
    {
     "name": "stdout",
     "output_type": "stream",
     "text": [
      "7\n"
     ]
    },
    {
     "name": "stderr",
     "output_type": "stream",
     "text": [
      "\r",
      " 40%|████      | 8/20 [00:08<00:12,  1.00s/it]"
     ]
    },
    {
     "name": "stdout",
     "output_type": "stream",
     "text": [
      "8\n"
     ]
    },
    {
     "name": "stderr",
     "output_type": "stream",
     "text": [
      "\r",
      " 45%|████▌     | 9/20 [00:09<00:11,  1.00s/it]"
     ]
    },
    {
     "name": "stdout",
     "output_type": "stream",
     "text": [
      "9\n"
     ]
    },
    {
     "name": "stderr",
     "output_type": "stream",
     "text": [
      "\r",
      " 50%|█████     | 10/20 [00:10<00:10,  1.00s/it]"
     ]
    },
    {
     "name": "stdout",
     "output_type": "stream",
     "text": [
      "10\n"
     ]
    },
    {
     "name": "stderr",
     "output_type": "stream",
     "text": [
      "\r",
      " 55%|█████▌    | 11/20 [00:11<00:09,  1.00s/it]"
     ]
    },
    {
     "name": "stdout",
     "output_type": "stream",
     "text": [
      "11\n"
     ]
    },
    {
     "name": "stderr",
     "output_type": "stream",
     "text": [
      "\r",
      " 60%|██████    | 12/20 [00:12<00:08,  1.00s/it]"
     ]
    },
    {
     "name": "stdout",
     "output_type": "stream",
     "text": [
      "12\n"
     ]
    },
    {
     "name": "stderr",
     "output_type": "stream",
     "text": [
      "\r",
      " 65%|██████▌   | 13/20 [00:13<00:07,  1.00s/it]"
     ]
    },
    {
     "name": "stdout",
     "output_type": "stream",
     "text": [
      "13\n"
     ]
    },
    {
     "name": "stderr",
     "output_type": "stream",
     "text": [
      "\r",
      " 70%|███████   | 14/20 [00:14<00:06,  1.00s/it]"
     ]
    },
    {
     "name": "stdout",
     "output_type": "stream",
     "text": [
      "14\n"
     ]
    },
    {
     "name": "stderr",
     "output_type": "stream",
     "text": [
      "\r",
      " 75%|███████▌  | 15/20 [00:15<00:05,  1.00s/it]"
     ]
    },
    {
     "name": "stdout",
     "output_type": "stream",
     "text": [
      "15\n"
     ]
    },
    {
     "name": "stderr",
     "output_type": "stream",
     "text": [
      "\r",
      " 80%|████████  | 16/20 [00:16<00:04,  1.00s/it]"
     ]
    },
    {
     "name": "stdout",
     "output_type": "stream",
     "text": [
      "16\n"
     ]
    },
    {
     "name": "stderr",
     "output_type": "stream",
     "text": [
      "\r",
      " 85%|████████▌ | 17/20 [00:17<00:03,  1.00s/it]"
     ]
    },
    {
     "name": "stdout",
     "output_type": "stream",
     "text": [
      "17\n"
     ]
    },
    {
     "name": "stderr",
     "output_type": "stream",
     "text": [
      "\r",
      " 90%|█████████ | 18/20 [00:18<00:02,  1.00s/it]"
     ]
    },
    {
     "name": "stdout",
     "output_type": "stream",
     "text": [
      "18\n"
     ]
    },
    {
     "name": "stderr",
     "output_type": "stream",
     "text": [
      "\r",
      " 95%|█████████▌| 19/20 [00:19<00:01,  1.00s/it]"
     ]
    },
    {
     "name": "stdout",
     "output_type": "stream",
     "text": [
      "19\n"
     ]
    },
    {
     "name": "stderr",
     "output_type": "stream",
     "text": [
      "100%|██████████| 20/20 [00:20<00:00,  1.00s/it]\n"
     ]
    }
   ],
   "source": [
    "from tqdm import tqdm\n",
    "import time\n",
    "\n",
    "for i in tqdm(range(20)):\n",
    "    start = time.time()\n",
    "    print(i)\n",
    "    time.sleep(1)"
   ]
  },
  {
   "cell_type": "markdown",
   "id": "b6a25909-ecfe-4d2c-9c34-2f956b25ce57",
   "metadata": {
    "id": "b6a25909-ecfe-4d2c-9c34-2f956b25ce57"
   },
   "source": [
    "<h3 id=\"while\">What is <code>while</code> loop?</h3>\n"
   ]
  },
  {
   "cell_type": "markdown",
   "id": "2bb8a3f1-4ee1-4f6c-9083-dadf81bf0d28",
   "metadata": {
    "id": "2bb8a3f1-4ee1-4f6c-9083-dadf81bf0d28"
   },
   "source": [
    "The <code>while</code> loop exists as a tool for repeated execution based on a condition. The code block will keep being executed until the given logical condition returns a **False** boolean value."
   ]
  },
  {
   "cell_type": "markdown",
   "id": "fd60e092-56a4-4cd3-9d2e-32d9c3cdbdd1",
   "metadata": {
    "id": "fd60e092-56a4-4cd3-9d2e-32d9c3cdbdd1"
   },
   "source": [
    "#### Here's how a while loop works:\n",
    "\n",
    "1. First, you specify a condition that the loop will check before each iteration (repetition) of the code block.\n",
    "2. If the condition is initially true, the code block is executed.\n",
    "3. After executing the code block, the condition is checked again.\n",
    "4. If the condition is still true, the code block is executed again.\n",
    "5. Steps 3 and 4 repeat until the condition becomes false.\n",
    "6. Once the condition becomes false, the loop stops, and the program continues with the next line of code after the loop.\n"
   ]
  },
  {
   "cell_type": "markdown",
   "id": "604ee527-f7ee-4ef8-a674-389a188962ef",
   "metadata": {
    "id": "604ee527-f7ee-4ef8-a674-389a188962ef"
   },
   "source": [
    "**Here's an example of a while loop that prints numbers from 1 to 5:**\n"
   ]
  },
  {
   "cell_type": "code",
   "execution_count": 112,
   "id": "7ffee84d-37b8-4075-8b26-c1eed3615da6",
   "metadata": {
    "colab": {
     "base_uri": "https://localhost:8080/"
    },
    "id": "7ffee84d-37b8-4075-8b26-c1eed3615da6",
    "outputId": "eab88773-574d-4a5b-cc0d-1d1858a148ca"
   },
   "outputs": [
    {
     "name": "stdout",
     "output_type": "stream",
     "text": [
      "1\n",
      "2\n",
      "3\n",
      "4\n",
      "5\n"
     ]
    }
   ],
   "source": [
    "count = 1\n",
    "while count <= 5:\n",
    "    print(count)\n",
    "    count += 1"
   ]
  },
  {
   "cell_type": "markdown",
   "id": "29a1003a-c386-45bc-a724-b336ba16c677",
   "metadata": {
    "id": "29a1003a-c386-45bc-a724-b336ba16c677"
   },
   "source": [
    "In this example, the condition **count <= 5** is checked before each iteration. As long as count is less than or equal to 5, the code block inside the loop is executed. After each iteration, the value of count is incremented by 1 using count += 1. Once count reaches 6, the condition becomes false, and the loop stops."
   ]
  },
  {
   "cell_type": "markdown",
   "id": "48382533-96ee-49d8-9c07-741c50cdb8e6",
   "metadata": {
    "id": "48382533-96ee-49d8-9c07-741c50cdb8e6"
   },
   "source": [
    "### Key point of While Loop:\n",
    "\n",
    "1. A while loop repeatedly executes a block of code as long as a given condition is true.\n",
    "2. It does not have a fixed number of iterations but continues executing until the condition becomes false.\n",
    "3. The condition is checked before each iteration, and if it's false initially, the code block is skipped entirely.\n",
    "4. The condition is typically based on a variable or expression that can change during the execution of the loop.\n",
    "5. It provides more flexibility in terms of controlling the loop's execution based on dynamic conditions.\n"
   ]
  },
  {
   "cell_type": "markdown",
   "id": "791c1d17-dd21-4e2e-9a93-1be010c65fd1",
   "metadata": {
    "id": "791c1d17-dd21-4e2e-9a93-1be010c65fd1"
   },
   "source": [
    "### Key point of For Loop:\n",
    "\n",
    "1. A for loop iterates over a sequence (such as a list, string, or range) or any object that supports iteration.\n",
    "2. It has a predefined number of iterations based on the length of the sequence or the number of items to iterate over.\n",
    "3. It automatically handles the iteration and does not require maintaining a separate variable for tracking the iteration count.\n",
    "4. It simplifies the code by encapsulating the iteration logic within the loop itself.\n",
    "5. It is commonly used when you know the exact number of iterations or need to iterate over each item in a collection.\n"
   ]
  },
  {
   "cell_type": "markdown",
   "id": "8076eeb0-4198-4f9e-8fcc-61ac37f928c4",
   "metadata": {
    "id": "8076eeb0-4198-4f9e-8fcc-61ac37f928c4"
   },
   "source": [
    "<hr>\n"
   ]
  },
  {
   "cell_type": "markdown",
   "id": "26738e5b-85dd-4188-bc2d-9f6a158be82d",
   "metadata": {
    "id": "26738e5b-85dd-4188-bc2d-9f6a158be82d"
   },
   "source": [
    "<h2 id=\"quiz\">Practise Exercises on Loops</h2>\n"
   ]
  },
  {
   "cell_type": "markdown",
   "id": "d34f7257-d9b9-432f-9236-1a79ef112ed2",
   "metadata": {
    "id": "d34f7257-d9b9-432f-9236-1a79ef112ed2"
   },
   "source": [
    "Write a <code>for</code> loop the prints out all the element between <b>-5</b> and <b>5</b> using the range function.\n"
   ]
  },
  {
   "cell_type": "code",
   "execution_count": 113,
   "id": "fa977836-c28c-471d-baa7-b742dbc2f764",
   "metadata": {
    "id": "fa977836-c28c-471d-baa7-b742dbc2f764"
   },
   "outputs": [],
   "source": [
    "# Write your code below and press Shift+Enter to execute\n"
   ]
  },
  {
   "cell_type": "markdown",
   "id": "008717d0-f69f-40bf-8c5e-898f1060b75e",
   "metadata": {
    "id": "008717d0-f69f-40bf-8c5e-898f1060b75e"
   },
   "source": [
    "<details><summary>Click here for the solution</summary>\n",
    "\n",
    "```python\n",
    "for i in range(-4, 5):\n",
    "    print(i)\n",
    "    \n",
    "```\n",
    "\n",
    "</details>\n"
   ]
  },
  {
   "cell_type": "markdown",
   "id": "a9db9af0-247e-4eb1-8fc0-b725fc24c3a2",
   "metadata": {
    "id": "a9db9af0-247e-4eb1-8fc0-b725fc24c3a2"
   },
   "source": [
    "<hr>\n"
   ]
  },
  {
   "cell_type": "markdown",
   "id": "de3e1596-2891-48f6-bedb-63b7c40d00de",
   "metadata": {
    "id": "de3e1596-2891-48f6-bedb-63b7c40d00de"
   },
   "source": [
    "Write a for loop that prints out the following list: <code>squares=['red', 'yellow', 'green', 'purple', 'blue']</code>\n"
   ]
  },
  {
   "cell_type": "code",
   "execution_count": 114,
   "id": "57b328e7-5db7-4c33-9a40-fbb800ee74b7",
   "metadata": {
    "id": "57b328e7-5db7-4c33-9a40-fbb800ee74b7"
   },
   "outputs": [],
   "source": [
    "# Write your code below and press Shift+Enter to execute\n"
   ]
  },
  {
   "cell_type": "markdown",
   "id": "f38a2a4a-ecbe-41c1-969d-a097e18668f9",
   "metadata": {
    "id": "f38a2a4a-ecbe-41c1-969d-a097e18668f9"
   },
   "source": [
    "<details><summary>Click here for the solution</summary>\n",
    "\n",
    "```python\n",
    "squares=['red', 'yellow', 'green', 'purple', 'blue']\n",
    "for square in squares:\n",
    "    print(square)\n",
    "    \n",
    "```\n",
    "\n",
    "</details>\n"
   ]
  },
  {
   "cell_type": "markdown",
   "id": "2012c9bc-7bc5-419b-850e-1eb3c41720af",
   "metadata": {
    "id": "2012c9bc-7bc5-419b-850e-1eb3c41720af"
   },
   "source": [
    "<hr>\n"
   ]
  },
  {
   "cell_type": "markdown",
   "id": "0dd7283c-d3d1-47cd-90ae-c46770fa1845",
   "metadata": {
    "id": "0dd7283c-d3d1-47cd-90ae-c46770fa1845"
   },
   "source": [
    "Write a while loop to display the values of the Rating of an album playlist stored in the list <code>PlayListRatings</code>. If the score is less than 6, exit the loop. The list <code>PlayListRatings</code> is given by: <code>PlayListRatings = [10, 9.5, 10, 8, 7.5, 5, 10, 10]</code>\n"
   ]
  },
  {
   "cell_type": "code",
   "execution_count": 115,
   "id": "38943c14-da74-4e33-98bf-1a9d3d0a47e1",
   "metadata": {
    "colab": {
     "base_uri": "https://localhost:8080/"
    },
    "id": "38943c14-da74-4e33-98bf-1a9d3d0a47e1",
    "outputId": "8b52fe6d-95e6-4ea0-a272-5ce656eda8aa"
   },
   "outputs": [
    {
     "name": "stdout",
     "output_type": "stream",
     "text": [
      "10\n",
      "9.5\n",
      "10\n",
      "8\n",
      "7.5\n"
     ]
    }
   ],
   "source": [
    "# Write your code below and press Shift+Enter to execute\n",
    "PlayListRatings = [10, 9.5, 10, 8, 7.5, 5, 10, 10]\n",
    "i = 0\n",
    "rating = PlayListRatings[0]\n",
    "while(i < len(PlayListRatings) and rating >= 6):\n",
    "    print(rating)\n",
    "    i = i + 1\n",
    "    rating = PlayListRatings[i]"
   ]
  },
  {
   "cell_type": "markdown",
   "id": "bd01eec5-55ac-4386-b203-1a518fef2fb2",
   "metadata": {
    "id": "bd01eec5-55ac-4386-b203-1a518fef2fb2"
   },
   "source": [
    "<details><summary>Click here for the solution</summary>\n",
    "\n",
    "```python\n",
    "PlayListRatings = [10, 9.5, 10, 8, 7.5, 5, 10, 10]\n",
    "i = 0\n",
    "rating = PlayListRatings[0]\n",
    "while(i < len(PlayListRatings) and rating >= 6):\n",
    "    print(rating)\n",
    "    i = i + 1\n",
    "    rating = PlayListRatings[i]    \n",
    "```\n",
    "\n",
    "</details>\n"
   ]
  },
  {
   "cell_type": "markdown",
   "id": "73d02bcc-e486-4c83-97ab-2f78a77616eb",
   "metadata": {
    "id": "73d02bcc-e486-4c83-97ab-2f78a77616eb"
   },
   "source": [
    "Write a while loop to copy the strings <code>'orange'</code> of the list <code>squares</code> to the list <code>new_squares</code>. Stop and exit the loop if the value on the list is not <code>'orange'</code>:\n"
   ]
  },
  {
   "cell_type": "code",
   "execution_count": 116,
   "id": "3a0f6f4c-2145-4bc8-a60c-cee03bb1457d",
   "metadata": {
    "id": "3a0f6f4c-2145-4bc8-a60c-cee03bb1457d"
   },
   "outputs": [],
   "source": [
    "# Write your code below and press Shift+Enter to execute\n",
    "\n",
    "squares = ['orange', 'orange', 'purple', 'blue ', 'orange']\n",
    "new_squares = []\n"
   ]
  },
  {
   "cell_type": "markdown",
   "id": "cb7ab917-1d47-48ea-bd45-dd9033341942",
   "metadata": {
    "id": "cb7ab917-1d47-48ea-bd45-dd9033341942"
   },
   "source": [
    "<details><summary>Click here for the solution</summary>\n",
    "\n",
    "```python\n",
    "squares = ['orange', 'orange', 'purple', 'blue ', 'orange']\n",
    "new_squares = []\n",
    "i = 0\n",
    "while(i < len(squares) and squares[i] == 'orange'):\n",
    "    new_squares.append(squares[i])\n",
    "    i = i + 1\n",
    "print (new_squares)\n",
    "    \n",
    "```\n",
    "\n",
    "</details>\n",
    "\n"
   ]
  },
  {
   "cell_type": "markdown",
   "id": "cb5baf0e-a85e-483d-a860-00a6e18bc27d",
   "metadata": {
    "id": "cb5baf0e-a85e-483d-a860-00a6e18bc27d"
   },
   "source": [
    "<h2 id=\"strings\">What are Strings?</h2>\n"
   ]
  },
  {
   "cell_type": "markdown",
   "id": "5d1fb60d-d461-4507-a8a7-f3c703558b98",
   "metadata": {
    "id": "5d1fb60d-d461-4507-a8a7-f3c703558b98"
   },
   "source": [
    "The following example shows a string contained within 2 quotation marks:\n"
   ]
  },
  {
   "cell_type": "code",
   "execution_count": 117,
   "id": "864d286a-bb9d-4c27-ba95-63bc002f897a",
   "metadata": {
    "colab": {
     "base_uri": "https://localhost:8080/"
    },
    "id": "864d286a-bb9d-4c27-ba95-63bc002f897a",
    "outputId": "77b1dcb8-ec44-4e20-ccb4-ee996c8b9e3d"
   },
   "outputs": [
    {
     "name": "stdout",
     "output_type": "stream",
     "text": [
      "Michael Jackson  --  Michael Jackson  --  1 2 3 4 5 6   --  @#2_#]&*^%$\n"
     ]
    }
   ],
   "source": [
    "# Use quotation marks for defining string\n",
    "str1 = \"Michael Jackson\"\n",
    "str2 = 'Michael Jackson'\n",
    "# Digitals and spaces in string\n",
    "str3 = '1 2 3 4 5 6 '\n",
    "# Special characters in string\n",
    "str4 = '@#2_#]&*^%$'\n",
    "# Print the string\n",
    "print(str1 ,\" -- \", str2 ,\" -- \", str3 ,\" -- \", str4)"
   ]
  },
  {
   "cell_type": "markdown",
   "id": "5c86ae35-fa19-42a7-81c5-36f56c5e24ca",
   "metadata": {
    "id": "5c86ae35-fa19-42a7-81c5-36f56c5e24ca"
   },
   "source": [
    "<h2 id=\"index\">Indexing</h2>\n"
   ]
  },
  {
   "cell_type": "markdown",
   "id": "c374f9a0-493a-468f-985c-6603c3a1347a",
   "metadata": {
    "id": "c374f9a0-493a-468f-985c-6603c3a1347a"
   },
   "source": [
    "It is helpful to think of a string as an ordered sequence. Each element in the sequence can be accessed using an index represented by the array of numbers:\n"
   ]
  },
  {
   "cell_type": "markdown",
   "id": "3b2877f8-d55f-4ea2-abc5-9909cb6fc849",
   "metadata": {
    "id": "3b2877f8-d55f-4ea2-abc5-9909cb6fc849"
   },
   "source": [
    "<img src=\"https://cf-courses-data.s3.us.cloud-object-storage.appdomain.cloud/IBMDeveloperSkillsNetwork-PY0101EN-SkillsNetwork/labs/Module%201/images/StringsIndex.png\" width=\"600\" align=\"center\">\n"
   ]
  },
  {
   "cell_type": "markdown",
   "id": "fc3d4df3-21c4-4926-a29e-32ca0fee3d12",
   "metadata": {
    "id": "fc3d4df3-21c4-4926-a29e-32ca0fee3d12"
   },
   "source": [
    "## string[index]"
   ]
  },
  {
   "cell_type": "markdown",
   "id": "4e70f90d-116a-49a8-9fad-1e268c5007ab",
   "metadata": {
    "id": "4e70f90d-116a-49a8-9fad-1e268c5007ab"
   },
   "source": [
    "<hr/>\n",
    "<div class=\"alert alert-success alertsuccess\" style=\"margin-top: 20px\">\n",
    "[Tip]: Because indexing starts at 0, it means the first index is on the index 0.\n",
    "</div>\n",
    "<hr/>\n"
   ]
  },
  {
   "cell_type": "code",
   "execution_count": 118,
   "id": "c0a6e0e6-858a-4c22-80c5-6488c90ccaa3",
   "metadata": {
    "id": "c0a6e0e6-858a-4c22-80c5-6488c90ccaa3"
   },
   "outputs": [],
   "source": [
    "name = \"Michael Jackson\""
   ]
  },
  {
   "cell_type": "code",
   "execution_count": 119,
   "id": "9d753e72-44c8-4c6a-a909-8c8f94cc525b",
   "metadata": {
    "colab": {
     "base_uri": "https://localhost:8080/"
    },
    "id": "9d753e72-44c8-4c6a-a909-8c8f94cc525b",
    "outputId": "1350e384-45f2-4fac-a83c-2400ec4d6bdd"
   },
   "outputs": [
    {
     "name": "stdout",
     "output_type": "stream",
     "text": [
      "M\n"
     ]
    }
   ],
   "source": [
    "# Print the first element in the string\n",
    "print(name[0])"
   ]
  },
  {
   "cell_type": "markdown",
   "id": "b8bde969-6b46-40e8-b3a8-15747fa9a8df",
   "metadata": {
    "id": "b8bde969-6b46-40e8-b3a8-15747fa9a8df"
   },
   "source": [
    "<h3 id=\"neg\">Negative Indexing</h3>\n"
   ]
  },
  {
   "cell_type": "markdown",
   "id": "41dcc6f7-567c-4fbf-b903-864ad7dad032",
   "metadata": {
    "id": "41dcc6f7-567c-4fbf-b903-864ad7dad032"
   },
   "source": [
    "We can also use negative indexing with strings:\n"
   ]
  },
  {
   "cell_type": "markdown",
   "id": "9ac97e62-85da-43c2-92d7-79ce05a9b50b",
   "metadata": {
    "id": "9ac97e62-85da-43c2-92d7-79ce05a9b50b"
   },
   "source": [
    "<img src=\"https://cf-courses-data.s3.us.cloud-object-storage.appdomain.cloud/IBMDeveloperSkillsNetwork-PY0101EN-SkillsNetwork/labs/Module%201/images/StringsNeg.png\" width=\"600\" align=\"center\">\n"
   ]
  },
  {
   "cell_type": "markdown",
   "id": "0b1a6045-f03e-4f45-a595-e0bed47dcc72",
   "metadata": {
    "id": "0b1a6045-f03e-4f45-a595-e0bed47dcc72"
   },
   "source": [
    "Negative index can help us to count the element from the end of the string.\n"
   ]
  },
  {
   "cell_type": "markdown",
   "id": "da23cbac-768b-4883-962a-307e58df62a2",
   "metadata": {
    "id": "da23cbac-768b-4883-962a-307e58df62a2"
   },
   "source": [
    "The last element is given by the index -1:\n"
   ]
  },
  {
   "cell_type": "code",
   "execution_count": 120,
   "id": "16d4ad2e-5e74-4654-bdaa-98c91ea822b6",
   "metadata": {
    "colab": {
     "base_uri": "https://localhost:8080/"
    },
    "id": "16d4ad2e-5e74-4654-bdaa-98c91ea822b6",
    "outputId": "cfb668de-009b-4dc5-ed5d-d5a4a91ffed1"
   },
   "outputs": [
    {
     "name": "stdout",
     "output_type": "stream",
     "text": [
      "n\n"
     ]
    }
   ],
   "source": [
    "# Print the last element in the string\n",
    "print(name[-1])"
   ]
  },
  {
   "cell_type": "markdown",
   "id": "c17c863f-b95b-4420-9f15-89d6f245761f",
   "metadata": {
    "id": "c17c863f-b95b-4420-9f15-89d6f245761f"
   },
   "source": [
    "We can find the number of characters in a string by using <code>len</code>, short for length:\n"
   ]
  },
  {
   "cell_type": "code",
   "execution_count": 121,
   "id": "bca11dc3-741d-4479-b0eb-aee8324194a7",
   "metadata": {
    "colab": {
     "base_uri": "https://localhost:8080/"
    },
    "id": "bca11dc3-741d-4479-b0eb-aee8324194a7",
    "outputId": "bb177d02-a8d8-4db0-db55-e4c2a8a9c426"
   },
   "outputs": [
    {
     "data": {
      "text/plain": [
       "15"
      ]
     },
     "execution_count": 121,
     "metadata": {},
     "output_type": "execute_result"
    }
   ],
   "source": [
    "# Find the length of string\n",
    "len(\"Michael Jackson\")"
   ]
  },
  {
   "cell_type": "markdown",
   "id": "67dbeaa1-66d7-44a7-8698-2a1c59b865ca",
   "metadata": {
    "id": "67dbeaa1-66d7-44a7-8698-2a1c59b865ca"
   },
   "source": [
    "<h3 id=\"slice\">Slicing</h3>\n"
   ]
  },
  {
   "cell_type": "markdown",
   "id": "620bb2e0-def3-4182-bf0f-84309c5bf370",
   "metadata": {
    "id": "620bb2e0-def3-4182-bf0f-84309c5bf370"
   },
   "source": [
    "We can obtain multiple characters from a string using slicing, we can obtain the 0 to 4th and 8th to the 12th element:\n"
   ]
  },
  {
   "cell_type": "markdown",
   "id": "e17217aa-3191-4b67-a059-641026edc7b6",
   "metadata": {
    "id": "e17217aa-3191-4b67-a059-641026edc7b6"
   },
   "source": [
    "<img src=\"https://cf-courses-data.s3.us.cloud-object-storage.appdomain.cloud/IBMDeveloperSkillsNetwork-PY0101EN-SkillsNetwork/labs/Module%201/images/StringsSlice.png\" width=\"600\" align=\"center\">\n",
    "\n",
    "## string[start:end]"
   ]
  },
  {
   "cell_type": "markdown",
   "id": "a02024c1-c264-4867-9c29-c124756892b6",
   "metadata": {
    "id": "a02024c1-c264-4867-9c29-c124756892b6"
   },
   "source": [
    "<hr/>\n",
    "<div class=\"alert alert-success alertsuccess\" style=\"margin-top: 20px\">\n",
    "[Tip]: When taking the slice, the first number means the index (start at 0), and the second number means the length from the index to the last element you want (start at 1)\n",
    "</div>\n",
    "<hr/>\n"
   ]
  },
  {
   "cell_type": "code",
   "execution_count": 122,
   "id": "9bc74463-d7b7-42cb-8399-321039dc13c8",
   "metadata": {
    "colab": {
     "base_uri": "https://localhost:8080/",
     "height": 36
    },
    "id": "9bc74463-d7b7-42cb-8399-321039dc13c8",
    "outputId": "7695bdb0-9d77-451c-9e7b-6e47dc42c696"
   },
   "outputs": [
    {
     "data": {
      "application/vnd.google.colaboratory.intrinsic+json": {
       "type": "string"
      },
      "text/plain": [
       "'Mich'"
      ]
     },
     "execution_count": 122,
     "metadata": {},
     "output_type": "execute_result"
    }
   ],
   "source": [
    "# Take the slice on variable name with only index 0 to index 3\n",
    "name[0:4]"
   ]
  },
  {
   "cell_type": "markdown",
   "id": "e2f057cf-e050-4cc9-8ec7-24f07c7c6670",
   "metadata": {
    "id": "e2f057cf-e050-4cc9-8ec7-24f07c7c6670"
   },
   "source": [
    "<h3 id=\"stride\">Stride</h3>\n"
   ]
  },
  {
   "cell_type": "markdown",
   "id": "4cde1438-e0bf-4b57-8c23-32bf437aa7f4",
   "metadata": {
    "id": "4cde1438-e0bf-4b57-8c23-32bf437aa7f4"
   },
   "source": [
    "We can also input a stride value as follows, with the '2' indicating that we are selecting every second variable:\n"
   ]
  },
  {
   "cell_type": "markdown",
   "id": "584a9901-8bf9-44c3-91f8-fae86670e0d0",
   "metadata": {
    "id": "584a9901-8bf9-44c3-91f8-fae86670e0d0"
   },
   "source": [
    "<img src=\"https://cf-courses-data.s3.us.cloud-object-storage.appdomain.cloud/IBMDeveloperSkillsNetwork-PY0101EN-SkillsNetwork/labs/Module%201/images/StringsStride.png\" width=\"600\" align=\"center\">\n",
    "\n",
    "## string[start:end:step]\n"
   ]
  },
  {
   "cell_type": "code",
   "execution_count": 123,
   "id": "9d7b763f-884e-4364-b6ba-06d8c03d126c",
   "metadata": {
    "colab": {
     "base_uri": "https://localhost:8080/",
     "height": 36
    },
    "id": "9d7b763f-884e-4364-b6ba-06d8c03d126c",
    "outputId": "235b2d63-7975-4ed6-9585-e74849e3dc57"
   },
   "outputs": [
    {
     "data": {
      "application/vnd.google.colaboratory.intrinsic+json": {
       "type": "string"
      },
      "text/plain": [
       "'McalJcsn'"
      ]
     },
     "execution_count": 123,
     "metadata": {},
     "output_type": "execute_result"
    }
   ],
   "source": [
    "# Get every second element. The elments on index 1, 3, 5 ...\n",
    "name[::2]"
   ]
  },
  {
   "cell_type": "markdown",
   "id": "1c23a63d-d95d-487b-9ebb-943fd6f0014b",
   "metadata": {
    "id": "1c23a63d-d95d-487b-9ebb-943fd6f0014b"
   },
   "source": [
    "We can also incorporate slicing  with the stride. In this case, we select the first five elements and then use the stride:\n"
   ]
  },
  {
   "cell_type": "code",
   "execution_count": 124,
   "id": "3ed5de5d-a936-4b66-b79d-337ed35c4112",
   "metadata": {
    "colab": {
     "base_uri": "https://localhost:8080/",
     "height": 36
    },
    "id": "3ed5de5d-a936-4b66-b79d-337ed35c4112",
    "outputId": "4bc3307f-f8f3-402b-8f6e-6aeff1f5cce7"
   },
   "outputs": [
    {
     "data": {
      "application/vnd.google.colaboratory.intrinsic+json": {
       "type": "string"
      },
      "text/plain": [
       "'Mca'"
      ]
     },
     "execution_count": 124,
     "metadata": {},
     "output_type": "execute_result"
    }
   ],
   "source": [
    "# Get every second element in the range from index 0 to index 4\n",
    "name[0:5:2]"
   ]
  },
  {
   "cell_type": "markdown",
   "id": "4d076dff-a7c4-4877-bbf0-a51e03757e68",
   "metadata": {
    "id": "4d076dff-a7c4-4877-bbf0-a51e03757e68"
   },
   "source": [
    "<h3 id=\"concat\">Concatenate Strings</h3>\n"
   ]
  },
  {
   "cell_type": "code",
   "execution_count": 125,
   "id": "d5896b3e-9188-400c-8756-791bcf650527",
   "metadata": {
    "colab": {
     "base_uri": "https://localhost:8080/",
     "height": 36
    },
    "id": "d5896b3e-9188-400c-8756-791bcf650527",
    "outputId": "d7266144-2c4f-45c4-b2eb-92647ae86a2c"
   },
   "outputs": [
    {
     "data": {
      "application/vnd.google.colaboratory.intrinsic+json": {
       "type": "string"
      },
      "text/plain": [
       "'Michael Jackson is the best'"
      ]
     },
     "execution_count": 125,
     "metadata": {},
     "output_type": "execute_result"
    }
   ],
   "source": [
    "# Concatenate two strings\n",
    "statement = name + \" is the best\"\n",
    "statement"
   ]
  },
  {
   "cell_type": "markdown",
   "id": "6d274112-ef6b-49b9-b389-f00777326910",
   "metadata": {
    "id": "6d274112-ef6b-49b9-b389-f00777326910"
   },
   "source": [
    "<hr>\n"
   ]
  },
  {
   "cell_type": "markdown",
   "id": "e8b41ef5-465d-404b-9bb0-656c545091d9",
   "metadata": {
    "id": "e8b41ef5-465d-404b-9bb0-656c545091d9"
   },
   "source": [
    "<h2 id=\"escape\">Escape Sequences</h2>\n"
   ]
  },
  {
   "cell_type": "code",
   "execution_count": 126,
   "id": "42a53a98-7ff8-424b-9303-0eb53509dcfc",
   "metadata": {
    "colab": {
     "base_uri": "https://localhost:8080/"
    },
    "id": "42a53a98-7ff8-424b-9303-0eb53509dcfc",
    "outputId": "5fcfcb09-a77d-44d0-f3ff-04ce405e0d11"
   },
   "outputs": [
    {
     "name": "stdout",
     "output_type": "stream",
     "text": [
      " Michael Jackson \n",
      " is the best\n"
     ]
    }
   ],
   "source": [
    "# New line escape sequence\n",
    "print(\" Michael Jackson \\n is the best\" )"
   ]
  },
  {
   "cell_type": "markdown",
   "id": "380912bf-4925-4100-8a6d-a057325526e4",
   "metadata": {
    "id": "380912bf-4925-4100-8a6d-a057325526e4"
   },
   "source": [
    "Similarly, back slash  \"t\" represents a tab:\n"
   ]
  },
  {
   "cell_type": "code",
   "execution_count": 127,
   "id": "930d831d-4ff6-4768-9106-e0c88632d1a4",
   "metadata": {
    "colab": {
     "base_uri": "https://localhost:8080/"
    },
    "id": "930d831d-4ff6-4768-9106-e0c88632d1a4",
    "outputId": "91b66892-c359-4cc2-d5da-4adcfedbf67a"
   },
   "outputs": [
    {
     "name": "stdout",
     "output_type": "stream",
     "text": [
      " Michael Jackson \t is the best\n"
     ]
    }
   ],
   "source": [
    "# Tab escape sequence\n",
    "print(\" Michael Jackson \\t is the best\" )"
   ]
  },
  {
   "cell_type": "markdown",
   "id": "96d60306-a9da-42fc-891c-d8483ac1ecf0",
   "metadata": {
    "id": "96d60306-a9da-42fc-891c-d8483ac1ecf0"
   },
   "source": [
    "If you want to place a back slash in your string, use a double back slash:\n"
   ]
  },
  {
   "cell_type": "code",
   "execution_count": 128,
   "id": "10edf8d6-4cde-4969-8122-9e5d3cccb669",
   "metadata": {
    "colab": {
     "base_uri": "https://localhost:8080/"
    },
    "id": "10edf8d6-4cde-4969-8122-9e5d3cccb669",
    "outputId": "074dafdd-f7b9-4e78-d83b-b09920d69204"
   },
   "outputs": [
    {
     "name": "stdout",
     "output_type": "stream",
     "text": [
      " Michael Jackson \\ is the best\n"
     ]
    }
   ],
   "source": [
    "# Include back slash in string\n",
    "print(\" Michael Jackson \\\\ is the best\" )"
   ]
  },
  {
   "cell_type": "markdown",
   "id": "cacd7a60-14bc-46b1-adb3-3254a50bedeb",
   "metadata": {
    "id": "cacd7a60-14bc-46b1-adb3-3254a50bedeb"
   },
   "source": [
    "We can also place an \"r\" before the string to display the backslash:\n"
   ]
  },
  {
   "cell_type": "code",
   "execution_count": 129,
   "id": "30c9fbe1-2a1b-4325-aaa9-f1f731416e57",
   "metadata": {
    "colab": {
     "base_uri": "https://localhost:8080/"
    },
    "id": "30c9fbe1-2a1b-4325-aaa9-f1f731416e57",
    "outputId": "1ee9b143-e6dc-4b0e-bd9e-d1cfa4af694c"
   },
   "outputs": [
    {
     "name": "stdout",
     "output_type": "stream",
     "text": [
      " Michael Jackson \\ is the best\n"
     ]
    }
   ],
   "source": [
    "# r will tell python that string will be display as raw string\n",
    "print(r\" Michael Jackson \\ is the best\" )"
   ]
  },
  {
   "cell_type": "markdown",
   "id": "3be3cfff-7478-4a7d-8af9-11b75596e78f",
   "metadata": {
    "id": "3be3cfff-7478-4a7d-8af9-11b75596e78f"
   },
   "source": [
    "<hr>\n"
   ]
  },
  {
   "cell_type": "markdown",
   "id": "51022016-bf3b-458f-91d5-58ead56d2a0d",
   "metadata": {
    "id": "51022016-bf3b-458f-91d5-58ead56d2a0d"
   },
   "source": [
    "<h2 id=\"operations\">String Operations</h2>\n"
   ]
  },
  {
   "cell_type": "markdown",
   "id": "4ce411a1-19e1-4106-8830-c28eb4a79316",
   "metadata": {
    "id": "4ce411a1-19e1-4106-8830-c28eb4a79316"
   },
   "source": [
    "There are many string operation methods in Python that can be used to manipulate the data.\n",
    "\n",
    " - upper()\n",
    " - strip()\n",
    " - lstrip()\n",
    " - rstrip()\n",
    " - replace(word, word)\n",
    " - find(word)\n",
    " - index(word)\n",
    " - .split(word,number element of list)\n",
    " - .rsplit(word, number element of list)\n",
    " - \", \".join(words)\n",
    " - count(word,start,end)"
   ]
  },
  {
   "cell_type": "markdown",
   "id": "004821d1-cc39-44fe-8a43-b3037f8315a8",
   "metadata": {
    "id": "004821d1-cc39-44fe-8a43-b3037f8315a8"
   },
   "source": [
    "<code>upper</code> :  this method converts lower case characters to upper case characters"
   ]
  },
  {
   "cell_type": "code",
   "execution_count": 130,
   "id": "d244f404-2fba-4c9c-b084-1b89ef070cb6",
   "metadata": {
    "colab": {
     "base_uri": "https://localhost:8080/"
    },
    "id": "d244f404-2fba-4c9c-b084-1b89ef070cb6",
    "outputId": "6c2ff3f6-f6bf-4a20-96b6-c87a4aaa07ee"
   },
   "outputs": [
    {
     "name": "stdout",
     "output_type": "stream",
     "text": [
      "before upper: Fady Fakher Fares\n",
      "After upper: FADY FAKHER FARES\n"
     ]
    }
   ],
   "source": [
    "str = \"Fady Fakher Fares\"\n",
    "print(\"before upper:\", str)\n",
    "print(\"After upper:\", str.upper())"
   ]
  },
  {
   "cell_type": "markdown",
   "id": "ad8fb203-be09-4318-9c4b-3ce248a79f5d",
   "metadata": {
    "id": "ad8fb203-be09-4318-9c4b-3ce248a79f5d"
   },
   "source": [
    "<code>replace</code> : replaces substring with a new string"
   ]
  },
  {
   "cell_type": "code",
   "execution_count": 131,
   "id": "ab71a369-cacf-4cc7-8ca6-2fd217cc2242",
   "metadata": {
    "colab": {
     "base_uri": "https://localhost:8080/",
     "height": 36
    },
    "id": "ab71a369-cacf-4cc7-8ca6-2fd217cc2242",
    "outputId": "a1f53cd8-749f-4ca0-a68c-38119dfb1184"
   },
   "outputs": [
    {
     "data": {
      "application/vnd.google.colaboratory.intrinsic+json": {
       "type": "string"
      },
      "text/plain": [
       "'Janet Jackson is the best'"
      ]
     },
     "execution_count": 131,
     "metadata": {},
     "output_type": "execute_result"
    }
   ],
   "source": [
    "# Replace the old substring with the new target substring is the segment has been found in the string\n",
    "str = \"Michael Jackson is the best\"\n",
    "str = str.replace('Michael', 'Janet')\n",
    "str"
   ]
  },
  {
   "cell_type": "markdown",
   "id": "42cf4aff-f2eb-4b50-8a7e-24adac03289a",
   "metadata": {
    "id": "42cf4aff-f2eb-4b50-8a7e-24adac03289a"
   },
   "source": [
    "<code>find</code> : finds a sub-string. input (string) , output (first index)"
   ]
  },
  {
   "cell_type": "code",
   "execution_count": 132,
   "id": "90c0a37b-a6b6-4e3f-b35e-0ae461b75ff0",
   "metadata": {
    "colab": {
     "base_uri": "https://localhost:8080/"
    },
    "id": "90c0a37b-a6b6-4e3f-b35e-0ae461b75ff0",
    "outputId": "503bbfda-029b-4890-aac3-07222276ab3b"
   },
   "outputs": [
    {
     "data": {
      "text/plain": [
       "5"
      ]
     },
     "execution_count": 132,
     "metadata": {},
     "output_type": "execute_result"
    }
   ],
   "source": [
    "name = \"Michael Jackson\"\n",
    "name.find('el')"
   ]
  },
  {
   "cell_type": "markdown",
   "id": "df36ac4d-256c-4900-81c6-402615a992ea",
   "metadata": {
    "id": "df36ac4d-256c-4900-81c6-402615a992ea"
   },
   "source": [
    "If the  sub-string is not in the string then the output is a negative one."
   ]
  },
  {
   "cell_type": "code",
   "execution_count": 133,
   "id": "4777647e-1e3f-49ff-a337-1d95ac727625",
   "metadata": {
    "colab": {
     "base_uri": "https://localhost:8080/"
    },
    "id": "4777647e-1e3f-49ff-a337-1d95ac727625",
    "outputId": "0ce62a62-8dab-4287-f529-7a1256133152"
   },
   "outputs": [
    {
     "data": {
      "text/plain": [
       "-1"
      ]
     },
     "execution_count": 133,
     "metadata": {},
     "output_type": "execute_result"
    }
   ],
   "source": [
    "# If cannot find the substring in the string\n",
    "name.find('Jasdfasdasdf')"
   ]
  },
  {
   "cell_type": "code",
   "execution_count": 134,
   "id": "9bbea9c2-6b7c-4c3d-acb3-4e2f98089435",
   "metadata": {
    "colab": {
     "base_uri": "https://localhost:8080/"
    },
    "id": "9bbea9c2-6b7c-4c3d-acb3-4e2f98089435",
    "outputId": "b365a8cd-947c-4eee-cf24-1ee2dab14c0e"
   },
   "outputs": [
    {
     "name": "stdout",
     "output_type": "stream",
     "text": [
      "5\n",
      "e\n"
     ]
    }
   ],
   "source": [
    "name = \"Michael Jackson\"\n",
    "position = name.index('el')\n",
    "print(position)\n",
    "print(name[position])"
   ]
  },
  {
   "cell_type": "markdown",
   "id": "23f70bf0-313b-4137-935f-dadd4d499a85",
   "metadata": {
    "id": "23f70bf0-313b-4137-935f-dadd4d499a85"
   },
   "source": [
    "#### find vs index"
   ]
  },
  {
   "cell_type": "markdown",
   "id": "419bca5e-d042-42f4-bce2-19cefa2be9a1",
   "metadata": {
    "id": "419bca5e-d042-42f4-bce2-19cefa2be9a1"
   },
   "source": [
    "- Return Value:\n",
    "    - find() returns -1 if the substring is not found.\n",
    "    - index() raises a ValueError if the substring is not found.\n",
    "- Use Case:\n",
    "    - Use find() when you want to handle cases where the substring might not be present without dealing with exceptions.\n",
    "    - Use index() when you expect the substring to be present and want the program to raise an error if it is not."
   ]
  },
  {
   "cell_type": "code",
   "execution_count": 134,
   "id": "c1682860-272c-4f3f-878a-18d89b2701d2",
   "metadata": {
    "id": "c1682860-272c-4f3f-878a-18d89b2701d2"
   },
   "outputs": [],
   "source": []
  },
  {
   "cell_type": "code",
   "execution_count": 135,
   "id": "b6c532fa-fc38-485f-92d8-19dc4f42241a",
   "metadata": {
    "colab": {
     "base_uri": "https://localhost:8080/"
    },
    "id": "b6c532fa-fc38-485f-92d8-19dc4f42241a",
    "outputId": "70da142d-42b2-4efd-be3f-e1a7173b4f73"
   },
   "outputs": [
    {
     "name": "stdout",
     "output_type": "stream",
     "text": [
      "['apple', 'banana', 'orange']\n"
     ]
    }
   ],
   "source": [
    "text = \"apple,banana,orange\"\n",
    "result = text.split(\",\")  # Splits the string at commas\n",
    "print(result)"
   ]
  },
  {
   "cell_type": "code",
   "execution_count": 136,
   "id": "53bdec25-06e1-4460-86f5-d5e31e11dca5",
   "metadata": {
    "colab": {
     "base_uri": "https://localhost:8080/"
    },
    "id": "53bdec25-06e1-4460-86f5-d5e31e11dca5",
    "outputId": "1c3a3679-c4f6-4e00-d4a5-8042d5812d89"
   },
   "outputs": [
    {
     "name": "stdout",
     "output_type": "stream",
     "text": [
      "['apple', 'banana,orange']\n"
     ]
    }
   ],
   "source": [
    "text = \"apple,banana,orange\"\n",
    "result = text.split(\",\",1)      # Splits the string at commas\n",
    "print(result)"
   ]
  },
  {
   "cell_type": "code",
   "execution_count": 137,
   "id": "cbcdefcd-51c7-4a25-9e81-00977d75e54a",
   "metadata": {
    "colab": {
     "base_uri": "https://localhost:8080/"
    },
    "id": "cbcdefcd-51c7-4a25-9e81-00977d75e54a",
    "outputId": "e661fa9b-94ee-4907-9218-64333638683b"
   },
   "outputs": [
    {
     "name": "stdout",
     "output_type": "stream",
     "text": [
      "['apple,banana', 'orange']\n"
     ]
    }
   ],
   "source": [
    "text = \"apple,banana,orange\"\n",
    "result = text.rsplit(\",\", 1)    # Splits once from the right\n",
    "print(result)"
   ]
  },
  {
   "cell_type": "code",
   "execution_count": 138,
   "id": "cc732932-c22d-4250-9b02-9a9bf588edce",
   "metadata": {
    "colab": {
     "base_uri": "https://localhost:8080/"
    },
    "id": "cc732932-c22d-4250-9b02-9a9bf588edce",
    "outputId": "67d647d1-eab3-4882-8853-ece95e968dee"
   },
   "outputs": [
    {
     "name": "stdout",
     "output_type": "stream",
     "text": [
      "Readability counts.\n"
     ]
    }
   ],
   "source": [
    "text = \"\\t Readability counts.\\t\"\n",
    "print(text.strip())"
   ]
  },
  {
   "cell_type": "code",
   "execution_count": 139,
   "id": "6e81a966-399c-430d-9e5f-3a738800d77b",
   "metadata": {
    "colab": {
     "base_uri": "https://localhost:8080/"
    },
    "id": "6e81a966-399c-430d-9e5f-3a738800d77b",
    "outputId": "38190a32-270d-4fab-a26b-8720a504b6f3"
   },
   "outputs": [
    {
     "name": "stdout",
     "output_type": "stream",
     "text": [
      "Readability counts. \t.\n"
     ]
    }
   ],
   "source": [
    "text = \"\\t Readability counts. \\t.\"\n",
    "print(text.lstrip())"
   ]
  },
  {
   "cell_type": "code",
   "execution_count": 140,
   "id": "f479b401-adaa-45d6-96ba-dfc27517081c",
   "metadata": {
    "colab": {
     "base_uri": "https://localhost:8080/"
    },
    "id": "f479b401-adaa-45d6-96ba-dfc27517081c",
    "outputId": "f01d8ca5-d89a-4da1-f52c-39bba38954a3"
   },
   "outputs": [
    {
     "name": "stdout",
     "output_type": "stream",
     "text": [
      "Readability counts.\n"
     ]
    }
   ],
   "source": [
    "text = \"Readability counts.ww\"\n",
    "print(text.rstrip('ww'))"
   ]
  },
  {
   "cell_type": "code",
   "execution_count": 141,
   "id": "59350406-f69b-4eb7-b406-8907acf5d43e",
   "metadata": {
    "colab": {
     "base_uri": "https://localhost:8080/"
    },
    "id": "59350406-f69b-4eb7-b406-8907acf5d43e",
    "outputId": "c54e9af6-2504-4316-f59a-a2b9191403a9"
   },
   "outputs": [
    {
     "name": "stdout",
     "output_type": "stream",
     "text": [
      "Hello, World, python\n"
     ]
    }
   ],
   "source": [
    "words = [\"Hello\", \"World\" ,\"python\"]\n",
    "print(\", \".join(words))"
   ]
  },
  {
   "cell_type": "code",
   "execution_count": 142,
   "id": "82a044d1-8dc4-4379-b329-0193ff2a2a54",
   "metadata": {
    "colab": {
     "base_uri": "https://localhost:8080/"
    },
    "id": "82a044d1-8dc4-4379-b329-0193ff2a2a54",
    "outputId": "c52f3863-b6db-44ae-a5fb-531620ccaa5a"
   },
   "outputs": [
    {
     "name": "stdout",
     "output_type": "stream",
     "text": [
      "2\n"
     ]
    }
   ],
   "source": [
    "txt = \"I love apples, apples are my favorite fruit\"\n",
    "print(txt.count(\"apple\",0,-1))  # string.count(value, start, end)"
   ]
  },
  {
   "cell_type": "code",
   "execution_count": 143,
   "id": "23fa79e7-4e3c-4d8a-89e8-38adca4ec099",
   "metadata": {
    "colab": {
     "base_uri": "https://localhost:8080/"
    },
    "id": "23fa79e7-4e3c-4d8a-89e8-38adca4ec099",
    "outputId": "ebbaaec5-fc87-43b9-b723-7556ae26a793"
   },
   "outputs": [
    {
     "name": "stdout",
     "output_type": "stream",
     "text": [
      "String matched\n"
     ]
    }
   ],
   "source": [
    "string= \"Michael Jackson is the best\"\n",
    "if \"Michael\" in string:\n",
    "    print('String matched')\n",
    "else:\n",
    "    print('String not matched')"
   ]
  },
  {
   "cell_type": "markdown",
   "id": "9af68dcd",
   "metadata": {
    "id": "9af68dcd"
   },
   "source": [
    "# Formating"
   ]
  },
  {
   "cell_type": "code",
   "execution_count": 144,
   "id": "b3b2567c",
   "metadata": {
    "id": "b3b2567c"
   },
   "outputs": [],
   "source": [
    "num = 12\n",
    "name = 'Sam'"
   ]
  },
  {
   "cell_type": "code",
   "execution_count": 145,
   "id": "6f7c8507",
   "metadata": {
    "colab": {
     "base_uri": "https://localhost:8080/"
    },
    "id": "6f7c8507",
    "outputId": "1eab20aa-3209-4ace-db80-47b6e3f5e554"
   },
   "outputs": [
    {
     "name": "stdout",
     "output_type": "stream",
     "text": [
      "My number is: 12, and my name is: Sam\n"
     ]
    }
   ],
   "source": [
    "print('My number is: {one}, and my name is: {two}'.format(one=num,two=name))"
   ]
  },
  {
   "cell_type": "code",
   "execution_count": 146,
   "id": "13551f1a",
   "metadata": {
    "colab": {
     "base_uri": "https://localhost:8080/"
    },
    "id": "13551f1a",
    "outputId": "69042558-ae35-43d8-98c6-47d81a6c43c3"
   },
   "outputs": [
    {
     "name": "stdout",
     "output_type": "stream",
     "text": [
      "My number is: 12, and my name is: Sam\n"
     ]
    }
   ],
   "source": [
    "print('My number is: {}, and my name is: {}'.format(num,name))"
   ]
  },
  {
   "cell_type": "markdown",
   "id": "8a6fce19-2819-4775-ace3-98bdeef438d6",
   "metadata": {
    "id": "8a6fce19-2819-4775-ace3-98bdeef438d6"
   },
   "source": [
    "F-strings allow you to embed expressions, variables, and even the results of functions directly into your string literals."
   ]
  },
  {
   "cell_type": "code",
   "execution_count": 147,
   "id": "3c8c7979-fa24-4c31-9468-c22d3a93dd28",
   "metadata": {
    "colab": {
     "base_uri": "https://localhost:8080/"
    },
    "id": "3c8c7979-fa24-4c31-9468-c22d3a93dd28",
    "outputId": "343907f9-fb8a-4b0c-fc41-dc8373b74b2e"
   },
   "outputs": [
    {
     "name": "stdout",
     "output_type": "stream",
     "text": [
      "Python is the best language\n"
     ]
    }
   ],
   "source": [
    "# f will tell python that string will be display as raw string\n",
    "name = 'Python'\n",
    "print(f\"{name} is the best language\" )"
   ]
  },
  {
   "cell_type": "markdown",
   "id": "d680cc99-322c-495c-87f6-ecafc638b475",
   "metadata": {
    "id": "d680cc99-322c-495c-87f6-ecafc638b475"
   },
   "source": [
    "<hr>\n"
   ]
  },
  {
   "cell_type": "markdown",
   "id": "e6c3c958-4d32-46e7-a84f-81f471aebbba",
   "metadata": {
    "id": "e6c3c958-4d32-46e7-a84f-81f471aebbba"
   },
   "source": [
    "<h2 id=\"quiz\">Quiz on Strings</h2>\n"
   ]
  },
  {
   "cell_type": "markdown",
   "id": "5d8275c7-f851-409f-902b-3f3959690e65",
   "metadata": {
    "id": "5d8275c7-f851-409f-902b-3f3959690e65"
   },
   "source": [
    "Consider the variable <code>d</code> use slicing to print out the first three elements:\n"
   ]
  },
  {
   "cell_type": "code",
   "execution_count": 148,
   "id": "c941b7f3-8bc9-48c0-916a-4aae597bad3e",
   "metadata": {
    "id": "c941b7f3-8bc9-48c0-916a-4aae597bad3e"
   },
   "outputs": [],
   "source": [
    "# Write your code below and press Shift+Enter to execute\n",
    "d = \"ABCDEFG\""
   ]
  },
  {
   "cell_type": "markdown",
   "id": "a2232e2e-c79b-4aa7-a917-8ee023f0b116",
   "metadata": {
    "id": "a2232e2e-c79b-4aa7-a917-8ee023f0b116"
   },
   "source": [
    "<details><summary>Click here for the solution</summary>\n",
    "\n",
    "```python\n",
    "print(d[:3])\n",
    "\n",
    "# or\n",
    "\n",
    "print(d[0:3])\n",
    "\n",
    "```\n",
    "\n",
    "</details>\n"
   ]
  },
  {
   "cell_type": "markdown",
   "id": "d4aca2de-d9ff-47d6-9a77-0593b7bc5112",
   "metadata": {
    "id": "d4aca2de-d9ff-47d6-9a77-0593b7bc5112"
   },
   "source": [
    "<hr>\n"
   ]
  },
  {
   "cell_type": "markdown",
   "id": "616e2b38-f8ba-4682-8b73-e5f29904b303",
   "metadata": {
    "id": "616e2b38-f8ba-4682-8b73-e5f29904b303"
   },
   "source": [
    "Use a stride value of 2 to print out every second character of the string <code>e</code>:\n"
   ]
  },
  {
   "cell_type": "code",
   "execution_count": 149,
   "id": "9fbff109-c521-46e7-b35a-05171080e4c1",
   "metadata": {
    "id": "9fbff109-c521-46e7-b35a-05171080e4c1"
   },
   "outputs": [],
   "source": [
    "# Write your code below and press Shift+Enter to execute\n",
    "e = 'clocrkr1e1c1t'"
   ]
  },
  {
   "cell_type": "markdown",
   "id": "3aaa71fc-8daa-4aa2-a4a9-fc53461d4aa2",
   "metadata": {
    "id": "3aaa71fc-8daa-4aa2-a4a9-fc53461d4aa2"
   },
   "source": [
    "<details><summary>Click here for the solution</summary>\n",
    "\n",
    "```python\n",
    "print(e[::2])\n",
    "\n",
    "```\n",
    "\n",
    "</details>\n"
   ]
  },
  {
   "cell_type": "markdown",
   "id": "4619605d-1aed-446f-bed4-28e35d4a04d9",
   "metadata": {
    "id": "4619605d-1aed-446f-bed4-28e35d4a04d9"
   },
   "source": [
    "<hr>\n"
   ]
  },
  {
   "cell_type": "markdown",
   "id": "dc054f68-2fb0-41e9-be58-398c3c38cb21",
   "metadata": {
    "id": "dc054f68-2fb0-41e9-be58-398c3c38cb21"
   },
   "source": [
    "Print out a backslash ( \\ ):\n"
   ]
  },
  {
   "cell_type": "code",
   "execution_count": 150,
   "id": "0265e844-42ed-4353-a7b8-3c86c4d18dcf",
   "metadata": {
    "id": "0265e844-42ed-4353-a7b8-3c86c4d18dcf"
   },
   "outputs": [],
   "source": [
    "# Write your code below and press Shift+Enter to execute"
   ]
  },
  {
   "cell_type": "markdown",
   "id": "513a1aad-dfd2-4871-9917-cba4f498e12e",
   "metadata": {
    "id": "513a1aad-dfd2-4871-9917-cba4f498e12e"
   },
   "source": [
    "<details><summary>Click here for the solution</summary>\n",
    "\n",
    "```python\n",
    "print(r\"\\\\\\\\\\\\ \")\n",
    "\n",
    "or\n",
    "\n",
    "print(r\"\\ \")\n",
    "\n",
    "```\n",
    "\n",
    "</details>\n"
   ]
  },
  {
   "cell_type": "markdown",
   "id": "571c6666-541b-4f65-a64a-ca7c1deba427",
   "metadata": {
    "id": "571c6666-541b-4f65-a64a-ca7c1deba427"
   },
   "source": [
    "<hr>\n"
   ]
  },
  {
   "cell_type": "markdown",
   "id": "41d52d11-fd7f-477e-8269-c6c47dee0c2c",
   "metadata": {
    "id": "41d52d11-fd7f-477e-8269-c6c47dee0c2c"
   },
   "source": [
    "Convert the variable <code>f</code> to uppercase:\n"
   ]
  },
  {
   "cell_type": "code",
   "execution_count": 151,
   "id": "c383f21f-bb52-4a21-b37f-e61f37c6e8f7",
   "metadata": {
    "id": "c383f21f-bb52-4a21-b37f-e61f37c6e8f7"
   },
   "outputs": [],
   "source": [
    "# Write your code below and press Shift+Enter to execute\n",
    "f = \"You are wrong\""
   ]
  },
  {
   "cell_type": "markdown",
   "id": "3640a178-52b8-4298-84ea-28c82dd2b4ba",
   "metadata": {
    "id": "3640a178-52b8-4298-84ea-28c82dd2b4ba"
   },
   "source": [
    "<details><summary>Click here for the solution</summary>\n",
    "\n",
    "```python\n",
    "f.upper()\n",
    "\n",
    "```\n",
    "\n",
    "</details>\n"
   ]
  },
  {
   "cell_type": "markdown",
   "id": "8bbbe0c3-8cdc-456d-82b5-9b69e8561fbd",
   "metadata": {
    "id": "8bbbe0c3-8cdc-456d-82b5-9b69e8561fbd"
   },
   "source": [
    "<hr>\n"
   ]
  },
  {
   "cell_type": "markdown",
   "id": "0cd94c3e-11f0-4c80-bf05-9d11c2dfd1a1",
   "metadata": {
    "id": "0cd94c3e-11f0-4c80-bf05-9d11c2dfd1a1"
   },
   "source": [
    "Consider the variable <code>g</code>, and find the first index of the sub-string <code>snow</code>:\n"
   ]
  },
  {
   "cell_type": "code",
   "execution_count": 152,
   "id": "98918fda-d4cd-474e-b13f-aedf787228cd",
   "metadata": {
    "id": "98918fda-d4cd-474e-b13f-aedf787228cd"
   },
   "outputs": [],
   "source": [
    "# Write your code below and press Shift+Enter to execute\n",
    "text = \"Mary had a little lamb Little lamb, little lamb Mary had a little lamb \\\n",
    "Its fleece was white as snow And everywhere that Mary went Mary went, Mary went \\\n",
    "Everywhere that Mary went The lamb was sure to go\""
   ]
  },
  {
   "cell_type": "markdown",
   "id": "f9af4ad7-daa3-4228-af81-7707238cb05d",
   "metadata": {
    "id": "f9af4ad7-daa3-4228-af81-7707238cb05d"
   },
   "source": [
    "<details><summary>Click here for the solution</summary>\n",
    "\n",
    "```python\n",
    "text.find(\"snow\")\n",
    "\n",
    "```\n",
    "\n",
    "</details>\n"
   ]
  },
  {
   "cell_type": "markdown",
   "id": "f0cb521c-b8f4-4d38-8066-911c7534e874",
   "metadata": {
    "id": "f0cb521c-b8f4-4d38-8066-911c7534e874"
   },
   "source": [
    "In the variable <code>g</code>, replace the sub-string <code>Mary</code> with <code>Bob</code>:"
   ]
  },
  {
   "cell_type": "code",
   "execution_count": 153,
   "id": "5dd8ac32-66f5-45b9-8b45-fe65e3de0e15",
   "metadata": {
    "id": "5dd8ac32-66f5-45b9-8b45-fe65e3de0e15"
   },
   "outputs": [],
   "source": [
    "# Write your code below and press Shift+Enter to execute"
   ]
  },
  {
   "cell_type": "markdown",
   "id": "e234ffb2-3de8-4889-90b0-6817bc65ac41",
   "metadata": {
    "id": "e234ffb2-3de8-4889-90b0-6817bc65ac41"
   },
   "source": [
    "<details><summary>Click here for the solution</summary>\n",
    "\n",
    "```python\n",
    "text.replace(\"Mary\", \"Bob\")\n",
    "\n",
    "```\n",
    "\n",
    "</details>\n"
   ]
  },
  {
   "cell_type": "markdown",
   "id": "aea1a81c",
   "metadata": {
    "id": "aea1a81c"
   },
   "source": [
    "<h2 id=\"func\">Functions</h2>\n"
   ]
  },
  {
   "cell_type": "markdown",
   "id": "590e9f41",
   "metadata": {
    "id": "590e9f41"
   },
   "source": [
    "- A function is a reusable block of code which performs operations specified in the function.\n",
    "- They let you break down tasks and allow you to reuse your code in different programs.\n",
    "\n",
    "There are two types of functions :\n",
    "  * <b>Pre-defined functions</b>\n",
    "  * <b>User defined functions</b>\n"
   ]
  },
  {
   "cell_type": "markdown",
   "id": "249c297a",
   "metadata": {
    "id": "249c297a"
   },
   "source": [
    "<h3 id=\"content\">What is a Function?</h3>\n"
   ]
  },
  {
   "cell_type": "markdown",
   "id": "44602a99",
   "metadata": {
    "id": "44602a99"
   },
   "source": [
    "You can define functions to provide the required functionality. Here are simple rules to define a function in Python:\n",
    "\n",
    "*   Functions blocks begin <code>def</code> followed by the function <code>name</code> and parentheses <code>()</code>.\n",
    "*   There are input parameters or arguments that should be placed within these parentheses.\n",
    "*   You can also define parameters inside these parentheses.\n",
    "*   There is a body within every function that starts with a colon (<code>:</code>) and is indented.\n",
    "*   You can also place documentation before the body.\n",
    "*   The statement <code>return</code> exits a function, optionally passing back a value.\n",
    "\n",
    "An example of a function that adds on to the parameter <code>a</code> prints and returns the output as <code>b</code>:\n"
   ]
  },
  {
   "cell_type": "markdown",
   "id": "7d47fe76-3682-4a72-8bed-f5193d3b3a11",
   "metadata": {
    "id": "7d47fe76-3682-4a72-8bed-f5193d3b3a11"
   },
   "source": [
    "![51.png](attachment:9b363c3c-26cb-4f07-b532-ad86c0560cd8.png)\n",
    "ref : https://www.geeksforgeeks.org/python-functions/"
   ]
  },
  {
   "cell_type": "code",
   "execution_count": 154,
   "id": "4d7bcd2f",
   "metadata": {
    "id": "4d7bcd2f"
   },
   "outputs": [],
   "source": [
    "# First function example: Add 1 to a and store as b\n",
    "def add(a):\n",
    "    \"\"\"\n",
    "    add 1 to a\n",
    "    \"\"\"\n",
    "    b = a + 1\n",
    "    print(a, \"if you add one\", b)\n",
    "    return(b)"
   ]
  },
  {
   "cell_type": "markdown",
   "id": "01cf9338",
   "metadata": {
    "id": "01cf9338"
   },
   "source": [
    "We can obtain help about a function :"
   ]
  },
  {
   "cell_type": "code",
   "execution_count": 155,
   "id": "778247da",
   "metadata": {
    "colab": {
     "base_uri": "https://localhost:8080/"
    },
    "id": "778247da",
    "outputId": "77ad96fd-fdfc-4637-c9b7-d1164aacfd09"
   },
   "outputs": [
    {
     "name": "stdout",
     "output_type": "stream",
     "text": [
      "Help on function add in module __main__:\n",
      "\n",
      "add(a)\n",
      "    add 1 to a\n",
      "\n"
     ]
    }
   ],
   "source": [
    "help(add)"
   ]
  },
  {
   "cell_type": "markdown",
   "id": "1a148a4a",
   "metadata": {
    "id": "1a148a4a"
   },
   "source": [
    "We can call the function:\n"
   ]
  },
  {
   "cell_type": "code",
   "execution_count": 156,
   "id": "0bfa11c8",
   "metadata": {
    "colab": {
     "base_uri": "https://localhost:8080/"
    },
    "id": "0bfa11c8",
    "outputId": "6b836cd6-69a5-479a-9504-ec3df53c5d7a"
   },
   "outputs": [
    {
     "name": "stdout",
     "output_type": "stream",
     "text": [
      "1 if you add one 2\n"
     ]
    },
    {
     "data": {
      "text/plain": [
       "2"
      ]
     },
     "execution_count": 156,
     "metadata": {},
     "output_type": "execute_result"
    }
   ],
   "source": [
    "add(1)"
   ]
  },
  {
   "cell_type": "code",
   "execution_count": 157,
   "id": "562757f1",
   "metadata": {
    "colab": {
     "base_uri": "https://localhost:8080/"
    },
    "id": "562757f1",
    "outputId": "21e6ce8c-12a9-46d8-ba1c-c8777e78b3de"
   },
   "outputs": [
    {
     "name": "stdout",
     "output_type": "stream",
     "text": [
      "24\n"
     ]
    }
   ],
   "source": [
    "# Define a function for multiple two numbers\n",
    "def Mult(a, b):\n",
    "    c = a * b\n",
    "    return(c)\n",
    "    print('This is not printed')\n",
    "\n",
    "result = Mult(12,2) # int, int\n",
    "print(result)"
   ]
  },
  {
   "cell_type": "markdown",
   "id": "89e423c1",
   "metadata": {
    "id": "89e423c1"
   },
   "source": [
    "#### Use mult() multiply two floats"
   ]
  },
  {
   "cell_type": "code",
   "execution_count": 158,
   "id": "2045805d",
   "metadata": {
    "colab": {
     "base_uri": "https://localhost:8080/"
    },
    "id": "2045805d",
    "outputId": "14fe8e1e-3f66-4b54-c503-90fd6d29e632"
   },
   "outputs": [
    {
     "data": {
      "text/plain": [
       "31.400000000000002"
      ]
     },
     "execution_count": 158,
     "metadata": {},
     "output_type": "execute_result"
    }
   ],
   "source": [
    "Mult(10.0, 3.14) # float, float"
   ]
  },
  {
   "cell_type": "markdown",
   "id": "90d5bf5e",
   "metadata": {
    "id": "90d5bf5e"
   },
   "source": [
    "We can even replicate a string by multiplying with an integer:\n"
   ]
  },
  {
   "cell_type": "code",
   "execution_count": 159,
   "id": "f41b0261",
   "metadata": {
    "colab": {
     "base_uri": "https://localhost:8080/",
     "height": 36
    },
    "id": "f41b0261",
    "outputId": "bea1958b-f316-4e68-f7d7-47f55c56d3b3"
   },
   "outputs": [
    {
     "data": {
      "application/vnd.google.colaboratory.intrinsic+json": {
       "type": "string"
      },
      "text/plain": [
       "'Michael Jackson Michael Jackson '"
      ]
     },
     "execution_count": 159,
     "metadata": {},
     "output_type": "execute_result"
    }
   ],
   "source": [
    "Mult(2, \"Michael Jackson \")"
   ]
  },
  {
   "cell_type": "markdown",
   "id": "25618f75",
   "metadata": {
    "id": "25618f75"
   },
   "source": [
    "If there is no <code>return</code> statement, the function returns <code>None</code>."
   ]
  },
  {
   "cell_type": "code",
   "execution_count": 160,
   "id": "5cd4eee2",
   "metadata": {
    "id": "5cd4eee2"
   },
   "outputs": [],
   "source": [
    "# Define functions, one with return value None and other without return value\n",
    "def MJ():\n",
    "    print('Michael Jackson')\n",
    "\n",
    "def MJ1():\n",
    "    print('Michael Jackson')\n",
    "    return(None)"
   ]
  },
  {
   "cell_type": "code",
   "execution_count": 161,
   "id": "1b55c466",
   "metadata": {
    "colab": {
     "base_uri": "https://localhost:8080/"
    },
    "id": "1b55c466",
    "outputId": "a62bfd72-1270-4aed-fc10-6809c79d6f64"
   },
   "outputs": [
    {
     "name": "stdout",
     "output_type": "stream",
     "text": [
      "Michael Jackson\n"
     ]
    }
   ],
   "source": [
    "# See the output\n",
    "MJ()"
   ]
  },
  {
   "cell_type": "code",
   "execution_count": 162,
   "id": "90542c89",
   "metadata": {
    "colab": {
     "base_uri": "https://localhost:8080/"
    },
    "id": "90542c89",
    "outputId": "a8b921ae-4c10-4fa8-ec36-112f4ff45ebc"
   },
   "outputs": [
    {
     "name": "stdout",
     "output_type": "stream",
     "text": [
      "Michael Jackson\n"
     ]
    }
   ],
   "source": [
    "# See the output\n",
    "MJ1()"
   ]
  },
  {
   "cell_type": "markdown",
   "id": "13125465",
   "metadata": {
    "id": "13125465"
   },
   "source": [
    "Printing the function after a call reveals a **None** is the default return statement:\n"
   ]
  },
  {
   "cell_type": "code",
   "execution_count": 163,
   "id": "6c457dcb",
   "metadata": {
    "colab": {
     "base_uri": "https://localhost:8080/"
    },
    "id": "6c457dcb",
    "outputId": "f28a828f-7f2a-4cb9-fa28-a3137bcead7e"
   },
   "outputs": [
    {
     "name": "stdout",
     "output_type": "stream",
     "text": [
      "Michael Jackson\n",
      "None\n",
      "Michael Jackson\n",
      "None\n"
     ]
    }
   ],
   "source": [
    "# See what functions returns are\n",
    "print(MJ())\n",
    "print(MJ1())"
   ]
  },
  {
   "cell_type": "markdown",
   "id": "4f2a39f4",
   "metadata": {
    "id": "4f2a39f4"
   },
   "source": [
    "<hr>\n"
   ]
  },
  {
   "cell_type": "markdown",
   "id": "af1f421f",
   "metadata": {
    "id": "af1f421f"
   },
   "source": [
    "<h2 id=\"pre\">Pre-defined functions</h2>\n"
   ]
  },
  {
   "cell_type": "markdown",
   "id": "2209dc05",
   "metadata": {
    "id": "2209dc05"
   },
   "source": [
    "There are many pre-defined functions in Python"
   ]
  },
  {
   "cell_type": "markdown",
   "id": "e78ba5ad",
   "metadata": {
    "id": "e78ba5ad"
   },
   "source": [
    "The <code>print()</code> function:\n"
   ]
  },
  {
   "cell_type": "code",
   "execution_count": 164,
   "id": "f08a39e2",
   "metadata": {
    "colab": {
     "base_uri": "https://localhost:8080/"
    },
    "id": "f08a39e2",
    "outputId": "50182140-d52f-4b81-bc4a-7c927ba886af"
   },
   "outputs": [
    {
     "name": "stdout",
     "output_type": "stream",
     "text": [
      "[10.0, 8.5, 9.5, 7.0, 7.0, 9.5, 9.0, 9.5]\n"
     ]
    }
   ],
   "source": [
    "album_ratings = [10.0, 8.5, 9.5, 7.0, 7.0, 9.5, 9.0, 9.5]\n",
    "print(album_ratings)"
   ]
  },
  {
   "cell_type": "markdown",
   "id": "5a98867e",
   "metadata": {
    "id": "5a98867e"
   },
   "source": [
    "The <code>sum()</code> function adds all the  elements in a list or tuple:\n"
   ]
  },
  {
   "cell_type": "code",
   "execution_count": 165,
   "id": "99d882eb",
   "metadata": {
    "colab": {
     "base_uri": "https://localhost:8080/"
    },
    "id": "99d882eb",
    "outputId": "8e62e94f-b6b0-46a4-bf9c-07e4ee66b9be"
   },
   "outputs": [
    {
     "data": {
      "text/plain": [
       "70.0"
      ]
     },
     "execution_count": 165,
     "metadata": {},
     "output_type": "execute_result"
    }
   ],
   "source": [
    "sum(album_ratings)"
   ]
  },
  {
   "cell_type": "markdown",
   "id": "aa06e89e",
   "metadata": {
    "id": "aa06e89e"
   },
   "source": [
    "The <code>len()</code> function returns the length of a list or tuple:\n"
   ]
  },
  {
   "cell_type": "code",
   "execution_count": 166,
   "id": "894a1ad2",
   "metadata": {
    "colab": {
     "base_uri": "https://localhost:8080/"
    },
    "id": "894a1ad2",
    "outputId": "1c351eab-36d4-4597-e9dd-3a006f33612b"
   },
   "outputs": [
    {
     "data": {
      "text/plain": [
       "8"
      ]
     },
     "execution_count": 166,
     "metadata": {},
     "output_type": "execute_result"
    }
   ],
   "source": [
    "len(album_ratings)"
   ]
  },
  {
   "cell_type": "markdown",
   "id": "54347141",
   "metadata": {
    "id": "54347141"
   },
   "source": [
    "Example On Functions 1"
   ]
  },
  {
   "cell_type": "code",
   "execution_count": 167,
   "id": "a31a40e5",
   "metadata": {
    "colab": {
     "base_uri": "https://localhost:8080/"
    },
    "id": "a31a40e5",
    "outputId": "fecb4397-2b96-4d2f-c1d1-15d0212a077c"
   },
   "outputs": [
    {
     "name": "stdout",
     "output_type": "stream",
     "text": [
      "Michael Jackson Thriller 1980\n",
      "Old\n"
     ]
    }
   ],
   "source": [
    "# Function example\n",
    "def type_of_album(artist, album, year_released):\n",
    "    print(artist, album, year_released)\n",
    "    if year_released > 1980:\n",
    "        return \"Modern\"\n",
    "    else:\n",
    "        return \"Old\"\n",
    "\n",
    "print(type_of_album(\"Michael Jackson\", \"Thriller\", 1980))"
   ]
  },
  {
   "cell_type": "markdown",
   "id": "db0f9b72",
   "metadata": {
    "id": "db0f9b72"
   },
   "source": [
    "Example On Functions 2"
   ]
  },
  {
   "cell_type": "code",
   "execution_count": 168,
   "id": "80f4d316",
   "metadata": {
    "id": "80f4d316"
   },
   "outputs": [],
   "source": [
    "# Print the list using for loop\n",
    "def PrintList(the_list):\n",
    "    for element in the_list:\n",
    "        print(element)"
   ]
  },
  {
   "cell_type": "code",
   "execution_count": 169,
   "id": "e3465c93",
   "metadata": {
    "colab": {
     "base_uri": "https://localhost:8080/"
    },
    "id": "e3465c93",
    "outputId": "18dc0bae-89b0-4018-c0ec-565cf44c54dd"
   },
   "outputs": [
    {
     "name": "stdout",
     "output_type": "stream",
     "text": [
      "red\n",
      "orange\n",
      "green\n"
     ]
    }
   ],
   "source": [
    "# Implement the printlist function\n",
    "PrintList(['red', 'orange', 'green'])"
   ]
  },
  {
   "cell_type": "markdown",
   "id": "2b103506",
   "metadata": {
    "id": "2b103506"
   },
   "source": [
    "### Exercise\n",
    "**Count the Frequency of Words Appearing in a String Using a Dictionary.**"
   ]
  },
  {
   "cell_type": "code",
   "execution_count": 169,
   "id": "dcfced8f",
   "metadata": {
    "id": "dcfced8f"
   },
   "outputs": [],
   "source": []
  },
  {
   "cell_type": "markdown",
   "id": "44ac1675-02e8-46fd-8129-528137964e3a",
   "metadata": {
    "id": "44ac1675-02e8-46fd-8129-528137964e3a"
   },
   "source": [
    "<details><summary>Click here for the solution</summary>\n",
    "\n",
    "```python\n",
    "# Python Program to Count words in a String using Dictionary\n",
    "def freq(string):\n",
    "\n",
    "    #step1: Break the string into list of words\n",
    "    print(string)\n",
    "    words = string.lower().split() # or string.split()\n",
    "    print(words)\n",
    "    \n",
    "    #step2: Declare a dictionary\n",
    "    Dict = {}\n",
    "    \n",
    "    #step3: Use for loop to iterate words and values to the dictionary\n",
    "    for key in words:\n",
    "        Dict[key] = words.count(key)\n",
    "        \n",
    "    #step5: Print the dictionary\n",
    "    print(\"The Frequency of words is: \\n\",Dict)\n",
    "    \n",
    "#step6: Call function and pass string in it\n",
    "freq(\"Mary had a little lamb Little lamb, little lamb Mary had a little lamb.\")\n",
    "\n",
    "```\n",
    "\n",
    "</details>\n"
   ]
  },
  {
   "cell_type": "markdown",
   "id": "1b1f1dba",
   "metadata": {
    "id": "1b1f1dba"
   },
   "source": [
    "<hr>"
   ]
  },
  {
   "cell_type": "markdown",
   "id": "434a56d5",
   "metadata": {
    "id": "434a56d5"
   },
   "source": [
    "<h2 id=\"default\">Setting default argument values in your custom functions</h2>\n"
   ]
  },
  {
   "cell_type": "code",
   "execution_count": 170,
   "id": "0e80e755",
   "metadata": {
    "id": "0e80e755"
   },
   "outputs": [],
   "source": [
    "# Example for setting param with default value\n",
    "def isGoodRating(rating=4):\n",
    "    if(rating < 7):\n",
    "        print(\"this album sucks it's rating is\",rating)\n",
    "    else:\n",
    "        print(\"this album is good its rating is\",rating)"
   ]
  },
  {
   "cell_type": "code",
   "execution_count": 171,
   "id": "4b92606c",
   "metadata": {
    "colab": {
     "base_uri": "https://localhost:8080/"
    },
    "id": "4b92606c",
    "outputId": "a089f60f-b123-4b01-b6f4-1e390931f145"
   },
   "outputs": [
    {
     "name": "stdout",
     "output_type": "stream",
     "text": [
      "this album sucks it's rating is 4\n",
      "this album is good its rating is 10\n"
     ]
    }
   ],
   "source": [
    "isGoodRating()\n",
    "isGoodRating(10)"
   ]
  },
  {
   "cell_type": "markdown",
   "id": "9346ffee",
   "metadata": {
    "id": "9346ffee"
   },
   "source": [
    "<hr>\n"
   ]
  },
  {
   "cell_type": "markdown",
   "id": "1a7f734d-b334-4c65-8c4d-00641ebeb814",
   "metadata": {
    "id": "1a7f734d-b334-4c65-8c4d-00641ebeb814"
   },
   "source": [
    "<h1 id=\"var\">Variables</h1>"
   ]
  },
  {
   "cell_type": "markdown",
   "id": "cf6df996-763b-4f92-b7b3-239f4e690658",
   "metadata": {
    "id": "cf6df996-763b-4f92-b7b3-239f4e690658"
   },
   "source": [
    "<h3 id=\"var\">Global VS Local </h3>"
   ]
  },
  {
   "cell_type": "markdown",
   "id": "65e6b1f7",
   "metadata": {
    "id": "65e6b1f7"
   },
   "source": [
    "- A variable that is declared inside a function is called a  local variable. The parameter only exists within the function (i.e. the point where the function starts and stops).\n",
    "\n",
    "- A variable that is declared outside a function definition is a global variable, and its value is accessible and modifiable throughout the program. We will discuss more about global variables at the end of the lab.\n"
   ]
  },
  {
   "cell_type": "markdown",
   "id": "8a888726",
   "metadata": {
    "id": "8a888726"
   },
   "source": [
    "<h2 id=\"global\">Global variables</h2>\n"
   ]
  },
  {
   "cell_type": "code",
   "execution_count": 172,
   "id": "d4444222",
   "metadata": {
    "colab": {
     "base_uri": "https://localhost:8080/",
     "height": 200
    },
    "id": "d4444222",
    "outputId": "70dc2111-7607-4b16-b0c6-122855554671"
   },
   "outputs": [
    {
     "name": "stdout",
     "output_type": "stream",
     "text": [
      "Michael Jackson is an artist\n"
     ]
    },
    {
     "ename": "NameError",
     "evalue": "name 'internal_var1' is not defined",
     "output_type": "error",
     "traceback": [
      "\u001b[0;31m---------------------------------------------------------------------------\u001b[0m",
      "\u001b[0;31mNameError\u001b[0m                                 Traceback (most recent call last)",
      "\u001b[0;32m<ipython-input-172-b8fde5af1c04>\u001b[0m in \u001b[0;36m<cell line: 0>\u001b[0;34m()\u001b[0m\n\u001b[1;32m      8\u001b[0m \u001b[0mset\u001b[0m\u001b[0;34m(\u001b[0m\u001b[0martist\u001b[0m\u001b[0;34m)\u001b[0m\u001b[0;34m\u001b[0m\u001b[0;34m\u001b[0m\u001b[0m\n\u001b[1;32m      9\u001b[0m \u001b[0;31m# try running the following code\u001b[0m\u001b[0;34m\u001b[0m\u001b[0;34m\u001b[0m\u001b[0m\n\u001b[0;32m---> 10\u001b[0;31m \u001b[0mset\u001b[0m\u001b[0;34m(\u001b[0m\u001b[0minternal_var1\u001b[0m\u001b[0;34m)\u001b[0m\u001b[0;34m\u001b[0m\u001b[0;34m\u001b[0m\u001b[0m\n\u001b[0m",
      "\u001b[0;31mNameError\u001b[0m: name 'internal_var1' is not defined"
     ]
    }
   ],
   "source": [
    "# Example of global variable\n",
    "\n",
    "artist = \"Michael Jackson\"\n",
    "def set(artist):\n",
    "    internal_var1 = artist\n",
    "    print(artist, \"is an artist\")\n",
    "\n",
    "set(artist)\n",
    "# try running the following code\n",
    "set(internal_var1)"
   ]
  },
  {
   "cell_type": "markdown",
   "id": "05f0e385",
   "metadata": {
    "id": "05f0e385"
   },
   "source": [
    "<b>We got a Name Error:  <code>name 'internal_var' is not defined</code>. Why?</b>\n",
    "\n",
    "It's because all the variables we create in the function is a <b>local variable</b>, meaning that the variable assignment does not persist outside the function.\n",
    "\n",
    "But there is a way to create <b>global variables</b> from within a function as follows:\n"
   ]
  },
  {
   "cell_type": "code",
   "execution_count": 173,
   "id": "3a5c0d61",
   "metadata": {
    "colab": {
     "base_uri": "https://localhost:8080/"
    },
    "id": "3a5c0d61",
    "outputId": "a70b64d9-d05b-439f-c584-53ef1b96c74d"
   },
   "outputs": [
    {
     "name": "stdout",
     "output_type": "stream",
     "text": [
      "Michael Jackson is an artist\n",
      "Whitney Houston is an artist\n"
     ]
    }
   ],
   "source": [
    "artist = \"Michael Jackson\"\n",
    "\n",
    "def set(artist):\n",
    "    global internal_var\n",
    "    internal_var= \"Whitney Houston\"\n",
    "    print(artist,\"is an artist\")\n",
    "\n",
    "set(artist)\n",
    "set(internal_var)"
   ]
  },
  {
   "cell_type": "markdown",
   "id": "f8b3f298",
   "metadata": {
    "id": "f8b3f298"
   },
   "source": [
    "<h2 id=\"scope\">Scope of a Variable</h2>\n"
   ]
  },
  {
   "cell_type": "code",
   "execution_count": 174,
   "id": "0dc799a8",
   "metadata": {
    "colab": {
     "base_uri": "https://localhost:8080/"
    },
    "id": "0dc799a8",
    "outputId": "4c47006a-3abc-427a-e100-51ba1d5119d2"
   },
   "outputs": [
    {
     "name": "stdout",
     "output_type": "stream",
     "text": [
      "python\n"
     ]
    }
   ],
   "source": [
    "# Example of global variable\n",
    "course = \"python\"\n",
    "\n",
    "def getCourse():\n",
    "    print(course)\n",
    "\n",
    "getCourse()"
   ]
  },
  {
   "cell_type": "markdown",
   "id": "c28e7a42-057f-4ac6-ad6b-debfb5e99e08",
   "metadata": {
    "id": "c28e7a42-057f-4ac6-ad6b-debfb5e99e08"
   },
   "source": [
    "<h2 id=\"global\">Local variables</h2>\n"
   ]
  },
  {
   "cell_type": "code",
   "execution_count": 175,
   "id": "ca1f74fd",
   "metadata": {
    "colab": {
     "base_uri": "https://localhost:8080/",
     "height": 309
    },
    "id": "ca1f74fd",
    "outputId": "05052097-33c3-4da4-a30b-7bc43ad6a272"
   },
   "outputs": [
    {
     "ename": "NameError",
     "evalue": "name 'course' is not defined",
     "output_type": "error",
     "traceback": [
      "\u001b[0;31m---------------------------------------------------------------------------\u001b[0m",
      "\u001b[0;31mNameError\u001b[0m                                 Traceback (most recent call last)",
      "\u001b[0;32m<ipython-input-175-fc010d3d0ef7>\u001b[0m in \u001b[0;36m<cell line: 0>\u001b[0;34m()\u001b[0m\n\u001b[1;32m      1\u001b[0m \u001b[0;32mdel\u001b[0m \u001b[0mcourse\u001b[0m\u001b[0;34m\u001b[0m\u001b[0;34m\u001b[0m\u001b[0m\n\u001b[1;32m      2\u001b[0m \u001b[0;34m\u001b[0m\u001b[0m\n\u001b[0;32m----> 3\u001b[0;31m \u001b[0mgetCourse\u001b[0m\u001b[0;34m(\u001b[0m\u001b[0;34m)\u001b[0m\u001b[0;34m\u001b[0m\u001b[0;34m\u001b[0m\u001b[0m\n\u001b[0m",
      "\u001b[0;32m<ipython-input-174-0b5567c65eb6>\u001b[0m in \u001b[0;36mgetCourse\u001b[0;34m()\u001b[0m\n\u001b[1;32m      3\u001b[0m \u001b[0;34m\u001b[0m\u001b[0m\n\u001b[1;32m      4\u001b[0m \u001b[0;32mdef\u001b[0m \u001b[0mgetCourse\u001b[0m\u001b[0;34m(\u001b[0m\u001b[0;34m)\u001b[0m\u001b[0;34m:\u001b[0m\u001b[0;34m\u001b[0m\u001b[0;34m\u001b[0m\u001b[0m\n\u001b[0;32m----> 5\u001b[0;31m     \u001b[0mprint\u001b[0m\u001b[0;34m(\u001b[0m\u001b[0mcourse\u001b[0m\u001b[0;34m)\u001b[0m\u001b[0;34m\u001b[0m\u001b[0;34m\u001b[0m\u001b[0m\n\u001b[0m\u001b[1;32m      6\u001b[0m \u001b[0;34m\u001b[0m\u001b[0m\n\u001b[1;32m      7\u001b[0m \u001b[0mgetCourse\u001b[0m\u001b[0;34m(\u001b[0m\u001b[0;34m)\u001b[0m\u001b[0;34m\u001b[0m\u001b[0;34m\u001b[0m\u001b[0m\n",
      "\u001b[0;31mNameError\u001b[0m: name 'course' is not defined"
     ]
    }
   ],
   "source": [
    "del course\n",
    "\n",
    "getCourse()"
   ]
  },
  {
   "cell_type": "markdown",
   "id": "2b2d6fe4",
   "metadata": {
    "id": "2b2d6fe4"
   },
   "source": [
    "<hr>\n",
    "<h2 id =\"collec\"> Collections and Functions</h2>\n"
   ]
  },
  {
   "cell_type": "markdown",
   "id": "4e1f5910",
   "metadata": {
    "id": "4e1f5910"
   },
   "source": [
    "When the number of arguments  are unknown for a function, They can all be packed into a tuple as shown:\n"
   ]
  },
  {
   "cell_type": "code",
   "execution_count": 176,
   "id": "9e54f058",
   "metadata": {
    "colab": {
     "base_uri": "https://localhost:8080/"
    },
    "id": "9e54f058",
    "outputId": "44bc33ba-dd42-4e4f-d5c0-551670b8775b"
   },
   "outputs": [
    {
     "name": "stdout",
     "output_type": "stream",
     "text": [
      "No of arguments: 0\n",
      "arguments :  ()\n",
      "arguments :  <class 'tuple'>\n",
      "arguments :  []\n",
      "\n",
      "---------------\n",
      "\n",
      "No of arguments: 5\n",
      "arguments :  (1, 2, 3, 4, 5)\n",
      "arguments :  <class 'tuple'>\n",
      "arguments :  [1, 2, 3, 4, 5]\n"
     ]
    }
   ],
   "source": [
    "def printAll(*args): # All the arguments are 'packed' into args which can be treated like a tuple\n",
    "    print(\"No of arguments:\", len(args))\n",
    "    print(\"arguments : \", args)\n",
    "    print(\"arguments : \", type(args))\n",
    "    print(\"arguments : \", list(args))\n",
    "\n",
    "printAll()\n",
    "print(\"\\n---------------\\n\")\n",
    "printAll(1,2,3,4,5)"
   ]
  },
  {
   "cell_type": "markdown",
   "id": "11eb4294",
   "metadata": {
    "id": "11eb4294"
   },
   "source": [
    "Using **kwargs to Pass Keyword Arguments :\n",
    "-  the optional keyword arguments are passed into the function as a dictionary with the keyword name as the key and the argument value as the value."
   ]
  },
  {
   "cell_type": "code",
   "execution_count": 177,
   "id": "eca8a61d-85af-4971-9ce3-00115250bdc8",
   "metadata": {
    "colab": {
     "base_uri": "https://localhost:8080/"
    },
    "id": "eca8a61d-85af-4971-9ce3-00115250bdc8",
    "outputId": "2e0ee294-5a7d-448c-c265-5e6218ccc33a"
   },
   "outputs": [
    {
     "name": "stdout",
     "output_type": "stream",
     "text": [
      "No of arguments: 0\n",
      "arguments :  {}\n",
      "arguments :  <class 'dict'>\n",
      "arguments :  []\n",
      "\n",
      "---------------\n",
      "\n",
      "No of arguments: 3\n",
      "arguments :  {'name': 'ahmed', 'age': 15, 'grade': '+A'}\n",
      "arguments :  <class 'dict'>\n",
      "arguments :  ['name', 'age', 'grade']\n",
      "\n",
      "---------------\n",
      "\n",
      "name  :  ahmed\n",
      "age  :  15\n",
      "grade  :  +A\n"
     ]
    }
   ],
   "source": [
    "def printAll(**args): # All the arguments are 'packed' into args which can be treated like a dict\n",
    "    print(\"No of arguments:\", len(args))\n",
    "    print(\"arguments : \", args)\n",
    "    print(\"arguments : \", type(args))\n",
    "    print(\"arguments : \", list(args))\n",
    "    print(\"\\n---------------\\n\")\n",
    "    for key in args:\n",
    "        print(key , \" : \" , args[key])\n",
    "\n",
    "printAll()\n",
    "printAll(name=\"ahmed\",age = 15,grade=\"+A\")"
   ]
  },
  {
   "cell_type": "markdown",
   "id": "b5572cb8",
   "metadata": {
    "id": "b5572cb8"
   },
   "source": [
    "Functions can be incredibly powerful and versatile. They can accept (and return) data types, objects and even other functions as arguements. Consider the example below:\n"
   ]
  },
  {
   "cell_type": "markdown",
   "id": "2dd79d92",
   "metadata": {
    "id": "2dd79d92"
   },
   "source": [
    "<h2>Quiz on Functions</h2>\n"
   ]
  },
  {
   "cell_type": "markdown",
   "id": "3198a539",
   "metadata": {
    "id": "3198a539"
   },
   "source": [
    "Come up with a function that divides the first input by the second input:\n"
   ]
  },
  {
   "cell_type": "code",
   "execution_count": 178,
   "id": "a4b389d6",
   "metadata": {
    "id": "a4b389d6"
   },
   "outputs": [],
   "source": [
    "# Write your code below and press Shift+Enter to execute"
   ]
  },
  {
   "cell_type": "markdown",
   "id": "2adbb17d",
   "metadata": {
    "id": "2adbb17d"
   },
   "source": [
    "<details><summary>Click here for the solution</summary>\n",
    "\n",
    "```python\n",
    "def div(a, b):\n",
    "    return(a/b)\n",
    "    \n",
    "```\n",
    "\n",
    "</details>\n"
   ]
  },
  {
   "cell_type": "markdown",
   "id": "606f2ff6",
   "metadata": {
    "id": "606f2ff6"
   },
   "source": [
    "<hr>\n"
   ]
  },
  {
   "cell_type": "markdown",
   "id": "8eb1e10d",
   "metadata": {
    "id": "8eb1e10d"
   },
   "source": [
    "Use the function <code>con</code> for the following question.\n"
   ]
  },
  {
   "cell_type": "markdown",
   "id": "293957f9",
   "metadata": {
    "id": "293957f9"
   },
   "source": [
    "Can the <code>con</code> function we defined before be used to add two integers or strings?\n"
   ]
  },
  {
   "cell_type": "code",
   "execution_count": 179,
   "id": "65d95835",
   "metadata": {
    "id": "65d95835"
   },
   "outputs": [],
   "source": [
    "# Write your code below and press Shift+Enter to execute"
   ]
  },
  {
   "cell_type": "markdown",
   "id": "df7a8644",
   "metadata": {
    "id": "df7a8644"
   },
   "source": [
    "<details><summary>Click here for the solution</summary>\n",
    "\n",
    "```python\n",
    "def con (x,y):\n",
    "    return x+y\n",
    "    \n",
    "con(2, 2)\n",
    "    \n",
    "```\n",
    "\n",
    "</details>\n"
   ]
  },
  {
   "cell_type": "markdown",
   "id": "953d57b7",
   "metadata": {
    "id": "953d57b7"
   },
   "source": [
    "<hr>\n"
   ]
  },
  {
   "cell_type": "markdown",
   "id": "6cd6c53b",
   "metadata": {
    "id": "6cd6c53b"
   },
   "source": [
    "Can the <code>con</code> function we defined before be used to concatenate lists or tuples?\n"
   ]
  },
  {
   "cell_type": "code",
   "execution_count": 180,
   "id": "b1a8fde1",
   "metadata": {
    "id": "b1a8fde1"
   },
   "outputs": [],
   "source": [
    "# Write your code below and press Shift+Enter to execute"
   ]
  },
  {
   "cell_type": "markdown",
   "id": "27042f51",
   "metadata": {
    "id": "27042f51"
   },
   "source": [
    "<details><summary>Click here for the solution</summary>\n",
    "\n",
    "```python\n",
    "Yes, for example:\n",
    "con(['a', 1], ['b', 1])\n",
    "    \n",
    "```\n",
    "\n",
    "</details>\n"
   ]
  },
  {
   "cell_type": "markdown",
   "id": "89168db8",
   "metadata": {
    "id": "89168db8"
   },
   "source": [
    "Write a function code to find total count of word `little` in the given string:\n",
    "`\"Mary had a little lamb Little lamb, little lamb Mary had a little lamb.Its fleece was white as snow And everywhere that Mary went Mary went, Mary went Everywhere that Mary went The lamb was sure to go\"**`\n"
   ]
  },
  {
   "cell_type": "code",
   "execution_count": 181,
   "id": "52ccbdd2",
   "metadata": {
    "id": "52ccbdd2"
   },
   "outputs": [],
   "source": [
    "# Write your code below and press Shift+Enter to execute"
   ]
  },
  {
   "cell_type": "markdown",
   "id": "285316c3",
   "metadata": {
    "id": "285316c3"
   },
   "source": [
    "<details><summary>Click here for the solution</summary>\n",
    "\n",
    "```python\n",
    "# Python Program to Count words in a String using Dictionary\n",
    "def freq(string,passedkey):\n",
    "\n",
    "    #step1: A list variable is declared and initialized to an empty list.\n",
    "    words = []\n",
    "\n",
    "    #step2: Break the string into list of words\n",
    "    words = string.split() # or string.lower().split()\n",
    "\n",
    "    #step3: Declare a dictionary\n",
    "    Dict = {}\n",
    "\n",
    "    #step4: Use for loop to iterate words and values to the dictionary\n",
    "    for key in words:\n",
    "        if(key == passedkey):\n",
    "            Dict[key] = words.count(key)   \n",
    "    #step5: Print the dictionary\n",
    "    print(\"Total Count:\",Dict)\n",
    "\n",
    "#step6: Call function and pass string in it\n",
    "freq(\"Mary had a little lamb Little lamb, little lamb Mary had a little lamb.Its fleece was white as snow And everywhere that Mary went Mary went, Mary went \\\n",
    "Everywhere that Mary went The lamb was sure to go\",\"little\")\n",
    "    \n",
    "```\n",
    "\n",
    "</details>\n"
   ]
  },
  {
   "cell_type": "markdown",
   "id": "57e5c9c6",
   "metadata": {
    "id": "57e5c9c6"
   },
   "source": [
    "Exercise: Create an inner function to calculate the addition in the following way\n",
    "\n",
    "* Create an outer function that will accept two parameters, a and b\n",
    "* Create an inner function inside an outer function that will calculate the addition of a and   b\n",
    "* At last, an outer function will add  5 into addition and return it\n"
   ]
  },
  {
   "cell_type": "code",
   "execution_count": 182,
   "id": "1c5ab043",
   "metadata": {
    "id": "1c5ab043"
   },
   "outputs": [],
   "source": [
    "# Write your code below and press Shift+Enter to execute"
   ]
  },
  {
   "cell_type": "markdown",
   "id": "9b9c1912",
   "metadata": {
    "id": "9b9c1912"
   },
   "source": [
    "<details><summary>Click here for the solution</summary>\n",
    "\n",
    "```python\n",
    "# Python Program to Count words in a String using Dictionary\n",
    "def outerFun(a,b):\n",
    "    def innerFun(a,b):\n",
    "        return a+b\n",
    "    add = innerFun(a,b)\n",
    "    return add+5\n",
    "```\n",
    "\n",
    "</details>\n"
   ]
  },
  {
   "cell_type": "markdown",
   "id": "b479a3e3",
   "metadata": {
    "id": "b479a3e3"
   },
   "source": [
    "Exercise: Write a recursive function to calculate the sum of numbers from 0 to 10"
   ]
  },
  {
   "cell_type": "code",
   "execution_count": 183,
   "id": "49076f76",
   "metadata": {
    "id": "49076f76"
   },
   "outputs": [],
   "source": [
    "# Write your code below and press Shift+Enter to execute"
   ]
  },
  {
   "cell_type": "markdown",
   "id": "141355c5",
   "metadata": {
    "id": "141355c5"
   },
   "source": [
    "<details><summary>Click here for the solution</summary>\n",
    "\n",
    "```python\n",
    "# Python Program to Count words in a String using Dictionary\n",
    "def calculateSum(num):\n",
    "    if num:\n",
    "        return num+calculateSum(num-1)\n",
    "    else:\n",
    "        return 0\n",
    "```\n",
    "\n",
    "</details>\n"
   ]
  },
  {
   "cell_type": "markdown",
   "id": "62d89413",
   "metadata": {
    "id": "62d89413"
   },
   "source": [
    "## lambda expressions"
   ]
  },
  {
   "cell_type": "code",
   "execution_count": 184,
   "id": "ac977b95",
   "metadata": {
    "id": "ac977b95"
   },
   "outputs": [],
   "source": [
    "def times2(var):\n",
    "    return var*2"
   ]
  },
  {
   "cell_type": "code",
   "execution_count": 185,
   "id": "73cebebe-1c1d-4755-9b6e-5830168428aa",
   "metadata": {
    "colab": {
     "base_uri": "https://localhost:8080/"
    },
    "id": "73cebebe-1c1d-4755-9b6e-5830168428aa",
    "outputId": "192a9ce7-2e43-4e78-a78c-e577374b1c49"
   },
   "outputs": [
    {
     "data": {
      "text/plain": [
       "4"
      ]
     },
     "execution_count": 185,
     "metadata": {},
     "output_type": "execute_result"
    }
   ],
   "source": [
    "times2(2)"
   ]
  },
  {
   "cell_type": "code",
   "execution_count": 186,
   "id": "4ac992c5",
   "metadata": {
    "colab": {
     "base_uri": "https://localhost:8080/"
    },
    "id": "4ac992c5",
    "outputId": "b09b284e-e4e2-4e9f-a417-f81eb0afe5f8"
   },
   "outputs": [
    {
     "name": "stdout",
     "output_type": "stream",
     "text": [
      "4\n"
     ]
    }
   ],
   "source": [
    "x = lambda var: var*2\n",
    "print(x(2))"
   ]
  },
  {
   "cell_type": "markdown",
   "id": "33e0e003",
   "metadata": {
    "id": "33e0e003"
   },
   "source": [
    "## map and filter"
   ]
  },
  {
   "cell_type": "code",
   "execution_count": 187,
   "id": "c4acabd6",
   "metadata": {
    "id": "c4acabd6"
   },
   "outputs": [],
   "source": [
    "seq = [1,2,3,4,5]"
   ]
  },
  {
   "cell_type": "code",
   "execution_count": 188,
   "id": "91d70cd0",
   "metadata": {
    "colab": {
     "base_uri": "https://localhost:8080/"
    },
    "id": "91d70cd0",
    "outputId": "6f9d3539-0be6-45ee-d1ea-d701eea06563"
   },
   "outputs": [
    {
     "data": {
      "text/plain": [
       "<map at 0x7acc6f65e8f0>"
      ]
     },
     "execution_count": 188,
     "metadata": {},
     "output_type": "execute_result"
    }
   ],
   "source": [
    "map(times2,seq)"
   ]
  },
  {
   "cell_type": "code",
   "execution_count": 189,
   "id": "72c0f416",
   "metadata": {
    "colab": {
     "base_uri": "https://localhost:8080/"
    },
    "id": "72c0f416",
    "outputId": "0337c4fd-a065-4f8c-ce94-9d69f593fa28"
   },
   "outputs": [
    {
     "data": {
      "text/plain": [
       "[2, 4, 6, 8, 10]"
      ]
     },
     "execution_count": 189,
     "metadata": {},
     "output_type": "execute_result"
    }
   ],
   "source": [
    "list(map(times2,seq))"
   ]
  },
  {
   "cell_type": "code",
   "execution_count": 190,
   "id": "289ba909",
   "metadata": {
    "colab": {
     "base_uri": "https://localhost:8080/"
    },
    "id": "289ba909",
    "outputId": "7e432712-7503-427d-a5a5-22870b5cdd7f"
   },
   "outputs": [
    {
     "data": {
      "text/plain": [
       "[2, 4, 6, 8, 10]"
      ]
     },
     "execution_count": 190,
     "metadata": {},
     "output_type": "execute_result"
    }
   ],
   "source": [
    "list(map(lambda var: var*2,seq))"
   ]
  },
  {
   "cell_type": "markdown",
   "id": "05e1d55c-e70c-46b4-93e4-f8fd126706f7",
   "metadata": {
    "id": "05e1d55c-e70c-46b4-93e4-f8fd126706f7"
   },
   "source": [
    "The filter() method filters the given sequence with the help of a function that tests each element in the sequence to be true or not."
   ]
  },
  {
   "cell_type": "code",
   "execution_count": 191,
   "id": "70baae3c",
   "metadata": {
    "colab": {
     "base_uri": "https://localhost:8080/"
    },
    "id": "70baae3c",
    "outputId": "5c618660-2b3f-49c0-f2b0-9e62fbfeb99b"
   },
   "outputs": [
    {
     "data": {
      "text/plain": [
       "<filter at 0x7acc6f65eef0>"
      ]
     },
     "execution_count": 191,
     "metadata": {},
     "output_type": "execute_result"
    }
   ],
   "source": [
    "filter(lambda item: item%2 == 0,seq)"
   ]
  },
  {
   "cell_type": "code",
   "execution_count": 192,
   "id": "26fe61da",
   "metadata": {
    "colab": {
     "base_uri": "https://localhost:8080/"
    },
    "id": "26fe61da",
    "outputId": "f5bae574-96c5-451b-ef9a-144c156d9567"
   },
   "outputs": [
    {
     "data": {
      "text/plain": [
       "[2, 4]"
      ]
     },
     "execution_count": 192,
     "metadata": {},
     "output_type": "execute_result"
    }
   ],
   "source": [
    "list(filter(lambda item: item%2 == 0,seq)) # Returns the element whose condition is true"
   ]
  },
  {
   "cell_type": "code",
   "execution_count": 193,
   "id": "8e27aa1e-3972-47c0-a853-be24de7a9f38",
   "metadata": {
    "colab": {
     "base_uri": "https://localhost:8080/"
    },
    "id": "8e27aa1e-3972-47c0-a853-be24de7a9f38",
    "outputId": "fbfb3529-5fdd-425e-97f2-4c1cde196abb"
   },
   "outputs": [
    {
     "data": {
      "text/plain": [
       "[False, True, False, True, False]"
      ]
     },
     "execution_count": 193,
     "metadata": {},
     "output_type": "execute_result"
    }
   ],
   "source": [
    "list(map(lambda item: item%2 == 0,seq)) # return value of condition"
   ]
  },
  {
   "cell_type": "markdown",
   "id": "78a19fb2-7faa-4277-a678-237dc8e6011e",
   "metadata": {
    "id": "78a19fb2-7faa-4277-a678-237dc8e6011e"
   },
   "source": [
    "<h2 id=\"intro\">Introduction to Classes and Objects</h2>\n"
   ]
  },
  {
   "cell_type": "markdown",
   "id": "4e8def37-b4cd-44c2-a2bd-388e5b2cc592",
   "metadata": {
    "id": "4e8def37-b4cd-44c2-a2bd-388e5b2cc592"
   },
   "source": [
    "<h3>Creating a Class</h3>\n"
   ]
  },
  {
   "cell_type": "markdown",
   "id": "817dbcf7-1ae5-4b49-9257-1c3828330a50",
   "metadata": {
    "id": "817dbcf7-1ae5-4b49-9257-1c3828330a50"
   },
   "source": [
    "<img src=\"https://cf-courses-data.s3.us.cloud-object-storage.appdomain.cloud/IBMDeveloperSkillsNetwork-PY0101EN-SkillsNetwork/labs/Module%203/images/ClassesClass.png\" width=\"500\">\n"
   ]
  },
  {
   "cell_type": "markdown",
   "id": "106f38e2-5bcf-4082-9061-f5cb480dbe47",
   "metadata": {
    "id": "106f38e2-5bcf-4082-9061-f5cb480dbe47"
   },
   "source": [
    "<i>Figure 1: Classes circle and rectangle, and each has their own attributes. The class Circle has the attribute radius and colour, the class Rectangle has the attributes height and width.</i>\n"
   ]
  },
  {
   "cell_type": "markdown",
   "id": "9faa51a9-0af0-4825-8725-9b24b858ebef",
   "metadata": {
    "id": "9faa51a9-0af0-4825-8725-9b24b858ebef"
   },
   "source": [
    "<h3 id=\"method\">Methods</h3>\n"
   ]
  },
  {
   "cell_type": "markdown",
   "id": "97078d5f-a1c4-43e2-a04d-c27a896fdb38",
   "metadata": {
    "id": "97078d5f-a1c4-43e2-a04d-c27a896fdb38"
   },
   "source": [
    "<img src=\"https://cf-courses-data.s3.us.cloud-object-storage.appdomain.cloud/IBMDeveloperSkillsNetwork-PY0101EN-SkillsNetwork/labs/Module%203/images/ClassesMethod.png\" width=\"500\">\n"
   ]
  },
  {
   "cell_type": "markdown",
   "id": "31634c89-def3-43b2-87a9-128c9f8d0185",
   "metadata": {
    "id": "31634c89-def3-43b2-87a9-128c9f8d0185"
   },
   "source": [
    "<i>Figure 3: Applying the method “add_radius” to the object orange circle object.</i>\n"
   ]
  },
  {
   "cell_type": "markdown",
   "id": "6b28629a-6869-4562-b035-314865de4c68",
   "metadata": {
    "id": "6b28629a-6869-4562-b035-314865de4c68"
   },
   "source": [
    "<hr>\n"
   ]
  },
  {
   "cell_type": "markdown",
   "id": "8b776192-b87a-48d1-8fec-c0b45ccc332f",
   "metadata": {
    "id": "8b776192-b87a-48d1-8fec-c0b45ccc332f"
   },
   "source": [
    "<h2 id=\"creating\">Creating a Class</h2>\n"
   ]
  },
  {
   "cell_type": "markdown",
   "id": "0218eff3-361d-44aa-866f-276c43f41928",
   "metadata": {
    "id": "0218eff3-361d-44aa-866f-276c43f41928"
   },
   "source": [
    "Now we are going to create a class Circle, but first, we are going to import a library to draw the objects:\n"
   ]
  },
  {
   "cell_type": "code",
   "execution_count": 194,
   "id": "ad371a81-1e08-4c20-b1a6-a8ef4e4cec66",
   "metadata": {
    "id": "ad371a81-1e08-4c20-b1a6-a8ef4e4cec66"
   },
   "outputs": [],
   "source": [
    "# Import the library\n",
    "import matplotlib.pyplot as plt\n",
    "%matplotlib inline"
   ]
  },
  {
   "cell_type": "markdown",
   "id": "2c3a7083-7ebe-4270-9896-4f3ce1c9e566",
   "metadata": {
    "id": "2c3a7083-7ebe-4270-9896-4f3ce1c9e566"
   },
   "source": [
    "The first step in creating your own class is to use the <code>class</code> keyword, then the name of the class as shown in Figure 4. In this course the class parent will always be object:\n"
   ]
  },
  {
   "cell_type": "markdown",
   "id": "0ddfc0d1-1ab1-4754-b516-a6acbf354d2f",
   "metadata": {
    "id": "0ddfc0d1-1ab1-4754-b516-a6acbf354d2f"
   },
   "source": [
    "<img src=\"https://cf-courses-data.s3.us.cloud-object-storage.appdomain.cloud/IBMDeveloperSkillsNetwork-PY0101EN-SkillsNetwork/labs/Module%203/images/ClassesDefine.png\" width=\"400\">\n"
   ]
  },
  {
   "cell_type": "markdown",
   "id": "fa3190a3-9ac2-4e8c-9ee7-d9d4630bb849",
   "metadata": {
    "id": "fa3190a3-9ac2-4e8c-9ee7-d9d4630bb849"
   },
   "source": [
    "<i>Figure 4: Creating a class Circle.</i>\n"
   ]
  },
  {
   "cell_type": "markdown",
   "id": "9619b083-26b7-423d-9b77-f2663aeef295",
   "metadata": {
    "id": "9619b083-26b7-423d-9b77-f2663aeef295"
   },
   "source": [
    "- A special method called a constructor <code>\\__init\\_\\_</code> : which is used to initialize the object.\n",
    "- The inputs are data attributes\n",
    "- <code>self</code> : contains all the attributes in the set.\n",
    "- <code>self.color</code>  : gives the value of the attribute color\n",
    "- <code>self.radius</code> : will give you the radius of the object.\n",
    "- the method <code>add_radius()</code> :  with the parameter <code>r</code>\n",
    "- the method adds the value of <code>r</code> to the attribute radius.\n",
    "- To access the radius we use the syntax <code>self.radius</code>."
   ]
  },
  {
   "cell_type": "markdown",
   "id": "75ae92a9-bb36-4178-af9d-a4d10b0c73a4",
   "metadata": {
    "id": "75ae92a9-bb36-4178-af9d-a4d10b0c73a4"
   },
   "source": [
    "<img src=\"https://cf-courses-data.s3.us.cloud-object-storage.appdomain.cloud/IBMDeveloperSkillsNetwork-PY0101EN-SkillsNetwork/labs/Module%203/images/ClassesCircle.png\" width=\"600\">\n"
   ]
  },
  {
   "cell_type": "markdown",
   "id": "a5b738ba-0a43-4212-b7d4-e6aba0b9ccca",
   "metadata": {
    "id": "a5b738ba-0a43-4212-b7d4-e6aba0b9ccca"
   },
   "source": [
    "<i>Figure 5: Labeled syntax of the object circle.</i>\n"
   ]
  },
  {
   "cell_type": "markdown",
   "id": "cac19b01-2974-4970-bb8f-330cdcdc50a2",
   "metadata": {
    "id": "cac19b01-2974-4970-bb8f-330cdcdc50a2"
   },
   "source": [
    "The actual object is shown below. We include the method <code>drawCircle</code> to display the image of a circle. We set the default radius to 3 and the default colour to blue:\n"
   ]
  },
  {
   "cell_type": "code",
   "execution_count": 195,
   "id": "8c753906-b1c3-42db-a847-de2fd13047cc",
   "metadata": {
    "id": "8c753906-b1c3-42db-a847-de2fd13047cc"
   },
   "outputs": [],
   "source": [
    "# Create a class Circle\n",
    "class Circle(object):\n",
    "\n",
    "    # Constructor\n",
    "    def __init__(self, radius=3, color='blue'):\n",
    "        self.radius = radius\n",
    "        self.color = color\n",
    "\n",
    "    # Method\n",
    "    def add_radius(self, r):\n",
    "        self.radius = self.radius + r\n",
    "        return(self.radius)\n",
    "\n",
    "    # Method\n",
    "    def drawCircle(self):\n",
    "        plt.gca().add_patch(plt.Circle((0, 0), radius=self.radius, fc=self.color))\n",
    "        plt.axis('scaled')\n",
    "        plt.show()"
   ]
  },
  {
   "cell_type": "markdown",
   "id": "7c873982-775a-433e-9344-785341ed9609",
   "metadata": {
    "id": "7c873982-775a-433e-9344-785341ed9609"
   },
   "source": [
    "<hr>\n"
   ]
  },
  {
   "cell_type": "markdown",
   "id": "d377444e-c08f-464a-b231-39fa7c0a4c6f",
   "metadata": {
    "id": "d377444e-c08f-464a-b231-39fa7c0a4c6f"
   },
   "source": [
    "<h2 id=\"circle\">Creating an instance of a class Circle</h2>\n"
   ]
  },
  {
   "cell_type": "code",
   "execution_count": 196,
   "id": "e40cba47-44d0-41f2-978b-470b61b3fa1e",
   "metadata": {
    "id": "e40cba47-44d0-41f2-978b-470b61b3fa1e"
   },
   "outputs": [],
   "source": [
    "# Create an object RedCircle\n",
    "RedCircle = Circle(10, 'red')"
   ]
  },
  {
   "cell_type": "markdown",
   "id": "71659542-100d-4b39-9f51-f2f2bd7d9560",
   "metadata": {
    "id": "71659542-100d-4b39-9f51-f2f2bd7d9560"
   },
   "source": [
    "We can use the <code>dir</code> command to get a list of the object's methods. Many of them are default Python methods.\n"
   ]
  },
  {
   "cell_type": "code",
   "execution_count": 197,
   "id": "a06b95b7-0ab7-4690-8a9c-a2d05ad7b116",
   "metadata": {
    "colab": {
     "base_uri": "https://localhost:8080/"
    },
    "id": "a06b95b7-0ab7-4690-8a9c-a2d05ad7b116",
    "outputId": "527d8ec6-0556-412b-ca83-bbc901c7a237"
   },
   "outputs": [
    {
     "data": {
      "text/plain": [
       "['__class__',\n",
       " '__delattr__',\n",
       " '__dict__',\n",
       " '__dir__',\n",
       " '__doc__',\n",
       " '__eq__',\n",
       " '__format__',\n",
       " '__ge__',\n",
       " '__getattribute__',\n",
       " '__getstate__',\n",
       " '__gt__',\n",
       " '__hash__',\n",
       " '__init__',\n",
       " '__init_subclass__',\n",
       " '__le__',\n",
       " '__lt__',\n",
       " '__module__',\n",
       " '__ne__',\n",
       " '__new__',\n",
       " '__reduce__',\n",
       " '__reduce_ex__',\n",
       " '__repr__',\n",
       " '__setattr__',\n",
       " '__sizeof__',\n",
       " '__str__',\n",
       " '__subclasshook__',\n",
       " '__weakref__',\n",
       " 'add_radius',\n",
       " 'color',\n",
       " 'drawCircle',\n",
       " 'radius']"
      ]
     },
     "execution_count": 197,
     "metadata": {},
     "output_type": "execute_result"
    }
   ],
   "source": [
    "dir(RedCircle)"
   ]
  },
  {
   "cell_type": "markdown",
   "id": "793a0703-79f9-497f-8132-c6f3ea6a2486",
   "metadata": {
    "id": "793a0703-79f9-497f-8132-c6f3ea6a2486"
   },
   "source": [
    "We can look at the data attributes of the object:\n"
   ]
  },
  {
   "cell_type": "code",
   "execution_count": 198,
   "id": "5e791d84-dc88-47b1-b062-d0e3502466b4",
   "metadata": {
    "colab": {
     "base_uri": "https://localhost:8080/"
    },
    "id": "5e791d84-dc88-47b1-b062-d0e3502466b4",
    "outputId": "e91a36ae-5695-40f1-89ae-519448dc55c3"
   },
   "outputs": [
    {
     "data": {
      "text/plain": [
       "10"
      ]
     },
     "execution_count": 198,
     "metadata": {},
     "output_type": "execute_result"
    }
   ],
   "source": [
    "# Print the object attribute radius\n",
    "RedCircle.radius"
   ]
  },
  {
   "cell_type": "code",
   "execution_count": 199,
   "id": "3807d5b6-7f2e-4c45-86e6-e1329eaef086",
   "metadata": {
    "colab": {
     "base_uri": "https://localhost:8080/",
     "height": 36
    },
    "id": "3807d5b6-7f2e-4c45-86e6-e1329eaef086",
    "outputId": "b0c81843-3e01-41cf-c395-1df5ce3849f2"
   },
   "outputs": [
    {
     "data": {
      "application/vnd.google.colaboratory.intrinsic+json": {
       "type": "string"
      },
      "text/plain": [
       "'red'"
      ]
     },
     "execution_count": 199,
     "metadata": {},
     "output_type": "execute_result"
    }
   ],
   "source": [
    "# Print the object attribute color\n",
    "RedCircle.color"
   ]
  },
  {
   "cell_type": "markdown",
   "id": "fb99eaba-ab30-449c-9af9-2c2e09ee863d",
   "metadata": {
    "id": "fb99eaba-ab30-449c-9af9-2c2e09ee863d"
   },
   "source": [
    "We can change the object's data attributes:\n"
   ]
  },
  {
   "cell_type": "code",
   "execution_count": 200,
   "id": "5d5f6162-db72-40ee-b8c2-70bb2a86a7a4",
   "metadata": {
    "colab": {
     "base_uri": "https://localhost:8080/"
    },
    "id": "5d5f6162-db72-40ee-b8c2-70bb2a86a7a4",
    "outputId": "8e6b70ec-77c4-49be-a296-8679d5bad0bc"
   },
   "outputs": [
    {
     "data": {
      "text/plain": [
       "1"
      ]
     },
     "execution_count": 200,
     "metadata": {},
     "output_type": "execute_result"
    }
   ],
   "source": [
    "# Set the object attribute radius\n",
    "RedCircle.radius = 1\n",
    "RedCircle.radius"
   ]
  },
  {
   "cell_type": "markdown",
   "id": "ed0b24a9-1d76-45f4-8dfd-6788598035cd",
   "metadata": {
    "id": "ed0b24a9-1d76-45f4-8dfd-6788598035cd"
   },
   "source": [
    "We can draw the object by using the method <code>drawCircle()</code>:\n"
   ]
  },
  {
   "cell_type": "code",
   "execution_count": 201,
   "id": "afc344d2-b2e5-4d82-bf1c-77e798c0c860",
   "metadata": {
    "colab": {
     "base_uri": "https://localhost:8080/",
     "height": 430
    },
    "id": "afc344d2-b2e5-4d82-bf1c-77e798c0c860",
    "outputId": "aa87f07a-9577-4310-c536-3aee2be710ce"
   },
   "outputs": [
    {
     "data": {
      "image/png": "[encoded data removed]",
      "text/plain": [
       "<Figure size 640x480 with 1 Axes>"
      ]
     },
     "metadata": {},
     "output_type": "display_data"
    }
   ],
   "source": [
    "# Call the method drawCircle\n",
    "RedCircle.drawCircle()"
   ]
  },
  {
   "cell_type": "markdown",
   "id": "e3b4db5c-03bb-469b-848a-519d15c9369f",
   "metadata": {
    "id": "e3b4db5c-03bb-469b-848a-519d15c9369f"
   },
   "source": [
    "We can increase the radius of the circle by applying the method <code>add_radius()</code>. Let's increases the radius by 2 and then by 5:\n"
   ]
  },
  {
   "cell_type": "code",
   "execution_count": 202,
   "id": "c496e4ad-1f6e-48b3-9ee8-fa91725c8000",
   "metadata": {
    "colab": {
     "base_uri": "https://localhost:8080/"
    },
    "id": "c496e4ad-1f6e-48b3-9ee8-fa91725c8000",
    "outputId": "ceaa0945-1170-41d7-9761-3440d372fd05"
   },
   "outputs": [
    {
     "name": "stdout",
     "output_type": "stream",
     "text": [
      "Radius of object: 1\n",
      "Radius of object of after applying the method add_radius(2): 3\n",
      "Radius of object of after applying the method add_radius(5): 8\n"
     ]
    }
   ],
   "source": [
    "# Use method to change the object attribute radius\n",
    "print('Radius of object:',RedCircle.radius)\n",
    "RedCircle.add_radius(2)\n",
    "print('Radius of object of after applying the method add_radius(2):',RedCircle.radius)\n",
    "RedCircle.add_radius(5)\n",
    "print('Radius of object of after applying the method add_radius(5):',RedCircle.radius)"
   ]
  },
  {
   "cell_type": "markdown",
   "id": "5defde42-f14f-4ca0-8425-c34401f32bc1",
   "metadata": {
    "id": "5defde42-f14f-4ca0-8425-c34401f32bc1"
   },
   "source": [
    "Let’s create a blue circle. As the default colour is blue, all we have to do is specify what the radius is:\n"
   ]
  },
  {
   "cell_type": "code",
   "execution_count": 203,
   "id": "2e83146d-4c4b-481b-92bb-8012845c774c",
   "metadata": {
    "id": "2e83146d-4c4b-481b-92bb-8012845c774c"
   },
   "outputs": [],
   "source": [
    "# Create a blue circle with a given radius\n",
    "BlueCircle = Circle(radius=100)"
   ]
  },
  {
   "cell_type": "markdown",
   "id": "565e1146-3722-400f-beed-eab748fae604",
   "metadata": {
    "id": "565e1146-3722-400f-beed-eab748fae604"
   },
   "source": [
    "As before, we can access the attributes of the instance of the class by using the dot notation:\n"
   ]
  },
  {
   "cell_type": "code",
   "execution_count": 204,
   "id": "700ad482-8af7-4f8e-8067-dc8424b49342",
   "metadata": {
    "colab": {
     "base_uri": "https://localhost:8080/"
    },
    "id": "700ad482-8af7-4f8e-8067-dc8424b49342",
    "outputId": "914ec966-f76b-4630-b8e2-b293ec8e9791"
   },
   "outputs": [
    {
     "data": {
      "text/plain": [
       "100"
      ]
     },
     "execution_count": 204,
     "metadata": {},
     "output_type": "execute_result"
    }
   ],
   "source": [
    "# Print the object attribute radius\n",
    "BlueCircle.radius"
   ]
  },
  {
   "cell_type": "markdown",
   "id": "52ca2793-cfe0-45a6-89a7-6762e7273430",
   "metadata": {
    "id": "52ca2793-cfe0-45a6-89a7-6762e7273430"
   },
   "source": [
    "<hr>\n"
   ]
  },
  {
   "cell_type": "markdown",
   "id": "26c7d2dd-bc3a-451e-bcec-06319f026eb0",
   "metadata": {
    "id": "26c7d2dd-bc3a-451e-bcec-06319f026eb0"
   },
   "source": [
    "<center>\n",
    "    \n",
    "# Scenario: Car dealership's inventory management system\n",
    "\n",
    "</center>\n"
   ]
  },
  {
   "cell_type": "markdown",
   "id": "cbdbb186-5f4c-4640-99cf-659e69de3e1e",
   "metadata": {
    "id": "cbdbb186-5f4c-4640-99cf-659e69de3e1e"
   },
   "source": [
    "You are working on a Python program to simulate a car dealership's inventory management system. The system aims to model cars and their attributes accurately.\n"
   ]
  },
  {
   "cell_type": "markdown",
   "id": "b0cba00d-0353-40f7-8aac-a00222490098",
   "metadata": {
    "id": "b0cba00d-0353-40f7-8aac-a00222490098"
   },
   "source": [
    "### Task-1. You are tasked with creating a Python program to represent vehicles using a class. Each car should have attributes for maximum speed and mileage.\n"
   ]
  },
  {
   "cell_type": "code",
   "execution_count": 205,
   "id": "7e604c71-2544-498f-afb3-69cb307ed7fc",
   "metadata": {
    "id": "7e604c71-2544-498f-afb3-69cb307ed7fc"
   },
   "outputs": [],
   "source": [
    "#Type your code here"
   ]
  },
  {
   "cell_type": "markdown",
   "id": "2da449c3-980a-4ae2-a4b8-bf807f6ccb37",
   "metadata": {
    "id": "2da449c3-980a-4ae2-a4b8-bf807f6ccb37"
   },
   "source": [
    "<details><summary>Click here for the solution</summary>\n",
    "\n",
    "```python\n",
    "\n",
    "class Vehicle:\n",
    "    def __init__(self, max_speed, mileage):\n",
    "        self.max_speed = max_speed\n",
    "        self.mileage = mileage\n",
    "        \n",
    "```\n",
    "\n",
    "</details>\n"
   ]
  },
  {
   "cell_type": "markdown",
   "id": "05d91b3d-6fc4-4b45-b050-80cfae413668",
   "metadata": {
    "id": "05d91b3d-6fc4-4b45-b050-80cfae413668"
   },
   "source": [
    "### Task-2. Update the class with the default color for all vehicles,\" white\".\n"
   ]
  },
  {
   "cell_type": "code",
   "execution_count": 206,
   "id": "4ca4e8d8-ee71-4c34-ab7a-83de338df986",
   "metadata": {
    "id": "4ca4e8d8-ee71-4c34-ab7a-83de338df986"
   },
   "outputs": [],
   "source": [
    "#Type your code here"
   ]
  },
  {
   "cell_type": "markdown",
   "id": "7bcd6b3e-3a2c-4b74-a5b7-c694b1551dd0",
   "metadata": {
    "id": "7bcd6b3e-3a2c-4b74-a5b7-c694b1551dd0"
   },
   "source": [
    "<details><summary>Click here for the solution</summary>\n",
    "\n",
    "```python\n",
    "\n",
    "class Vehicle:\n",
    "    color = \"white\"\n",
    "\n",
    "    def __init__(self, max_speed, mileage):\n",
    "        self.max_speed = max_speed\n",
    "        self.mileage = mileage\n",
    "        \n",
    "```\n",
    "\n",
    "</details>\n"
   ]
  },
  {
   "cell_type": "markdown",
   "id": "85217890-5d8c-4847-87f3-324e5ee77606",
   "metadata": {
    "id": "85217890-5d8c-4847-87f3-324e5ee77606"
   },
   "source": [
    "### Task-3. Additionally, you need to create methods in the Vehicle class to assign seating capacity to a vehicle.\n"
   ]
  },
  {
   "cell_type": "code",
   "execution_count": 207,
   "id": "6e47ed7d-6edf-410f-8718-18db10ec70e4",
   "metadata": {
    "id": "6e47ed7d-6edf-410f-8718-18db10ec70e4"
   },
   "outputs": [],
   "source": [
    "#Type your code here"
   ]
  },
  {
   "cell_type": "markdown",
   "id": "1bb15c8b-b242-46a7-b044-a2beb1683578",
   "metadata": {
    "id": "1bb15c8b-b242-46a7-b044-a2beb1683578"
   },
   "source": [
    "<details><summary>Click here for the solution</summary>\n",
    "\n",
    "```python\n",
    "\n",
    "class Vehicle:\n",
    "    color = \"white\"\n",
    "\n",
    "    def __init__(self, max_speed, mileage):\n",
    "        self.max_speed = max_speed\n",
    "        self.mileage = mileage\n",
    "        self.seating_capacity = None\n",
    "\n",
    "    def assign_seating_capacity(self, seating_capacity):\n",
    "        self.seating_capacity = seating_capacity\n",
    "```\n",
    "\n",
    "</details>\n"
   ]
  },
  {
   "cell_type": "markdown",
   "id": "0f3844f7-929f-4d8b-b18a-27ce28a9c685",
   "metadata": {
    "id": "0f3844f7-929f-4d8b-b18a-27ce28a9c685"
   },
   "source": [
    "### Task-4. Create a method to display all the properties of an object of the class.\n"
   ]
  },
  {
   "cell_type": "code",
   "execution_count": 208,
   "id": "45276853-01ca-470c-9c63-752947c8eac5",
   "metadata": {
    "id": "45276853-01ca-470c-9c63-752947c8eac5"
   },
   "outputs": [],
   "source": [
    "#Type your code here"
   ]
  },
  {
   "cell_type": "markdown",
   "id": "0b4962db-8cec-422c-92c2-3cddd33db27a",
   "metadata": {
    "id": "0b4962db-8cec-422c-92c2-3cddd33db27a"
   },
   "source": [
    "<details><summary>Click here for the solution</summary>\n",
    "\n",
    "```python\n",
    "class Vehicle:\n",
    "    color = \"white\"\n",
    "\n",
    "    def __init__(self, max_speed, mileage):\n",
    "        self.max_speed = max_speed\n",
    "        self.mileage = mileage\n",
    "        self.seating_capacity = None\n",
    "\n",
    "    def assign_seating_capacity(self, seating_capacity):\n",
    "        self.seating_capacity = seating_capacity\n",
    "\n",
    "    def display_properties(self):\n",
    "        print(\"Properties of the Vehicle:\")\n",
    "        print(\"Color:\", self.color)\n",
    "        print(\"Maximum Speed:\", self.max_speed)\n",
    "        print(\"Mileage:\", self.mileage)\n",
    "        print(\"Seating Capacity:\", self.seating_capacity)\n",
    "        \n",
    "```\n",
    "\n",
    "</details>\n"
   ]
  },
  {
   "cell_type": "markdown",
   "id": "0d41d087-94a7-46ee-aa4e-98e7064b57a5",
   "metadata": {
    "id": "0d41d087-94a7-46ee-aa4e-98e7064b57a5"
   },
   "source": [
    "### Task-5. Additionally, you need to create two objects of the Vehicle class object that should have a max speed of 200kph and mileage of 50000kmpl with five seating capacities, and another car object should have a max speed of 180kph and 75000kmpl with four seating capacities.\n"
   ]
  },
  {
   "cell_type": "code",
   "execution_count": 209,
   "id": "00149df6-43dc-43b9-821e-b5b45bc33c79",
   "metadata": {
    "id": "00149df6-43dc-43b9-821e-b5b45bc33c79"
   },
   "outputs": [],
   "source": [
    "#Type your code here"
   ]
  },
  {
   "cell_type": "markdown",
   "id": "dcfd7f71-afd6-4b70-ab24-2d913e501c1a",
   "metadata": {
    "id": "dcfd7f71-afd6-4b70-ab24-2d913e501c1a"
   },
   "source": [
    "<details><summary>Click here for the solution</summary>\n",
    "\n",
    "```python\n",
    "class Vehicle:\n",
    "    color = \"white\"\n",
    "\n",
    "    def __init__(self, max_speed, mileage):\n",
    "        self.max_speed = max_speed\n",
    "        self.mileage = mileage\n",
    "        self.seating_capacity = None\n",
    "\n",
    "    def assign_seating_capacity(self, seating_capacity):\n",
    "        self.seating_capacity = seating_capacity\n",
    "\n",
    "    def display_properties(self):\n",
    "        print(\"Properties of the Vehicle:\")\n",
    "        print(\"Color:\", self.color)\n",
    "        print(\"Maximum Speed:\", self.max_speed)\n",
    "        print(\"Mileage:\", self.mileage)\n",
    "        print(\"Seating Capacity:\", self.seating_capacity)\n",
    "\n",
    "# Creating objects of the Vehicle class\n",
    "vehicle1 = Vehicle(200, 50000)\n",
    "vehicle1.assign_seating_capacity(5)\n",
    "vehicle1.display_properties()\n",
    "\n",
    "vehicle2 = Vehicle(180, 75000)\n",
    "vehicle2.assign_seating_capacity(4)\n",
    "vehicle2.display_properties()\n",
    "\n",
    "```\n",
    "\n",
    "</details>\n"
   ]
  },
  {
   "cell_type": "markdown",
   "id": "120896c5",
   "metadata": {
    "id": "120896c5"
   },
   "source": [
    "# Python Modules"
   ]
  },
  {
   "cell_type": "markdown",
   "id": "b6a4ec95",
   "metadata": {
    "id": "b6a4ec95"
   },
   "source": [
    "A file containing a set of functions you want to include in your application.\n",
    "\n",
    "To create a module just save the code you want in a file with the file extension .py\n",
    "\n",
    "Save this code in a file named **myClass.py**\n",
    "\n",
    "- def Printing(name):\n",
    "   -  print(\"Hello, \" + name)\n",
    "  \n",
    "Use a Module: Now we can use the module we just created, by using the import statement"
   ]
  },
  {
   "cell_type": "code",
   "execution_count": 210,
   "id": "96f96d0c",
   "metadata": {
    "colab": {
     "base_uri": "https://localhost:8080/",
     "height": 362
    },
    "id": "96f96d0c",
    "outputId": "9e999615-4552-4523-e8cc-252a11153000"
   },
   "outputs": [
    {
     "ename": "ModuleNotFoundError",
     "errorDetails": {
      "actions": [
       {
        "action": "open_url",
        "actionText": "Open Examples",
        "url": "/notebooks/snippets/importing_libraries.ipynb"
       }
      ]
     },
     "evalue": "No module named 'myClass'",
     "output_type": "error",
     "traceback": [
      "\u001b[0;31m---------------------------------------------------------------------------\u001b[0m",
      "\u001b[0;31mModuleNotFoundError\u001b[0m                       Traceback (most recent call last)",
      "\u001b[0;32m<ipython-input-210-0300e35f203f>\u001b[0m in \u001b[0;36m<cell line: 0>\u001b[0;34m()\u001b[0m\n\u001b[0;32m----> 1\u001b[0;31m \u001b[0;32mimport\u001b[0m \u001b[0mmyClass\u001b[0m\u001b[0;34m\u001b[0m\u001b[0;34m\u001b[0m\u001b[0m\n\u001b[0m\u001b[1;32m      2\u001b[0m \u001b[0;34m\u001b[0m\u001b[0m\n\u001b[1;32m      3\u001b[0m \u001b[0mmyClass\u001b[0m\u001b[0;34m.\u001b[0m\u001b[0mPrinting\u001b[0m\u001b[0;34m(\u001b[0m\u001b[0;34m\"hossam\"\u001b[0m\u001b[0;34m)\u001b[0m\u001b[0;34m\u001b[0m\u001b[0;34m\u001b[0m\u001b[0m\n",
      "\u001b[0;31mModuleNotFoundError\u001b[0m: No module named 'myClass'",
      "",
      "\u001b[0;31m---------------------------------------------------------------------------\u001b[0;32m\nNOTE: If your import is failing due to a missing package, you can\nmanually install dependencies using either !pip or !apt.\n\nTo view examples of installing some common dependencies, click the\n\"Open Examples\" button below.\n\u001b[0;31m---------------------------------------------------------------------------\u001b[0m\n"
     ]
    }
   ],
   "source": [
    "import myClass\n",
    "\n",
    "myClass.Printing(\"hossam\")"
   ]
  },
  {
   "cell_type": "markdown",
   "id": "fcf2edde-c3eb-4578-9ec6-aa0a3fba4a0a",
   "metadata": {
    "id": "fcf2edde-c3eb-4578-9ec6-aa0a3fba4a0a"
   },
   "source": [
    "To create a module just save the code you want in a file with the file extension .py\n",
    "\n",
    "Save this code in a file named **myClass1.py**\n",
    "\n",
    "- person1={'age':0}\n",
    "  \n",
    "Use a Module: Now we can use the module we just created, by using the import statement"
   ]
  },
  {
   "cell_type": "code",
   "execution_count": null,
   "id": "7042d889",
   "metadata": {
    "id": "7042d889"
   },
   "outputs": [],
   "source": [
    "#Type your code here\n"
   ]
  },
  {
   "cell_type": "markdown",
   "id": "f8a6ecb6",
   "metadata": {
    "id": "f8a6ecb6"
   },
   "source": [
    "<details><summary>Click here for the solution</summary>\n",
    "\n",
    "```python\n",
    "import myClass1\n",
    "a = myClass1.person1[\"age\"]\n",
    "print(a)\n",
    "```\n",
    "\n",
    "</details>\n"
   ]
  },
  {
   "cell_type": "markdown",
   "id": "20a840cc-b213-40a1-9e6b-4e7a3e542283",
   "metadata": {
    "id": "20a840cc-b213-40a1-9e6b-4e7a3e542283"
   },
   "source": [
    "## Math library"
   ]
  },
  {
   "cell_type": "code",
   "execution_count": 211,
   "id": "db7baea4-7f05-4151-a30b-d3949b07acee",
   "metadata": {
    "id": "db7baea4-7f05-4151-a30b-d3949b07acee"
   },
   "outputs": [],
   "source": [
    "import math"
   ]
  },
  {
   "cell_type": "code",
   "execution_count": 212,
   "id": "8dde4f1c-2258-49b3-83bc-54c005b08fb4",
   "metadata": {
    "colab": {
     "base_uri": "https://localhost:8080/"
    },
    "id": "8dde4f1c-2258-49b3-83bc-54c005b08fb4",
    "outputId": "2a8245a1-2882-40df-81f3-376e71af81f7"
   },
   "outputs": [
    {
     "name": "stdout",
     "output_type": "stream",
     "text": [
      "2.718281828459045\n"
     ]
    }
   ],
   "source": [
    "print (math.e)"
   ]
  },
  {
   "cell_type": "code",
   "execution_count": 213,
   "id": "bb139979-a618-422c-bc20-012d2bc93d14",
   "metadata": {
    "colab": {
     "base_uri": "https://localhost:8080/"
    },
    "id": "bb139979-a618-422c-bc20-012d2bc93d14",
    "outputId": "d4e0301c-f5a9-435a-90c8-65665d5a46f2"
   },
   "outputs": [
    {
     "name": "stdout",
     "output_type": "stream",
     "text": [
      "3.141592653589793\n"
     ]
    }
   ],
   "source": [
    "print (math.pi)"
   ]
  },
  {
   "cell_type": "code",
   "execution_count": 214,
   "id": "27f72d09-6063-422d-b48a-39ef22947ac1",
   "metadata": {
    "colab": {
     "base_uri": "https://localhost:8080/"
    },
    "id": "27f72d09-6063-422d-b48a-39ef22947ac1",
    "outputId": "038e1d9b-6aa5-4010-b154-eda4d619115b"
   },
   "outputs": [
    {
     "name": "stdout",
     "output_type": "stream",
     "text": [
      "inf\n",
      "-inf\n"
     ]
    }
   ],
   "source": [
    "print (math.inf)\n",
    "print (-math.inf)"
   ]
  },
  {
   "cell_type": "markdown",
   "id": "3a5b93ba-fa2b-4316-b4f7-13d99c4358be",
   "metadata": {
    "id": "3a5b93ba-fa2b-4316-b4f7-13d99c4358be"
   },
   "source": [
    "- ceil(x)\n",
    "    - Returns the smallest integral value greater than the number\n",
    " - floor(x)\n",
    "    - Returns the greatest integral value smaller than the number"
   ]
  },
  {
   "cell_type": "code",
   "execution_count": 215,
   "id": "277cc1d6-f376-45b9-9049-7bc94ad16ee8",
   "metadata": {
    "id": "277cc1d6-f376-45b9-9049-7bc94ad16ee8"
   },
   "outputs": [],
   "source": [
    "import math as m"
   ]
  },
  {
   "cell_type": "code",
   "execution_count": 216,
   "id": "0016ebdc-2965-4733-8550-caf8809c746e",
   "metadata": {
    "colab": {
     "base_uri": "https://localhost:8080/"
    },
    "id": "0016ebdc-2965-4733-8550-caf8809c746e",
    "outputId": "86efc4f5-9e3b-407d-adea-1430e9940604"
   },
   "outputs": [
    {
     "name": "stdout",
     "output_type": "stream",
     "text": [
      "The ceil of 2.3 is : 3\n"
     ]
    }
   ],
   "source": [
    "a = 2.3\n",
    "print (\"The ceil of 2.3 is : \", end=\"\")\n",
    "print (m.ceil(a))"
   ]
  },
  {
   "cell_type": "code",
   "execution_count": 217,
   "id": "bde5ca08-228a-4347-81fb-2d391dc2ebce",
   "metadata": {
    "colab": {
     "base_uri": "https://localhost:8080/"
    },
    "id": "bde5ca08-228a-4347-81fb-2d391dc2ebce",
    "outputId": "42725e60-ffb4-4894-c106-a4e87678c70b"
   },
   "outputs": [
    {
     "name": "stdout",
     "output_type": "stream",
     "text": [
      "The floor of 2.3 is : 2\n"
     ]
    }
   ],
   "source": [
    "print (\"The floor of 2.3 is : \", end=\"\")\n",
    "print (m.floor(a))"
   ]
  },
  {
   "cell_type": "markdown",
   "id": "6f09fe29-459b-4920-9e6c-20bc91f276c0",
   "metadata": {
    "id": "6f09fe29-459b-4920-9e6c-20bc91f276c0"
   },
   "source": [
    "- round(number,index)"
   ]
  },
  {
   "cell_type": "raw",
   "id": "128431d8-2358-4e16-823c-ddc5967e75bc",
   "metadata": {
    "id": "128431d8-2358-4e16-823c-ddc5967e75bc"
   },
   "source": [
    "round(10)"
   ]
  },
  {
   "cell_type": "code",
   "execution_count": 218,
   "id": "a29586fe-920b-48da-9658-c633d428f773",
   "metadata": {
    "colab": {
     "base_uri": "https://localhost:8080/"
    },
    "id": "a29586fe-920b-48da-9658-c633d428f773",
    "outputId": "b5f76755-7f66-4f03-dd14-7c50d02b17a2"
   },
   "outputs": [
    {
     "data": {
      "text/plain": [
       "0.065"
      ]
     },
     "execution_count": 218,
     "metadata": {},
     "output_type": "execute_result"
    }
   ],
   "source": [
    "round(0.0652551455,3)"
   ]
  },
  {
   "cell_type": "code",
   "execution_count": 219,
   "id": "ed933e6f-19a6-4eb2-b38e-f655e1c61506",
   "metadata": {
    "colab": {
     "base_uri": "https://localhost:8080/"
    },
    "id": "ed933e6f-19a6-4eb2-b38e-f655e1c61506",
    "outputId": "ba508ce8-9a61-4f6b-9f12-0899c608f81e"
   },
   "outputs": [
    {
     "data": {
      "text/plain": [
       "10.0"
      ]
     },
     "execution_count": 219,
     "metadata": {},
     "output_type": "execute_result"
    }
   ],
   "source": [
    "round(05.54,-1)"
   ]
  },
  {
   "cell_type": "code",
   "execution_count": 220,
   "id": "2b044660-30a4-4f35-a27d-213870487915",
   "metadata": {
    "colab": {
     "base_uri": "https://localhost:8080/"
    },
    "id": "2b044660-30a4-4f35-a27d-213870487915",
    "outputId": "fc906795-5f53-46cd-d12c-524f35ced290"
   },
   "outputs": [
    {
     "data": {
      "text/plain": [
       "5.5"
      ]
     },
     "execution_count": 220,
     "metadata": {},
     "output_type": "execute_result"
    }
   ],
   "source": [
    "round(5.54,1)"
   ]
  },
  {
   "cell_type": "markdown",
   "id": "8ae32e54-fd51-4866-bee2-255700ff8d65",
   "metadata": {
    "id": "8ae32e54-fd51-4866-bee2-255700ff8d65"
   },
   "source": [
    "## Random Library"
   ]
  },
  {
   "cell_type": "code",
   "execution_count": 221,
   "id": "47860530-4cb2-4f90-b9b4-14a034a10e41",
   "metadata": {
    "id": "47860530-4cb2-4f90-b9b4-14a034a10e41"
   },
   "outputs": [],
   "source": [
    "import random"
   ]
  },
  {
   "cell_type": "markdown",
   "id": "6723d978-914b-433c-88bc-8bd8ccbee071",
   "metadata": {
    "id": "6723d978-914b-433c-88bc-8bd8ccbee071"
   },
   "source": [
    "- The seed makes these numbers the same every time you run the code with same value of seed"
   ]
  },
  {
   "cell_type": "code",
   "execution_count": 222,
   "id": "52b84ed4-24bb-435e-83dd-7410d59c3199",
   "metadata": {
    "id": "52b84ed4-24bb-435e-83dd-7410d59c3199"
   },
   "outputs": [],
   "source": [
    "random.seed(5)"
   ]
  },
  {
   "cell_type": "markdown",
   "id": "b8392e63-c724-4b3c-9627-e850f31f1a0b",
   "metadata": {
    "id": "b8392e63-c724-4b3c-9627-e850f31f1a0b"
   },
   "source": [
    "- choice() function. It prints a random element from the list."
   ]
  },
  {
   "cell_type": "code",
   "execution_count": 223,
   "id": "4dbb1b66-70bd-4a62-89e3-2812f61687f6",
   "metadata": {
    "colab": {
     "base_uri": "https://localhost:8080/"
    },
    "id": "4dbb1b66-70bd-4a62-89e3-2812f61687f6",
    "outputId": "2569f0f2-985d-4302-beff-6cf4104c52f7"
   },
   "outputs": [
    {
     "name": "stdout",
     "output_type": "stream",
     "text": [
      "5\n"
     ]
    }
   ],
   "source": [
    "random.seed(5)\n",
    "list1 = [1, 2, 3, 4, 5, 6]\n",
    "print(random.choice(list1))"
   ]
  },
  {
   "cell_type": "markdown",
   "id": "781b0fe0-17fb-4639-99c7-2150a0e32579",
   "metadata": {
    "id": "781b0fe0-17fb-4639-99c7-2150a0e32579"
   },
   "source": [
    "- print random floating-point numbers between 0 and 1 using random.random()."
   ]
  },
  {
   "cell_type": "code",
   "execution_count": 224,
   "id": "70c79b5d-1917-4551-9668-d2201cf4ce96",
   "metadata": {
    "colab": {
     "base_uri": "https://localhost:8080/"
    },
    "id": "70c79b5d-1917-4551-9668-d2201cf4ce96",
    "outputId": "0ade30b3-d463-4295-c1fb-5529049910a5"
   },
   "outputs": [
    {
     "name": "stdout",
     "output_type": "stream",
     "text": [
      "0.2554450164868458\n"
     ]
    }
   ],
   "source": [
    "print(random.random())"
   ]
  },
  {
   "cell_type": "markdown",
   "id": "49b54730-4a1f-472e-94c7-47c9e0f70045",
   "metadata": {
    "id": "49b54730-4a1f-472e-94c7-47c9e0f70045"
   },
   "source": [
    "- shuffle() method is used to shuffle a sequence (list)."
   ]
  },
  {
   "cell_type": "code",
   "execution_count": 225,
   "id": "334eca86-778b-4cc0-987a-da0a6433e5d2",
   "metadata": {
    "colab": {
     "base_uri": "https://localhost:8080/"
    },
    "id": "334eca86-778b-4cc0-987a-da0a6433e5d2",
    "outputId": "1312619c-394d-48bd-89df-a8fbb1a490f2"
   },
   "outputs": [
    {
     "name": "stdout",
     "output_type": "stream",
     "text": [
      "[5, 4, 2, 1, 3]\n"
     ]
    }
   ],
   "source": [
    "sample_list = [1, 2, 3, 4, 5]\n",
    "\n",
    "random.shuffle(sample_list)\n",
    "print(sample_list)\n",
    "\n"
   ]
  },
  {
   "cell_type": "code",
   "execution_count": 225,
   "id": "4fc9e218-7da9-48a6-b5c6-9218319b35c4",
   "metadata": {
    "id": "4fc9e218-7da9-48a6-b5c6-9218319b35c4"
   },
   "outputs": [],
   "source": []
  },
  {
   "cell_type": "markdown",
   "id": "5fd86769",
   "metadata": {
    "id": "5fd86769"
   },
   "source": [
    "<hr>\n",
    "<p>Congratulations, you have completed this week.\n",
    "<hr>\n"
   ]
  }
 ],
 "metadata": {
  "colab": {
   "provenance": [],
   "toc_visible": true
  },
  "kernelspec": {
   "display_name": "Python 3 (ipykernel)",
   "language": "python",
   "name": "python3"
  },
  "language_info": {
   "codemirror_mode": {
    "name": "ipython",
    "version": 3
   },
   "file_extension": ".py",
   "mimetype": "text/x-python",
   "name": "python",
   "nbconvert_exporter": "python",
   "pygments_lexer": "ipython3",
   "version": "3.11.7"
  }
 },
 "nbformat": 4,
 "nbformat_minor": 5
}
