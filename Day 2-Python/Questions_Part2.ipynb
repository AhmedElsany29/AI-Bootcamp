{
 "cells": [
  {
   "cell_type": "markdown",
   "id": "1256b8ff",
   "metadata": {},
   "source": [
    "Write a loop that prints the numbers from 1 to 10. Use the `for` loop."
   ]
  },
  {
   "cell_type": "code",
   "execution_count": null,
   "id": "9630d265",
   "metadata": {},
   "outputs": [],
   "source": []
  },
  {
   "cell_type": "markdown",
   "id": "6e9075d8",
   "metadata": {},
   "source": [
    "Write a program that takes an input from the user and prints whether it is even or odd."
   ]
  },
  {
   "cell_type": "code",
   "execution_count": null,
   "id": "cb8930e0",
   "metadata": {},
   "outputs": [],
   "source": []
  },
  {
   "cell_type": "markdown",
   "id": "11ff294c",
   "metadata": {},
   "source": [
    "Define a list of numbers and use a loop to calculate and print their sum."
   ]
  },
  {
   "cell_type": "code",
   "execution_count": null,
   "id": "2a8d22f6",
   "metadata": {},
   "outputs": [],
   "source": []
  },
  {
   "cell_type": "markdown",
   "id": "c84cd8d7",
   "metadata": {},
   "source": [
    "Write a Python program that finds the largest number in a list of integers."
   ]
  },
  {
   "cell_type": "code",
   "execution_count": null,
   "id": "d5c017ff",
   "metadata": {},
   "outputs": [],
   "source": []
  },
  {
   "cell_type": "markdown",
   "id": "d8f19eb7",
   "metadata": {},
   "source": [
    "Write a Python program to find the smallest number in a list of integers."
   ]
  },
  {
   "cell_type": "code",
   "execution_count": null,
   "id": "d9f1d916",
   "metadata": {},
   "outputs": [],
   "source": []
  },
  {
   "cell_type": "markdown",
   "id": "40e3b1e0",
   "metadata": {},
   "source": [
    "Define a list of numbers and print only the even numbers using a loop."
   ]
  },
  {
   "cell_type": "code",
   "execution_count": null,
   "id": "f300a9fc",
   "metadata": {},
   "outputs": [],
   "source": []
  },
  {
   "cell_type": "markdown",
   "id": "54ca6f6b",
   "metadata": {},
   "source": [
    "Write a program to count how many times a specific number appears in a list."
   ]
  },
  {
   "cell_type": "code",
   "execution_count": null,
   "id": "716577b3",
   "metadata": {},
   "outputs": [],
   "source": []
  },
  {
   "cell_type": "markdown",
   "id": "c6169638",
   "metadata": {},
   "source": [
    " Create a list of numbers and sort it in ascending order. Print the sorted list."
   ]
  },
  {
   "cell_type": "code",
   "execution_count": null,
   "id": "3cb58a3a",
   "metadata": {},
   "outputs": [],
   "source": []
  },
  {
   "cell_type": "markdown",
   "id": "cc63e742",
   "metadata": {},
   "source": [
    " Write a Python program to check if a string is a palindrome (reads the same backward)."
   ]
  },
  {
   "cell_type": "code",
   "execution_count": null,
   "id": "608c91c1",
   "metadata": {},
   "outputs": [],
   "source": []
  },
  {
   "cell_type": "markdown",
   "id": "b282532b",
   "metadata": {},
   "source": [
    " Write a function that takes a list of numbers and returns their average."
   ]
  },
  {
   "cell_type": "code",
   "execution_count": null,
   "id": "b07cb4fb",
   "metadata": {},
   "outputs": [],
   "source": []
  },
  {
   "cell_type": "markdown",
   "id": "99fa3cc2",
   "metadata": {},
   "source": [
    " Use a `while` loop to print numbers from 10 down to 1."
   ]
  },
  {
   "cell_type": "code",
   "execution_count": null,
   "id": "36b01277",
   "metadata": {},
   "outputs": [],
   "source": []
  },
  {
   "cell_type": "markdown",
   "id": "d01b6924",
   "metadata": {},
   "source": [
    " Write a program to calculate the sum of all numbers from 1 to a user-provided number."
   ]
  },
  {
   "cell_type": "code",
   "execution_count": null,
   "id": "9e9746c3",
   "metadata": {},
   "outputs": [],
   "source": []
  },
  {
   "cell_type": "markdown",
   "id": "adb4bf35",
   "metadata": {},
   "source": [
    " Define a function that checks whether a number is prime or not."
   ]
  },
  {
   "cell_type": "code",
   "execution_count": null,
   "id": "0c0d5c69",
   "metadata": {},
   "outputs": [],
   "source": []
  },
  {
   "cell_type": "markdown",
   "id": "ddcd0607",
   "metadata": {},
   "source": [
    " Define a dictionary with three key-value pairs and iterate through its keys and values."
   ]
  },
  {
   "cell_type": "code",
   "execution_count": null,
   "id": "902ad2e5",
   "metadata": {},
   "outputs": [],
   "source": []
  },
  {
   "cell_type": "markdown",
   "id": "fdcc811d",
   "metadata": {},
   "source": [
    " Write a program to merge two dictionaries into one."
   ]
  },
  {
   "cell_type": "code",
   "execution_count": null,
   "id": "09de5f04",
   "metadata": {},
   "outputs": [],
   "source": []
  },
  {
   "cell_type": "markdown",
   "id": "7b7a2809",
   "metadata": {},
   "source": [
    " Write a Python program to find the second largest number in a list."
   ]
  },
  {
   "cell_type": "code",
   "execution_count": null,
   "id": "2a4ca84d",
   "metadata": {},
   "outputs": [],
   "source": []
  },
  {
   "cell_type": "markdown",
   "id": "d968d9ae",
   "metadata": {},
   "source": [
    " Define a function that takes a list of numbers and returns a new list with only the odd numbers."
   ]
  },
  {
   "cell_type": "code",
   "execution_count": null,
   "id": "f61ebf43",
   "metadata": {},
   "outputs": [],
   "source": []
  }
 ],
 "metadata": {
  "kernelspec": {
   "display_name": "Python 3 (ipykernel)",
   "language": "python",
   "name": "python3"
  },
  "language_info": {
   "codemirror_mode": {
    "name": "ipython",
    "version": 3
   },
   "file_extension": ".py",
   "mimetype": "text/x-python",
   "name": "python",
   "nbconvert_exporter": "python",
   "pygments_lexer": "ipython3",
   "version": "3.11.7"
  }
 },
 "nbformat": 4,
 "nbformat_minor": 5
}
