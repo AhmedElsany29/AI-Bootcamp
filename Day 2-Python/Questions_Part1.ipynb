{
 "cells": [
  {
   "cell_type": "markdown",
   "id": "cb517fec",
   "metadata": {},
   "source": [
    "Define variables of different data types: integer, float, string, boolean, and None. Print their types using the `type()` function."
   ]
  },
  {
   "cell_type": "code",
   "execution_count": null,
   "id": "ba5da7a9",
   "metadata": {},
   "outputs": [],
   "source": []
  },
  {
   "cell_type": "markdown",
   "id": "82414ae0",
   "metadata": {},
   "source": [
    "Create a string variable called `name` with your name, an integer variable `age` with your age, and a boolean variable `is_student`. Print their values."
   ]
  },
  {
   "cell_type": "code",
   "execution_count": null,
   "id": "8cf82c2c",
   "metadata": {},
   "outputs": [],
   "source": []
  },
  {
   "cell_type": "markdown",
   "id": "b0c8be7e",
   "metadata": {},
   "source": [
    "Define a complex number variable and print its real and imaginary parts."
   ]
  },
  {
   "cell_type": "code",
   "execution_count": null,
   "id": "87cb9f66",
   "metadata": {},
   "outputs": [],
   "source": []
  },
  {
   "cell_type": "markdown",
   "id": "40dc0f6e",
   "metadata": {},
   "source": [
    "Create two variables, `x` and `y`, and assign them values using `range()`. Print their values."
   ]
  },
  {
   "cell_type": "code",
   "execution_count": null,
   "id": "2e336568",
   "metadata": {},
   "outputs": [],
   "source": []
  },
  {
   "cell_type": "markdown",
   "id": "5e1d4f8e",
   "metadata": {},
   "source": [
    "Use a `for` loop to iterate over the numbers 0 to 9 and print each number."
   ]
  },
  {
   "cell_type": "code",
   "execution_count": null,
   "id": "36862e07",
   "metadata": {},
   "outputs": [],
   "source": []
  },
  {
   "cell_type": "markdown",
   "id": "173f1011",
   "metadata": {},
   "source": [
    "Create two integer variables, add them, and print the result."
   ]
  },
  {
   "cell_type": "code",
   "execution_count": null,
   "id": "02775b4a",
   "metadata": {},
   "outputs": [],
   "source": []
  },
  {
   "cell_type": "markdown",
   "id": "eeea4ec3",
   "metadata": {},
   "source": [
    "Define a string variable and print its length using the `len()` function."
   ]
  },
  {
   "cell_type": "code",
   "execution_count": null,
   "id": "62e29236",
   "metadata": {},
   "outputs": [],
   "source": []
  },
  {
   "cell_type": "markdown",
   "id": "7996cf37",
   "metadata": {},
   "source": [
    "Create a string and convert it to uppercase using the `.upper()` method. Print the result."
   ]
  },
  {
   "cell_type": "code",
   "execution_count": null,
   "id": "451f9829",
   "metadata": {},
   "outputs": [],
   "source": []
  },
  {
   "cell_type": "markdown",
   "id": "79dac396",
   "metadata": {},
   "source": [
    "Define two float variables and divide one by the other. Print the result with two decimal places."
   ]
  },
  {
   "cell_type": "code",
   "execution_count": null,
   "id": "a0344654",
   "metadata": {},
   "outputs": [],
   "source": []
  },
  {
   "cell_type": "markdown",
   "id": "ae5ee0e9",
   "metadata": {},
   "source": [
    "Write a program to check if a given number is positive, negative, or zero."
   ]
  },
  {
   "cell_type": "code",
   "execution_count": null,
   "id": "21b34fc0",
   "metadata": {},
   "outputs": [],
   "source": []
  },
  {
   "cell_type": "markdown",
   "id": "14cfa781",
   "metadata": {},
   "source": [
    "Create a list of your five favorite fruits and print the list."
   ]
  },
  {
   "cell_type": "code",
   "execution_count": null,
   "id": "160b3dd2",
   "metadata": {},
   "outputs": [],
   "source": []
  },
  {
   "cell_type": "markdown",
   "id": "b60495c6",
   "metadata": {},
   "source": [
    "Add a new fruit to your list and print the updated list."
   ]
  },
  {
   "cell_type": "code",
   "execution_count": null,
   "id": "0447ebd7",
   "metadata": {},
   "outputs": [],
   "source": []
  },
  {
   "cell_type": "markdown",
   "id": "a6afa4d0",
   "metadata": {},
   "source": [
    "Remove the second fruit from your list and print the updated list."
   ]
  },
  {
   "cell_type": "code",
   "execution_count": null,
   "id": "3b727d89",
   "metadata": {},
   "outputs": [],
   "source": []
  },
  {
   "cell_type": "markdown",
   "id": "a3ef46d1",
   "metadata": {},
   "source": [
    " Write a Python program to calculate the square of a number provided by the user."
   ]
  },
  {
   "cell_type": "code",
   "execution_count": null,
   "id": "609c8025",
   "metadata": {},
   "outputs": [],
   "source": []
  },
  {
   "cell_type": "markdown",
   "id": "a569151a",
   "metadata": {},
   "source": [
    "Define a tuple containing three items and print its elements one by one using a loop."
   ]
  },
  {
   "cell_type": "code",
   "execution_count": null,
   "id": "fd87ee24",
   "metadata": {},
   "outputs": [],
   "source": []
  },
  {
   "cell_type": "markdown",
   "id": "7c71faf3",
   "metadata": {},
   "source": [
    "Create a dictionary to store the names and ages of three people. Print the dictionary."
   ]
  },
  {
   "cell_type": "code",
   "execution_count": null,
   "id": "6f1fd308",
   "metadata": {},
   "outputs": [],
   "source": []
  },
  {
   "cell_type": "markdown",
   "id": "4d85281b",
   "metadata": {},
   "source": [
    "Add a new person to your dictionary and print the updated dictionary."
   ]
  },
  {
   "cell_type": "code",
   "execution_count": null,
   "id": "3a128120",
   "metadata": {},
   "outputs": [],
   "source": []
  },
  {
   "cell_type": "markdown",
   "id": "48aeea85",
   "metadata": {},
   "source": [
    "Write a program to check if a given key exists in a dictionary."
   ]
  },
  {
   "cell_type": "code",
   "execution_count": null,
   "id": "d918a841",
   "metadata": {},
   "outputs": [],
   "source": []
  },
  {
   "cell_type": "markdown",
   "id": "4b814dca",
   "metadata": {},
   "source": [
    "Define a set with five unique items and print it."
   ]
  },
  {
   "cell_type": "code",
   "execution_count": null,
   "id": "58cb6a15",
   "metadata": {},
   "outputs": [],
   "source": []
  },
  {
   "cell_type": "markdown",
   "id": "8d8400dc",
   "metadata": {},
   "source": [
    "Add a new item to the set and print the updated set."
   ]
  },
  {
   "cell_type": "code",
   "execution_count": null,
   "id": "6f27cb1d",
   "metadata": {},
   "outputs": [],
   "source": []
  }
 ],
 "metadata": {
  "kernelspec": {
   "display_name": "Python (PyTorch CUDA)",
   "language": "python",
   "name": "pytorch_cuda"
  },
  "language_info": {
   "name": "python",
   "version": "3.10.6"
  }
 },
 "nbformat": 4,
 "nbformat_minor": 5
}
